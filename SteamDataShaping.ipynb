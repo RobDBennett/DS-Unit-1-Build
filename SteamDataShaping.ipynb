{
  "nbformat": 4,
  "nbformat_minor": 0,
  "metadata": {
    "colab": {
      "name": "SteamDataShaping.ipynb",
      "provenance": [],
      "authorship_tag": "ABX9TyMWEHgdk5ZQz1g1qrPL/4v3",
      "include_colab_link": true
    },
    "kernelspec": {
      "name": "python3",
      "display_name": "Python 3"
    }
  },
  "cells": [
    {
      "cell_type": "markdown",
      "metadata": {
        "id": "view-in-github",
        "colab_type": "text"
      },
      "source": [
        "<a href=\"https://colab.research.google.com/github/RobDBennett/DS-Unit-1-Build/blob/master/SteamDataShaping.ipynb\" target=\"_parent\"><img src=\"https://colab.research.google.com/assets/colab-badge.svg\" alt=\"Open In Colab\"/></a>"
      ]
    },
    {
      "cell_type": "markdown",
      "metadata": {
        "id": "jOYxabeTPTaK",
        "colab_type": "text"
      },
      "source": [
        "#Research Question:\n",
        "##How do people spend their time on Steam?\n",
        "Often times I see a game advertised (usually on a sale, or friends have hyped up), and I'll buy it. And then stop playing it almost immediately in favor of an 'old classic'. How many people share this tendency?\n",
        "\n",
        "For me personally, this is a trend that I noticed long ago and I've tried to curb it but it's tricky. There is just something satifying about buying a new game, and yet I find that I play my 'old favorites' far more than these new experiences. Wanting to understand if this is a known part of the business model of Steam or just a quirk I had, I looked for a some data on the subject."
      ]
    },
    {
      "cell_type": "code",
      "metadata": {
        "id": "kvrkxujVPLLo",
        "colab_type": "code",
        "outputId": "4de1d96a-f6c8-4a19-c34a-2b991141a570",
        "colab": {
          "resources": {
            "http://localhost:8080/nbextensions/google.colab/files.js": {
              "data": "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",
              "ok": true,
              "headers": [
                [
                  "content-type",
                  "application/javascript"
                ]
              ],
              "status": 200,
              "status_text": ""
            }
          },
          "base_uri": "https://localhost:8080/",
          "height": 74
        }
      },
      "source": [
        "import pandas as pd\n",
        "import numpy as np\n",
        "from google.colab import files\n",
        "uploaded = files.upload()\n",
        "column_headers= ['id','game','purchase','hours','0']\n"
      ],
      "execution_count": 1,
      "outputs": [
        {
          "output_type": "display_data",
          "data": {
            "text/html": [
              "\n",
              "     <input type=\"file\" id=\"files-c85f922b-1bea-45c7-8f79-64680d28cc67\" name=\"files[]\" multiple disabled />\n",
              "     <output id=\"result-c85f922b-1bea-45c7-8f79-64680d28cc67\">\n",
              "      Upload widget is only available when the cell has been executed in the\n",
              "      current browser session. Please rerun this cell to enable.\n",
              "      </output>\n",
              "      <script src=\"/nbextensions/google.colab/files.js\"></script> "
            ],
            "text/plain": [
              "<IPython.core.display.HTML object>"
            ]
          },
          "metadata": {
            "tags": []
          }
        },
        {
          "output_type": "stream",
          "text": [
            "Saving steam-200k.csv to steam-200k.csv\n"
          ],
          "name": "stdout"
        }
      ]
    },
    {
      "cell_type": "code",
      "metadata": {
        "id": "lpg6xjTYRY2k",
        "colab_type": "code",
        "outputId": "5868069c-150c-47d3-fcb7-60af6c842585",
        "colab": {
          "base_uri": "https://localhost:8080/",
          "height": 221
        }
      },
      "source": [
        "games = pd.read_csv('steam-200k.csv', header=None,names=column_headers)\n",
        "print(games.shape)\n",
        "games.head()"
      ],
      "execution_count": 2,
      "outputs": [
        {
          "output_type": "stream",
          "text": [
            "(200000, 5)\n"
          ],
          "name": "stdout"
        },
        {
          "output_type": "execute_result",
          "data": {
            "text/html": [
              "<div>\n",
              "<style scoped>\n",
              "    .dataframe tbody tr th:only-of-type {\n",
              "        vertical-align: middle;\n",
              "    }\n",
              "\n",
              "    .dataframe tbody tr th {\n",
              "        vertical-align: top;\n",
              "    }\n",
              "\n",
              "    .dataframe thead th {\n",
              "        text-align: right;\n",
              "    }\n",
              "</style>\n",
              "<table border=\"1\" class=\"dataframe\">\n",
              "  <thead>\n",
              "    <tr style=\"text-align: right;\">\n",
              "      <th></th>\n",
              "      <th>id</th>\n",
              "      <th>game</th>\n",
              "      <th>purchase</th>\n",
              "      <th>hours</th>\n",
              "      <th>0</th>\n",
              "    </tr>\n",
              "  </thead>\n",
              "  <tbody>\n",
              "    <tr>\n",
              "      <th>0</th>\n",
              "      <td>151603712</td>\n",
              "      <td>The Elder Scrolls V Skyrim</td>\n",
              "      <td>purchase</td>\n",
              "      <td>1.0</td>\n",
              "      <td>0</td>\n",
              "    </tr>\n",
              "    <tr>\n",
              "      <th>1</th>\n",
              "      <td>151603712</td>\n",
              "      <td>The Elder Scrolls V Skyrim</td>\n",
              "      <td>play</td>\n",
              "      <td>273.0</td>\n",
              "      <td>0</td>\n",
              "    </tr>\n",
              "    <tr>\n",
              "      <th>2</th>\n",
              "      <td>151603712</td>\n",
              "      <td>Fallout 4</td>\n",
              "      <td>purchase</td>\n",
              "      <td>1.0</td>\n",
              "      <td>0</td>\n",
              "    </tr>\n",
              "    <tr>\n",
              "      <th>3</th>\n",
              "      <td>151603712</td>\n",
              "      <td>Fallout 4</td>\n",
              "      <td>play</td>\n",
              "      <td>87.0</td>\n",
              "      <td>0</td>\n",
              "    </tr>\n",
              "    <tr>\n",
              "      <th>4</th>\n",
              "      <td>151603712</td>\n",
              "      <td>Spore</td>\n",
              "      <td>purchase</td>\n",
              "      <td>1.0</td>\n",
              "      <td>0</td>\n",
              "    </tr>\n",
              "  </tbody>\n",
              "</table>\n",
              "</div>"
            ],
            "text/plain": [
              "          id                        game  purchase  hours  0\n",
              "0  151603712  The Elder Scrolls V Skyrim  purchase    1.0  0\n",
              "1  151603712  The Elder Scrolls V Skyrim      play  273.0  0\n",
              "2  151603712                   Fallout 4  purchase    1.0  0\n",
              "3  151603712                   Fallout 4      play   87.0  0\n",
              "4  151603712                       Spore  purchase    1.0  0"
            ]
          },
          "metadata": {
            "tags": []
          },
          "execution_count": 2
        }
      ]
    },
    {
      "cell_type": "code",
      "metadata": {
        "id": "RrAZEPTxVaBS",
        "colab_type": "code",
        "colab": {}
      },
      "source": [
        "games = games.drop(['0'], axis=1)"
      ],
      "execution_count": 0,
      "outputs": []
    },
    {
      "cell_type": "code",
      "metadata": {
        "id": "DiV5pz7fRpTU",
        "colab_type": "code",
        "outputId": "268879d7-c701-4c82-a555-6ad75715ab62",
        "colab": {
          "resources": {
            "http://localhost:8080/nbextensions/google.colab/files.js": {
              "data": "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",
              "ok": true,
              "headers": [
                [
                  "content-type",
                  "application/javascript"
                ]
              ],
              "status": 200,
              "status_text": ""
            }
          },
          "base_uri": "https://localhost:8080/",
          "height": 74
        }
      },
      "source": [
        "uploaded= files.upload()"
      ],
      "execution_count": 4,
      "outputs": [
        {
          "output_type": "display_data",
          "data": {
            "text/html": [
              "\n",
              "     <input type=\"file\" id=\"files-70fac271-3763-4168-b3cb-c290b3330d38\" name=\"files[]\" multiple disabled />\n",
              "     <output id=\"result-70fac271-3763-4168-b3cb-c290b3330d38\">\n",
              "      Upload widget is only available when the cell has been executed in the\n",
              "      current browser session. Please rerun this cell to enable.\n",
              "      </output>\n",
              "      <script src=\"/nbextensions/google.colab/files.js\"></script> "
            ],
            "text/plain": [
              "<IPython.core.display.HTML object>"
            ]
          },
          "metadata": {
            "tags": []
          }
        },
        {
          "output_type": "stream",
          "text": [
            "Saving steam.csv to steam.csv\n"
          ],
          "name": "stdout"
        }
      ]
    },
    {
      "cell_type": "code",
      "metadata": {
        "id": "lX6aWAEDS09s",
        "colab_type": "code",
        "outputId": "16282afd-8889-445c-92e5-3c06b76c0184",
        "colab": {
          "base_uri": "https://localhost:8080/",
          "height": 564
        }
      },
      "source": [
        "steam = pd.read_csv('steam.csv')\n",
        "print(steam.shape)\n",
        "steam.head()"
      ],
      "execution_count": 5,
      "outputs": [
        {
          "output_type": "stream",
          "text": [
            "(27075, 18)\n"
          ],
          "name": "stdout"
        },
        {
          "output_type": "execute_result",
          "data": {
            "text/html": [
              "<div>\n",
              "<style scoped>\n",
              "    .dataframe tbody tr th:only-of-type {\n",
              "        vertical-align: middle;\n",
              "    }\n",
              "\n",
              "    .dataframe tbody tr th {\n",
              "        vertical-align: top;\n",
              "    }\n",
              "\n",
              "    .dataframe thead th {\n",
              "        text-align: right;\n",
              "    }\n",
              "</style>\n",
              "<table border=\"1\" class=\"dataframe\">\n",
              "  <thead>\n",
              "    <tr style=\"text-align: right;\">\n",
              "      <th></th>\n",
              "      <th>appid</th>\n",
              "      <th>name</th>\n",
              "      <th>release_date</th>\n",
              "      <th>english</th>\n",
              "      <th>developer</th>\n",
              "      <th>publisher</th>\n",
              "      <th>platforms</th>\n",
              "      <th>required_age</th>\n",
              "      <th>categories</th>\n",
              "      <th>genres</th>\n",
              "      <th>steamspy_tags</th>\n",
              "      <th>achievements</th>\n",
              "      <th>positive_ratings</th>\n",
              "      <th>negative_ratings</th>\n",
              "      <th>average_playtime</th>\n",
              "      <th>median_playtime</th>\n",
              "      <th>owners</th>\n",
              "      <th>price</th>\n",
              "    </tr>\n",
              "  </thead>\n",
              "  <tbody>\n",
              "    <tr>\n",
              "      <th>0</th>\n",
              "      <td>10</td>\n",
              "      <td>Counter-Strike</td>\n",
              "      <td>2000-11-01</td>\n",
              "      <td>1</td>\n",
              "      <td>Valve</td>\n",
              "      <td>Valve</td>\n",
              "      <td>windows;mac;linux</td>\n",
              "      <td>0</td>\n",
              "      <td>Multi-player;Online Multi-Player;Local Multi-P...</td>\n",
              "      <td>Action</td>\n",
              "      <td>Action;FPS;Multiplayer</td>\n",
              "      <td>0</td>\n",
              "      <td>124534</td>\n",
              "      <td>3339</td>\n",
              "      <td>17612</td>\n",
              "      <td>317</td>\n",
              "      <td>10000000-20000000</td>\n",
              "      <td>7.19</td>\n",
              "    </tr>\n",
              "    <tr>\n",
              "      <th>1</th>\n",
              "      <td>20</td>\n",
              "      <td>Team Fortress Classic</td>\n",
              "      <td>1999-04-01</td>\n",
              "      <td>1</td>\n",
              "      <td>Valve</td>\n",
              "      <td>Valve</td>\n",
              "      <td>windows;mac;linux</td>\n",
              "      <td>0</td>\n",
              "      <td>Multi-player;Online Multi-Player;Local Multi-P...</td>\n",
              "      <td>Action</td>\n",
              "      <td>Action;FPS;Multiplayer</td>\n",
              "      <td>0</td>\n",
              "      <td>3318</td>\n",
              "      <td>633</td>\n",
              "      <td>277</td>\n",
              "      <td>62</td>\n",
              "      <td>5000000-10000000</td>\n",
              "      <td>3.99</td>\n",
              "    </tr>\n",
              "    <tr>\n",
              "      <th>2</th>\n",
              "      <td>30</td>\n",
              "      <td>Day of Defeat</td>\n",
              "      <td>2003-05-01</td>\n",
              "      <td>1</td>\n",
              "      <td>Valve</td>\n",
              "      <td>Valve</td>\n",
              "      <td>windows;mac;linux</td>\n",
              "      <td>0</td>\n",
              "      <td>Multi-player;Valve Anti-Cheat enabled</td>\n",
              "      <td>Action</td>\n",
              "      <td>FPS;World War II;Multiplayer</td>\n",
              "      <td>0</td>\n",
              "      <td>3416</td>\n",
              "      <td>398</td>\n",
              "      <td>187</td>\n",
              "      <td>34</td>\n",
              "      <td>5000000-10000000</td>\n",
              "      <td>3.99</td>\n",
              "    </tr>\n",
              "    <tr>\n",
              "      <th>3</th>\n",
              "      <td>40</td>\n",
              "      <td>Deathmatch Classic</td>\n",
              "      <td>2001-06-01</td>\n",
              "      <td>1</td>\n",
              "      <td>Valve</td>\n",
              "      <td>Valve</td>\n",
              "      <td>windows;mac;linux</td>\n",
              "      <td>0</td>\n",
              "      <td>Multi-player;Online Multi-Player;Local Multi-P...</td>\n",
              "      <td>Action</td>\n",
              "      <td>Action;FPS;Multiplayer</td>\n",
              "      <td>0</td>\n",
              "      <td>1273</td>\n",
              "      <td>267</td>\n",
              "      <td>258</td>\n",
              "      <td>184</td>\n",
              "      <td>5000000-10000000</td>\n",
              "      <td>3.99</td>\n",
              "    </tr>\n",
              "    <tr>\n",
              "      <th>4</th>\n",
              "      <td>50</td>\n",
              "      <td>Half-Life: Opposing Force</td>\n",
              "      <td>1999-11-01</td>\n",
              "      <td>1</td>\n",
              "      <td>Gearbox Software</td>\n",
              "      <td>Valve</td>\n",
              "      <td>windows;mac;linux</td>\n",
              "      <td>0</td>\n",
              "      <td>Single-player;Multi-player;Valve Anti-Cheat en...</td>\n",
              "      <td>Action</td>\n",
              "      <td>FPS;Action;Sci-fi</td>\n",
              "      <td>0</td>\n",
              "      <td>5250</td>\n",
              "      <td>288</td>\n",
              "      <td>624</td>\n",
              "      <td>415</td>\n",
              "      <td>5000000-10000000</td>\n",
              "      <td>3.99</td>\n",
              "    </tr>\n",
              "  </tbody>\n",
              "</table>\n",
              "</div>"
            ],
            "text/plain": [
              "   appid                       name  ...             owners  price\n",
              "0     10             Counter-Strike  ...  10000000-20000000   7.19\n",
              "1     20      Team Fortress Classic  ...   5000000-10000000   3.99\n",
              "2     30              Day of Defeat  ...   5000000-10000000   3.99\n",
              "3     40         Deathmatch Classic  ...   5000000-10000000   3.99\n",
              "4     50  Half-Life: Opposing Force  ...   5000000-10000000   3.99\n",
              "\n",
              "[5 rows x 18 columns]"
            ]
          },
          "metadata": {
            "tags": []
          },
          "execution_count": 5
        }
      ]
    },
    {
      "cell_type": "code",
      "metadata": {
        "id": "iz9y6ewZTnnd",
        "colab_type": "code",
        "outputId": "50aef4b3-8797-4a4e-9801-627d7fcdaa28",
        "colab": {
          "base_uri": "https://localhost:8080/",
          "height": 204
        }
      },
      "source": [
        "steam = steam.drop(['english','developer','publisher','platforms','required_age',\n",
        "                    'categories','steamspy_tags','achievements','owners',\n",
        "                    'appid','average_playtime'],axis=1)\n",
        "steam.head()"
      ],
      "execution_count": 6,
      "outputs": [
        {
          "output_type": "execute_result",
          "data": {
            "text/html": [
              "<div>\n",
              "<style scoped>\n",
              "    .dataframe tbody tr th:only-of-type {\n",
              "        vertical-align: middle;\n",
              "    }\n",
              "\n",
              "    .dataframe tbody tr th {\n",
              "        vertical-align: top;\n",
              "    }\n",
              "\n",
              "    .dataframe thead th {\n",
              "        text-align: right;\n",
              "    }\n",
              "</style>\n",
              "<table border=\"1\" class=\"dataframe\">\n",
              "  <thead>\n",
              "    <tr style=\"text-align: right;\">\n",
              "      <th></th>\n",
              "      <th>name</th>\n",
              "      <th>release_date</th>\n",
              "      <th>genres</th>\n",
              "      <th>positive_ratings</th>\n",
              "      <th>negative_ratings</th>\n",
              "      <th>median_playtime</th>\n",
              "      <th>price</th>\n",
              "    </tr>\n",
              "  </thead>\n",
              "  <tbody>\n",
              "    <tr>\n",
              "      <th>0</th>\n",
              "      <td>Counter-Strike</td>\n",
              "      <td>2000-11-01</td>\n",
              "      <td>Action</td>\n",
              "      <td>124534</td>\n",
              "      <td>3339</td>\n",
              "      <td>317</td>\n",
              "      <td>7.19</td>\n",
              "    </tr>\n",
              "    <tr>\n",
              "      <th>1</th>\n",
              "      <td>Team Fortress Classic</td>\n",
              "      <td>1999-04-01</td>\n",
              "      <td>Action</td>\n",
              "      <td>3318</td>\n",
              "      <td>633</td>\n",
              "      <td>62</td>\n",
              "      <td>3.99</td>\n",
              "    </tr>\n",
              "    <tr>\n",
              "      <th>2</th>\n",
              "      <td>Day of Defeat</td>\n",
              "      <td>2003-05-01</td>\n",
              "      <td>Action</td>\n",
              "      <td>3416</td>\n",
              "      <td>398</td>\n",
              "      <td>34</td>\n",
              "      <td>3.99</td>\n",
              "    </tr>\n",
              "    <tr>\n",
              "      <th>3</th>\n",
              "      <td>Deathmatch Classic</td>\n",
              "      <td>2001-06-01</td>\n",
              "      <td>Action</td>\n",
              "      <td>1273</td>\n",
              "      <td>267</td>\n",
              "      <td>184</td>\n",
              "      <td>3.99</td>\n",
              "    </tr>\n",
              "    <tr>\n",
              "      <th>4</th>\n",
              "      <td>Half-Life: Opposing Force</td>\n",
              "      <td>1999-11-01</td>\n",
              "      <td>Action</td>\n",
              "      <td>5250</td>\n",
              "      <td>288</td>\n",
              "      <td>415</td>\n",
              "      <td>3.99</td>\n",
              "    </tr>\n",
              "  </tbody>\n",
              "</table>\n",
              "</div>"
            ],
            "text/plain": [
              "                        name release_date  ... median_playtime  price\n",
              "0             Counter-Strike   2000-11-01  ...             317   7.19\n",
              "1      Team Fortress Classic   1999-04-01  ...              62   3.99\n",
              "2              Day of Defeat   2003-05-01  ...              34   3.99\n",
              "3         Deathmatch Classic   2001-06-01  ...             184   3.99\n",
              "4  Half-Life: Opposing Force   1999-11-01  ...             415   3.99\n",
              "\n",
              "[5 rows x 7 columns]"
            ]
          },
          "metadata": {
            "tags": []
          },
          "execution_count": 6
        }
      ]
    },
    {
      "cell_type": "code",
      "metadata": {
        "id": "NBR1PNsoVEMP",
        "colab_type": "code",
        "outputId": "65b08c40-7cb8-4761-8a6c-16fadf8791c7",
        "colab": {
          "base_uri": "https://localhost:8080/",
          "height": 204
        }
      },
      "source": [
        "steam = steam.rename(columns={'name':'game','release_date':'release','genres':'genre','positive_ratings':'pos_rate','negative_ratings':'neg_rate','median_playtime':'med_play','price':'price'})\n",
        "steam.head()"
      ],
      "execution_count": 7,
      "outputs": [
        {
          "output_type": "execute_result",
          "data": {
            "text/html": [
              "<div>\n",
              "<style scoped>\n",
              "    .dataframe tbody tr th:only-of-type {\n",
              "        vertical-align: middle;\n",
              "    }\n",
              "\n",
              "    .dataframe tbody tr th {\n",
              "        vertical-align: top;\n",
              "    }\n",
              "\n",
              "    .dataframe thead th {\n",
              "        text-align: right;\n",
              "    }\n",
              "</style>\n",
              "<table border=\"1\" class=\"dataframe\">\n",
              "  <thead>\n",
              "    <tr style=\"text-align: right;\">\n",
              "      <th></th>\n",
              "      <th>game</th>\n",
              "      <th>release</th>\n",
              "      <th>genre</th>\n",
              "      <th>pos_rate</th>\n",
              "      <th>neg_rate</th>\n",
              "      <th>med_play</th>\n",
              "      <th>price</th>\n",
              "    </tr>\n",
              "  </thead>\n",
              "  <tbody>\n",
              "    <tr>\n",
              "      <th>0</th>\n",
              "      <td>Counter-Strike</td>\n",
              "      <td>2000-11-01</td>\n",
              "      <td>Action</td>\n",
              "      <td>124534</td>\n",
              "      <td>3339</td>\n",
              "      <td>317</td>\n",
              "      <td>7.19</td>\n",
              "    </tr>\n",
              "    <tr>\n",
              "      <th>1</th>\n",
              "      <td>Team Fortress Classic</td>\n",
              "      <td>1999-04-01</td>\n",
              "      <td>Action</td>\n",
              "      <td>3318</td>\n",
              "      <td>633</td>\n",
              "      <td>62</td>\n",
              "      <td>3.99</td>\n",
              "    </tr>\n",
              "    <tr>\n",
              "      <th>2</th>\n",
              "      <td>Day of Defeat</td>\n",
              "      <td>2003-05-01</td>\n",
              "      <td>Action</td>\n",
              "      <td>3416</td>\n",
              "      <td>398</td>\n",
              "      <td>34</td>\n",
              "      <td>3.99</td>\n",
              "    </tr>\n",
              "    <tr>\n",
              "      <th>3</th>\n",
              "      <td>Deathmatch Classic</td>\n",
              "      <td>2001-06-01</td>\n",
              "      <td>Action</td>\n",
              "      <td>1273</td>\n",
              "      <td>267</td>\n",
              "      <td>184</td>\n",
              "      <td>3.99</td>\n",
              "    </tr>\n",
              "    <tr>\n",
              "      <th>4</th>\n",
              "      <td>Half-Life: Opposing Force</td>\n",
              "      <td>1999-11-01</td>\n",
              "      <td>Action</td>\n",
              "      <td>5250</td>\n",
              "      <td>288</td>\n",
              "      <td>415</td>\n",
              "      <td>3.99</td>\n",
              "    </tr>\n",
              "  </tbody>\n",
              "</table>\n",
              "</div>"
            ],
            "text/plain": [
              "                        game     release   genre  ...  neg_rate  med_play  price\n",
              "0             Counter-Strike  2000-11-01  Action  ...      3339       317   7.19\n",
              "1      Team Fortress Classic  1999-04-01  Action  ...       633        62   3.99\n",
              "2              Day of Defeat  2003-05-01  Action  ...       398        34   3.99\n",
              "3         Deathmatch Classic  2001-06-01  Action  ...       267       184   3.99\n",
              "4  Half-Life: Opposing Force  1999-11-01  Action  ...       288       415   3.99\n",
              "\n",
              "[5 rows x 7 columns]"
            ]
          },
          "metadata": {
            "tags": []
          },
          "execution_count": 7
        }
      ]
    },
    {
      "cell_type": "code",
      "metadata": {
        "id": "w_bX_Nq_Ue6C",
        "colab_type": "code",
        "outputId": "a539214a-9d08-484e-8bea-f5a0f8731bb2",
        "colab": {
          "base_uri": "https://localhost:8080/",
          "height": 204
        }
      },
      "source": [
        "total = pd.merge(games, steam, on='game',how='inner')\n",
        "total.head()"
      ],
      "execution_count": 8,
      "outputs": [
        {
          "output_type": "execute_result",
          "data": {
            "text/html": [
              "<div>\n",
              "<style scoped>\n",
              "    .dataframe tbody tr th:only-of-type {\n",
              "        vertical-align: middle;\n",
              "    }\n",
              "\n",
              "    .dataframe tbody tr th {\n",
              "        vertical-align: top;\n",
              "    }\n",
              "\n",
              "    .dataframe thead th {\n",
              "        text-align: right;\n",
              "    }\n",
              "</style>\n",
              "<table border=\"1\" class=\"dataframe\">\n",
              "  <thead>\n",
              "    <tr style=\"text-align: right;\">\n",
              "      <th></th>\n",
              "      <th>id</th>\n",
              "      <th>game</th>\n",
              "      <th>purchase</th>\n",
              "      <th>hours</th>\n",
              "      <th>release</th>\n",
              "      <th>genre</th>\n",
              "      <th>pos_rate</th>\n",
              "      <th>neg_rate</th>\n",
              "      <th>med_play</th>\n",
              "      <th>price</th>\n",
              "    </tr>\n",
              "  </thead>\n",
              "  <tbody>\n",
              "    <tr>\n",
              "      <th>0</th>\n",
              "      <td>151603712</td>\n",
              "      <td>Fallout 4</td>\n",
              "      <td>purchase</td>\n",
              "      <td>1.0</td>\n",
              "      <td>2015-11-09</td>\n",
              "      <td>RPG</td>\n",
              "      <td>110376</td>\n",
              "      <td>45377</td>\n",
              "      <td>2904</td>\n",
              "      <td>19.99</td>\n",
              "    </tr>\n",
              "    <tr>\n",
              "      <th>1</th>\n",
              "      <td>151603712</td>\n",
              "      <td>Fallout 4</td>\n",
              "      <td>play</td>\n",
              "      <td>87.0</td>\n",
              "      <td>2015-11-09</td>\n",
              "      <td>RPG</td>\n",
              "      <td>110376</td>\n",
              "      <td>45377</td>\n",
              "      <td>2904</td>\n",
              "      <td>19.99</td>\n",
              "    </tr>\n",
              "    <tr>\n",
              "      <th>2</th>\n",
              "      <td>87445402</td>\n",
              "      <td>Fallout 4</td>\n",
              "      <td>purchase</td>\n",
              "      <td>1.0</td>\n",
              "      <td>2015-11-09</td>\n",
              "      <td>RPG</td>\n",
              "      <td>110376</td>\n",
              "      <td>45377</td>\n",
              "      <td>2904</td>\n",
              "      <td>19.99</td>\n",
              "    </tr>\n",
              "    <tr>\n",
              "      <th>3</th>\n",
              "      <td>87445402</td>\n",
              "      <td>Fallout 4</td>\n",
              "      <td>play</td>\n",
              "      <td>83.0</td>\n",
              "      <td>2015-11-09</td>\n",
              "      <td>RPG</td>\n",
              "      <td>110376</td>\n",
              "      <td>45377</td>\n",
              "      <td>2904</td>\n",
              "      <td>19.99</td>\n",
              "    </tr>\n",
              "    <tr>\n",
              "      <th>4</th>\n",
              "      <td>25096601</td>\n",
              "      <td>Fallout 4</td>\n",
              "      <td>purchase</td>\n",
              "      <td>1.0</td>\n",
              "      <td>2015-11-09</td>\n",
              "      <td>RPG</td>\n",
              "      <td>110376</td>\n",
              "      <td>45377</td>\n",
              "      <td>2904</td>\n",
              "      <td>19.99</td>\n",
              "    </tr>\n",
              "  </tbody>\n",
              "</table>\n",
              "</div>"
            ],
            "text/plain": [
              "          id       game  purchase  hours  ... pos_rate neg_rate  med_play  price\n",
              "0  151603712  Fallout 4  purchase    1.0  ...   110376    45377      2904  19.99\n",
              "1  151603712  Fallout 4      play   87.0  ...   110376    45377      2904  19.99\n",
              "2   87445402  Fallout 4  purchase    1.0  ...   110376    45377      2904  19.99\n",
              "3   87445402  Fallout 4      play   83.0  ...   110376    45377      2904  19.99\n",
              "4   25096601  Fallout 4  purchase    1.0  ...   110376    45377      2904  19.99\n",
              "\n",
              "[5 rows x 10 columns]"
            ]
          },
          "metadata": {
            "tags": []
          },
          "execution_count": 8
        }
      ]
    },
    {
      "cell_type": "code",
      "metadata": {
        "id": "lFNmnvM_XeIV",
        "colab_type": "code",
        "outputId": "0c4c201c-c73e-46e2-d90c-d44c78a9efda",
        "colab": {
          "base_uri": "https://localhost:8080/",
          "height": 204
        }
      },
      "source": [
        "total.dtypes"
      ],
      "execution_count": 9,
      "outputs": [
        {
          "output_type": "execute_result",
          "data": {
            "text/plain": [
              "id            int64\n",
              "game         object\n",
              "purchase     object\n",
              "hours       float64\n",
              "release      object\n",
              "genre        object\n",
              "pos_rate      int64\n",
              "neg_rate      int64\n",
              "med_play      int64\n",
              "price       float64\n",
              "dtype: object"
            ]
          },
          "metadata": {
            "tags": []
          },
          "execution_count": 9
        }
      ]
    },
    {
      "cell_type": "code",
      "metadata": {
        "id": "-J-m3U0TV83D",
        "colab_type": "code",
        "outputId": "66b04be2-70b5-4a4c-b233-59209c1d8660",
        "colab": {
          "base_uri": "https://localhost:8080/",
          "height": 34
        }
      },
      "source": [
        "total.shape"
      ],
      "execution_count": 10,
      "outputs": [
        {
          "output_type": "execute_result",
          "data": {
            "text/plain": [
              "(92883, 10)"
            ]
          },
          "metadata": {
            "tags": []
          },
          "execution_count": 10
        }
      ]
    },
    {
      "cell_type": "code",
      "metadata": {
        "id": "ocITiCI6YAz0",
        "colab_type": "code",
        "colab": {}
      },
      "source": [
        "test = total.replace('purchase', np.nan)"
      ],
      "execution_count": 0,
      "outputs": []
    },
    {
      "cell_type": "code",
      "metadata": {
        "id": "2WP2dIIHYvPL",
        "colab_type": "code",
        "outputId": "441c3036-4761-45df-ccf3-6c12a64517ae",
        "colab": {
          "base_uri": "https://localhost:8080/",
          "height": 606
        }
      },
      "source": [
        "test = test.dropna()\n",
        "test"
      ],
      "execution_count": 12,
      "outputs": [
        {
          "output_type": "execute_result",
          "data": {
            "text/html": [
              "<div>\n",
              "<style scoped>\n",
              "    .dataframe tbody tr th:only-of-type {\n",
              "        vertical-align: middle;\n",
              "    }\n",
              "\n",
              "    .dataframe tbody tr th {\n",
              "        vertical-align: top;\n",
              "    }\n",
              "\n",
              "    .dataframe thead th {\n",
              "        text-align: right;\n",
              "    }\n",
              "</style>\n",
              "<table border=\"1\" class=\"dataframe\">\n",
              "  <thead>\n",
              "    <tr style=\"text-align: right;\">\n",
              "      <th></th>\n",
              "      <th>id</th>\n",
              "      <th>game</th>\n",
              "      <th>purchase</th>\n",
              "      <th>hours</th>\n",
              "      <th>release</th>\n",
              "      <th>genre</th>\n",
              "      <th>pos_rate</th>\n",
              "      <th>neg_rate</th>\n",
              "      <th>med_play</th>\n",
              "      <th>price</th>\n",
              "    </tr>\n",
              "  </thead>\n",
              "  <tbody>\n",
              "    <tr>\n",
              "      <th>1</th>\n",
              "      <td>151603712</td>\n",
              "      <td>Fallout 4</td>\n",
              "      <td>play</td>\n",
              "      <td>87.0</td>\n",
              "      <td>2015-11-09</td>\n",
              "      <td>RPG</td>\n",
              "      <td>110376</td>\n",
              "      <td>45377</td>\n",
              "      <td>2904</td>\n",
              "      <td>19.99</td>\n",
              "    </tr>\n",
              "    <tr>\n",
              "      <th>3</th>\n",
              "      <td>87445402</td>\n",
              "      <td>Fallout 4</td>\n",
              "      <td>play</td>\n",
              "      <td>83.0</td>\n",
              "      <td>2015-11-09</td>\n",
              "      <td>RPG</td>\n",
              "      <td>110376</td>\n",
              "      <td>45377</td>\n",
              "      <td>2904</td>\n",
              "      <td>19.99</td>\n",
              "    </tr>\n",
              "    <tr>\n",
              "      <th>5</th>\n",
              "      <td>25096601</td>\n",
              "      <td>Fallout 4</td>\n",
              "      <td>play</td>\n",
              "      <td>1.6</td>\n",
              "      <td>2015-11-09</td>\n",
              "      <td>RPG</td>\n",
              "      <td>110376</td>\n",
              "      <td>45377</td>\n",
              "      <td>2904</td>\n",
              "      <td>19.99</td>\n",
              "    </tr>\n",
              "    <tr>\n",
              "      <th>7</th>\n",
              "      <td>211925330</td>\n",
              "      <td>Fallout 4</td>\n",
              "      <td>play</td>\n",
              "      <td>133.0</td>\n",
              "      <td>2015-11-09</td>\n",
              "      <td>RPG</td>\n",
              "      <td>110376</td>\n",
              "      <td>45377</td>\n",
              "      <td>2904</td>\n",
              "      <td>19.99</td>\n",
              "    </tr>\n",
              "    <tr>\n",
              "      <th>9</th>\n",
              "      <td>115396529</td>\n",
              "      <td>Fallout 4</td>\n",
              "      <td>play</td>\n",
              "      <td>17.9</td>\n",
              "      <td>2015-11-09</td>\n",
              "      <td>RPG</td>\n",
              "      <td>110376</td>\n",
              "      <td>45377</td>\n",
              "      <td>2904</td>\n",
              "      <td>19.99</td>\n",
              "    </tr>\n",
              "    <tr>\n",
              "      <th>...</th>\n",
              "      <td>...</td>\n",
              "      <td>...</td>\n",
              "      <td>...</td>\n",
              "      <td>...</td>\n",
              "      <td>...</td>\n",
              "      <td>...</td>\n",
              "      <td>...</td>\n",
              "      <td>...</td>\n",
              "      <td>...</td>\n",
              "      <td>...</td>\n",
              "    </tr>\n",
              "    <tr>\n",
              "      <th>92873</th>\n",
              "      <td>112739159</td>\n",
              "      <td>Ride! Carnival Tycoon</td>\n",
              "      <td>play</td>\n",
              "      <td>0.3</td>\n",
              "      <td>2008-07-29</td>\n",
              "      <td>Simulation</td>\n",
              "      <td>15</td>\n",
              "      <td>26</td>\n",
              "      <td>0</td>\n",
              "      <td>4.99</td>\n",
              "    </tr>\n",
              "    <tr>\n",
              "      <th>92875</th>\n",
              "      <td>116564064</td>\n",
              "      <td>SAMURAI WARRIORS 4-II</td>\n",
              "      <td>play</td>\n",
              "      <td>2.2</td>\n",
              "      <td>2015-09-29</td>\n",
              "      <td>Action</td>\n",
              "      <td>757</td>\n",
              "      <td>215</td>\n",
              "      <td>0</td>\n",
              "      <td>39.99</td>\n",
              "    </tr>\n",
              "    <tr>\n",
              "      <th>92877</th>\n",
              "      <td>116564064</td>\n",
              "      <td>The Bug Butcher</td>\n",
              "      <td>play</td>\n",
              "      <td>0.3</td>\n",
              "      <td>2016-01-19</td>\n",
              "      <td>Action;Indie</td>\n",
              "      <td>939</td>\n",
              "      <td>92</td>\n",
              "      <td>67</td>\n",
              "      <td>5.59</td>\n",
              "    </tr>\n",
              "    <tr>\n",
              "      <th>92880</th>\n",
              "      <td>135400225</td>\n",
              "      <td>Life is Hard</td>\n",
              "      <td>play</td>\n",
              "      <td>3.1</td>\n",
              "      <td>2015-11-03</td>\n",
              "      <td>Adventure;Indie;Simulation;Strategy;Early Access</td>\n",
              "      <td>339</td>\n",
              "      <td>132</td>\n",
              "      <td>340</td>\n",
              "      <td>5.99</td>\n",
              "    </tr>\n",
              "    <tr>\n",
              "      <th>92882</th>\n",
              "      <td>135400225</td>\n",
              "      <td>Executive Assault</td>\n",
              "      <td>play</td>\n",
              "      <td>2.7</td>\n",
              "      <td>2015-07-17</td>\n",
              "      <td>Action;Strategy</td>\n",
              "      <td>1180</td>\n",
              "      <td>185</td>\n",
              "      <td>363</td>\n",
              "      <td>10.29</td>\n",
              "    </tr>\n",
              "  </tbody>\n",
              "</table>\n",
              "<p>36302 rows × 10 columns</p>\n",
              "</div>"
            ],
            "text/plain": [
              "              id                   game purchase  ...  neg_rate med_play  price\n",
              "1      151603712              Fallout 4     play  ...     45377     2904  19.99\n",
              "3       87445402              Fallout 4     play  ...     45377     2904  19.99\n",
              "5       25096601              Fallout 4     play  ...     45377     2904  19.99\n",
              "7      211925330              Fallout 4     play  ...     45377     2904  19.99\n",
              "9      115396529              Fallout 4     play  ...     45377     2904  19.99\n",
              "...          ...                    ...      ...  ...       ...      ...    ...\n",
              "92873  112739159  Ride! Carnival Tycoon     play  ...        26        0   4.99\n",
              "92875  116564064  SAMURAI WARRIORS 4-II     play  ...       215        0  39.99\n",
              "92877  116564064        The Bug Butcher     play  ...        92       67   5.59\n",
              "92880  135400225           Life is Hard     play  ...       132      340   5.99\n",
              "92882  135400225      Executive Assault     play  ...       185      363  10.29\n",
              "\n",
              "[36302 rows x 10 columns]"
            ]
          },
          "metadata": {
            "tags": []
          },
          "execution_count": 12
        }
      ]
    },
    {
      "cell_type": "markdown",
      "metadata": {
        "id": "qu6uMi6YZ-vl",
        "colab_type": "text"
      },
      "source": [
        "This is pretty exciting now that I've shaped this a bit. The important data that I am left with is the user, the game title, if they purchased it (which now that I've used the purchase column to pull out the 1.0 values from the hours for games they purchased, I don't really need this column anymore at all), the release date, genre, some of the ratings, the median playtime for the average user, and the price of the game in question. I'm pretty pleased with how this game out.\n",
        "I should note that the original dataset had 200k rows, and now I'm down to 36k, which is still enough to run some interesting thought models, but I know that we lost many rows that didn't have titles that my other steam data had. Just something to bear in mind.\n"
      ]
    },
    {
      "cell_type": "code",
      "metadata": {
        "id": "uXJ-U7g8aldA",
        "colab_type": "code",
        "colab": {}
      },
      "source": [
        "test.to_csv ('steamproject.csv')"
      ],
      "execution_count": 0,
      "outputs": []
    },
    {
      "cell_type": "markdown",
      "metadata": {
        "id": "_czGs-KVdA2r",
        "colab_type": "text"
      },
      "source": [
        "In other notebooks I might pull up this file directly, but that's the file of my more or less completed dataframe. Lets do some visualizations with it."
      ]
    },
    {
      "cell_type": "code",
      "metadata": {
        "id": "oPICnUClZYb6",
        "colab_type": "code",
        "outputId": "ae55b881-c735-4a46-a46e-1bfd6255339e",
        "colab": {
          "base_uri": "https://localhost:8080/",
          "height": 204
        }
      },
      "source": [
        "test['game'].value_counts().head(10)"
      ],
      "execution_count": 14,
      "outputs": [
        {
          "output_type": "execute_result",
          "data": {
            "text/plain": [
              "Dota 2             4841\n",
              "Team Fortress 2    2323\n",
              "Unturned           1069\n",
              "Left 4 Dead 2       801\n",
              "Garry's Mod         666\n",
              "Counter-Strike      568\n",
              "Terraria            460\n",
              "Portal 2            453\n",
              "Warframe            424\n",
              "Portal              417\n",
              "Name: game, dtype: int64"
            ]
          },
          "metadata": {
            "tags": []
          },
          "execution_count": 14
        }
      ]
    },
    {
      "cell_type": "code",
      "metadata": {
        "id": "XMzHssgIehG2",
        "colab_type": "code",
        "outputId": "0a51d772-8aab-4620-b8d4-6b396b5721d7",
        "colab": {
          "base_uri": "https://localhost:8080/",
          "height": 34
        }
      },
      "source": [
        "dota = test.loc[test['game'] == 'Dota 2']\n",
        "dota['hours'].mean()"
      ],
      "execution_count": 15,
      "outputs": [
        {
          "output_type": "execute_result",
          "data": {
            "text/plain": [
              "202.78549886387088"
            ]
          },
          "metadata": {
            "tags": []
          },
          "execution_count": 15
        }
      ]
    },
    {
      "cell_type": "code",
      "metadata": {
        "id": "h42441CoglzY",
        "colab_type": "code",
        "outputId": "bdab2352-974e-4083-aee3-e44b29aab8cb",
        "colab": {
          "base_uri": "https://localhost:8080/",
          "height": 34
        }
      },
      "source": [
        "tf2 = test.loc[test['game'] == 'Team Fortress 2']\n",
        "tf2['hours'].mean()"
      ],
      "execution_count": 16,
      "outputs": [
        {
          "output_type": "execute_result",
          "data": {
            "text/plain": [
              "74.76250538097285"
            ]
          },
          "metadata": {
            "tags": []
          },
          "execution_count": 16
        }
      ]
    },
    {
      "cell_type": "code",
      "metadata": {
        "id": "cujfOUUrg0LT",
        "colab_type": "code",
        "outputId": "309b97e1-a26d-4e4c-d921-03b09de1c964",
        "colab": {
          "base_uri": "https://localhost:8080/",
          "height": 34
        }
      },
      "source": [
        "unturn = test.loc[test['game'] == 'Unturned']\n",
        "unturn['hours'].mean()"
      ],
      "execution_count": 17,
      "outputs": [
        {
          "output_type": "execute_result",
          "data": {
            "text/plain": [
              "15.057436856875599"
            ]
          },
          "metadata": {
            "tags": []
          },
          "execution_count": 17
        }
      ]
    },
    {
      "cell_type": "code",
      "metadata": {
        "id": "KihSQyz6g1uq",
        "colab_type": "code",
        "outputId": "4e5a814e-9485-4e7c-9520-eeff34253d05",
        "colab": {
          "base_uri": "https://localhost:8080/",
          "height": 34
        }
      },
      "source": [
        "l4d2 = test.loc[test['game'] == 'Left 4 Dead 2']\n",
        "l4d2['hours'].mean()"
      ],
      "execution_count": 18,
      "outputs": [
        {
          "output_type": "execute_result",
          "data": {
            "text/plain": [
              "41.943445692883884"
            ]
          },
          "metadata": {
            "tags": []
          },
          "execution_count": 18
        }
      ]
    },
    {
      "cell_type": "code",
      "metadata": {
        "id": "cPjdiaHkg17a",
        "colab_type": "code",
        "outputId": "d925a313-552d-4c2b-bc3b-6afe8cd7b120",
        "colab": {
          "base_uri": "https://localhost:8080/",
          "height": 34
        }
      },
      "source": [
        "garry = test.loc[test['game'] == \"Garry's Mod\"]\n",
        "garry['hours'].mean()"
      ],
      "execution_count": 19,
      "outputs": [
        {
          "output_type": "execute_result",
          "data": {
            "text/plain": [
              "74.66261261261265"
            ]
          },
          "metadata": {
            "tags": []
          },
          "execution_count": 19
        }
      ]
    },
    {
      "cell_type": "code",
      "metadata": {
        "id": "tgyJCJTOg2Hk",
        "colab_type": "code",
        "outputId": "fd332399-2000-4830-df32-c574ed8c9615",
        "colab": {
          "base_uri": "https://localhost:8080/",
          "height": 34
        }
      },
      "source": [
        "counter = test.loc[test['game'] == 'Counter-Strike']\n",
        "counter['hours'].mean()"
      ],
      "execution_count": 20,
      "outputs": [
        {
          "output_type": "execute_result",
          "data": {
            "text/plain": [
              "236.37517605633803"
            ]
          },
          "metadata": {
            "tags": []
          },
          "execution_count": 20
        }
      ]
    },
    {
      "cell_type": "code",
      "metadata": {
        "id": "uJj4RZqlg2Ot",
        "colab_type": "code",
        "outputId": "fca4797f-a19f-45fa-cfc1-6d98184090bf",
        "colab": {
          "base_uri": "https://localhost:8080/",
          "height": 34
        }
      },
      "source": [
        "terr = test.loc[test['game'] == 'Terraria']\n",
        "terr['hours'].mean()"
      ],
      "execution_count": 21,
      "outputs": [
        {
          "output_type": "execute_result",
          "data": {
            "text/plain": [
              "65.11260869565214"
            ]
          },
          "metadata": {
            "tags": []
          },
          "execution_count": 21
        }
      ]
    },
    {
      "cell_type": "code",
      "metadata": {
        "id": "uOt47yzzh2Th",
        "colab_type": "code",
        "outputId": "ba258b52-2f1d-40ce-f2b1-f2b9071ae58d",
        "colab": {
          "base_uri": "https://localhost:8080/",
          "height": 34
        }
      },
      "source": [
        "portal2 = test.loc[test['game'] == 'Portal 2']\n",
        "portal2['hours'].mean()"
      ],
      "execution_count": 22,
      "outputs": [
        {
          "output_type": "execute_result",
          "data": {
            "text/plain": [
              "20.126048565121405"
            ]
          },
          "metadata": {
            "tags": []
          },
          "execution_count": 22
        }
      ]
    },
    {
      "cell_type": "code",
      "metadata": {
        "id": "7_XsnC0Yh2b1",
        "colab_type": "code",
        "outputId": "dff4eb71-29d5-4c24-931c-cccfb31b9e8b",
        "colab": {
          "base_uri": "https://localhost:8080/",
          "height": 34
        }
      },
      "source": [
        "warframe = test.loc[test['game'] == 'Warframe']\n",
        "warframe['hours'].mean()"
      ],
      "execution_count": 23,
      "outputs": [
        {
          "output_type": "execute_result",
          "data": {
            "text/plain": [
              "63.85518867924527"
            ]
          },
          "metadata": {
            "tags": []
          },
          "execution_count": 23
        }
      ]
    },
    {
      "cell_type": "code",
      "metadata": {
        "id": "4uS0uslth2kW",
        "colab_type": "code",
        "outputId": "baceaf3e-0df8-4c95-865c-0e87fbbf906d",
        "colab": {
          "base_uri": "https://localhost:8080/",
          "height": 34
        }
      },
      "source": [
        "portal = test.loc[test['game'] == 'Portal']\n",
        "portal['hours'].mean()"
      ],
      "execution_count": 24,
      "outputs": [
        {
          "output_type": "execute_result",
          "data": {
            "text/plain": [
              "5.474340527577937"
            ]
          },
          "metadata": {
            "tags": []
          },
          "execution_count": 24
        }
      ]
    },
    {
      "cell_type": "code",
      "metadata": {
        "id": "nG5_XWpHiUjU",
        "colab_type": "code",
        "colab": {}
      },
      "source": [
        "data = {'game': ['Dota 2', 'Team Fortress 2', 'Unturned', 'Left 4 Dead 2',\n",
        "                 \"Garry's Mod\",'Counter-Strike','Terraria','Portal 2',\n",
        "                 'Warframe','Portal'],\n",
        "        'players': [4841, 2323, 1069, 801, 666, 568, 460, 453, 424, 417],\n",
        "        'mean': [202.79, 74.76, 15.06, 41.94, 76.66,236.38,65.11,20.13,63.86,5.47]}\n",
        "vis_top_10 = pd.DataFrame(data, columns=['game','players','mean'])\n"
      ],
      "execution_count": 0,
      "outputs": []
    },
    {
      "cell_type": "code",
      "metadata": {
        "id": "A-uRJCuTkoCZ",
        "colab_type": "code",
        "outputId": "5d541ea8-c303-4c3b-a6da-bc6067fff368",
        "colab": {
          "base_uri": "https://localhost:8080/",
          "height": 266
        }
      },
      "source": [
        "ax = vis_top_10.plot.bar(rot=0)"
      ],
      "execution_count": 26,
      "outputs": [
        {
          "output_type": "display_data",
          "data": {
            "image/png": "[encoded data removed]",
            "text/plain": [
              "<Figure size 432x288 with 1 Axes>"
            ]
          },
          "metadata": {
            "tags": [],
            "needs_background": "light"
          }
        }
      ]
    },
    {
      "cell_type": "code",
      "metadata": {
        "id": "R4yZV3edk7i0",
        "colab_type": "code",
        "outputId": "2cc6436f-958a-4856-eb36-d40bb8ac177b",
        "colab": {
          "base_uri": "https://localhost:8080/",
          "height": 298
        }
      },
      "source": [
        "axes = vis_top_10.plot.bar(rot=0, subplots=True)\n",
        "axes[1].legend(loc=2)"
      ],
      "execution_count": 27,
      "outputs": [
        {
          "output_type": "execute_result",
          "data": {
            "text/plain": [
              "<matplotlib.legend.Legend at 0x7f9f461dc9b0>"
            ]
          },
          "metadata": {
            "tags": []
          },
          "execution_count": 27
        },
        {
          "output_type": "display_data",
          "data": {
            "image/png": "[encoded data removed]",
            "text/plain": [
              "<Figure size 432x288 with 2 Axes>"
            ]
          },
          "metadata": {
            "tags": [],
            "needs_background": "light"
          }
        }
      ]
    },
    {
      "cell_type": "code",
      "metadata": {
        "id": "vL5KNtgil2C2",
        "colab_type": "code",
        "outputId": "8fd24280-cd2c-4d49-ed4a-9766d73d42d8",
        "colab": {
          "base_uri": "https://localhost:8080/",
          "height": 359
        }
      },
      "source": [
        "comp10 = pd.merge(vis_top_10, test.drop(['id','purchase','hours'], axis=1), \n",
        "                  on='game',how='left')\n",
        "comp10 = comp10.drop_duplicates()\n",
        "comp10"
      ],
      "execution_count": 28,
      "outputs": [
        {
          "output_type": "execute_result",
          "data": {
            "text/html": [
              "<div>\n",
              "<style scoped>\n",
              "    .dataframe tbody tr th:only-of-type {\n",
              "        vertical-align: middle;\n",
              "    }\n",
              "\n",
              "    .dataframe tbody tr th {\n",
              "        vertical-align: top;\n",
              "    }\n",
              "\n",
              "    .dataframe thead th {\n",
              "        text-align: right;\n",
              "    }\n",
              "</style>\n",
              "<table border=\"1\" class=\"dataframe\">\n",
              "  <thead>\n",
              "    <tr style=\"text-align: right;\">\n",
              "      <th></th>\n",
              "      <th>game</th>\n",
              "      <th>players</th>\n",
              "      <th>mean</th>\n",
              "      <th>release</th>\n",
              "      <th>genre</th>\n",
              "      <th>pos_rate</th>\n",
              "      <th>neg_rate</th>\n",
              "      <th>med_play</th>\n",
              "      <th>price</th>\n",
              "    </tr>\n",
              "  </thead>\n",
              "  <tbody>\n",
              "    <tr>\n",
              "      <th>0</th>\n",
              "      <td>Dota 2</td>\n",
              "      <td>4841</td>\n",
              "      <td>202.79</td>\n",
              "      <td>2013-07-09</td>\n",
              "      <td>Action;Free to Play;Strategy</td>\n",
              "      <td>863507</td>\n",
              "      <td>142079</td>\n",
              "      <td>801</td>\n",
              "      <td>0.00</td>\n",
              "    </tr>\n",
              "    <tr>\n",
              "      <th>4841</th>\n",
              "      <td>Team Fortress 2</td>\n",
              "      <td>2323</td>\n",
              "      <td>74.76</td>\n",
              "      <td>2007-10-10</td>\n",
              "      <td>Action;Free to Play</td>\n",
              "      <td>515879</td>\n",
              "      <td>34036</td>\n",
              "      <td>623</td>\n",
              "      <td>0.00</td>\n",
              "    </tr>\n",
              "    <tr>\n",
              "      <th>7164</th>\n",
              "      <td>Unturned</td>\n",
              "      <td>1069</td>\n",
              "      <td>15.06</td>\n",
              "      <td>2017-07-07</td>\n",
              "      <td>Action;Adventure;Casual;Free to Play;Indie</td>\n",
              "      <td>292574</td>\n",
              "      <td>31482</td>\n",
              "      <td>413</td>\n",
              "      <td>0.00</td>\n",
              "    </tr>\n",
              "    <tr>\n",
              "      <th>8233</th>\n",
              "      <td>Left 4 Dead 2</td>\n",
              "      <td>801</td>\n",
              "      <td>41.94</td>\n",
              "      <td>2009-11-19</td>\n",
              "      <td>Action</td>\n",
              "      <td>251789</td>\n",
              "      <td>8418</td>\n",
              "      <td>566</td>\n",
              "      <td>7.19</td>\n",
              "    </tr>\n",
              "    <tr>\n",
              "      <th>9034</th>\n",
              "      <td>Garry's Mod</td>\n",
              "      <td>666</td>\n",
              "      <td>76.66</td>\n",
              "      <td>2006-11-29</td>\n",
              "      <td>Indie;Simulation</td>\n",
              "      <td>363721</td>\n",
              "      <td>16433</td>\n",
              "      <td>1875</td>\n",
              "      <td>6.99</td>\n",
              "    </tr>\n",
              "    <tr>\n",
              "      <th>9700</th>\n",
              "      <td>Counter-Strike</td>\n",
              "      <td>568</td>\n",
              "      <td>236.38</td>\n",
              "      <td>2000-11-01</td>\n",
              "      <td>Action</td>\n",
              "      <td>124534</td>\n",
              "      <td>3339</td>\n",
              "      <td>317</td>\n",
              "      <td>7.19</td>\n",
              "    </tr>\n",
              "    <tr>\n",
              "      <th>10268</th>\n",
              "      <td>Terraria</td>\n",
              "      <td>460</td>\n",
              "      <td>65.11</td>\n",
              "      <td>2011-05-16</td>\n",
              "      <td>Action;Adventure;Indie;RPG</td>\n",
              "      <td>255600</td>\n",
              "      <td>7797</td>\n",
              "      <td>1840</td>\n",
              "      <td>6.99</td>\n",
              "    </tr>\n",
              "    <tr>\n",
              "      <th>10728</th>\n",
              "      <td>Portal 2</td>\n",
              "      <td>453</td>\n",
              "      <td>20.13</td>\n",
              "      <td>2011-04-18</td>\n",
              "      <td>Action;Adventure</td>\n",
              "      <td>138220</td>\n",
              "      <td>1891</td>\n",
              "      <td>520</td>\n",
              "      <td>7.19</td>\n",
              "    </tr>\n",
              "    <tr>\n",
              "      <th>11181</th>\n",
              "      <td>Warframe</td>\n",
              "      <td>424</td>\n",
              "      <td>63.86</td>\n",
              "      <td>2013-03-25</td>\n",
              "      <td>Action;Free to Play</td>\n",
              "      <td>226541</td>\n",
              "      <td>20268</td>\n",
              "      <td>394</td>\n",
              "      <td>0.00</td>\n",
              "    </tr>\n",
              "    <tr>\n",
              "      <th>11605</th>\n",
              "      <td>Portal</td>\n",
              "      <td>417</td>\n",
              "      <td>5.47</td>\n",
              "      <td>2007-10-10</td>\n",
              "      <td>Action</td>\n",
              "      <td>51801</td>\n",
              "      <td>1080</td>\n",
              "      <td>137</td>\n",
              "      <td>7.19</td>\n",
              "    </tr>\n",
              "  </tbody>\n",
              "</table>\n",
              "</div>"
            ],
            "text/plain": [
              "                  game  players    mean  ... neg_rate med_play  price\n",
              "0               Dota 2     4841  202.79  ...   142079      801   0.00\n",
              "4841   Team Fortress 2     2323   74.76  ...    34036      623   0.00\n",
              "7164          Unturned     1069   15.06  ...    31482      413   0.00\n",
              "8233     Left 4 Dead 2      801   41.94  ...     8418      566   7.19\n",
              "9034       Garry's Mod      666   76.66  ...    16433     1875   6.99\n",
              "9700    Counter-Strike      568  236.38  ...     3339      317   7.19\n",
              "10268         Terraria      460   65.11  ...     7797     1840   6.99\n",
              "10728         Portal 2      453   20.13  ...     1891      520   7.19\n",
              "11181         Warframe      424   63.86  ...    20268      394   0.00\n",
              "11605           Portal      417    5.47  ...     1080      137   7.19\n",
              "\n",
              "[10 rows x 9 columns]"
            ]
          },
          "metadata": {
            "tags": []
          },
          "execution_count": 28
        }
      ]
    },
    {
      "cell_type": "code",
      "metadata": {
        "id": "F_jBI9CgoobS",
        "colab_type": "code",
        "colab": {}
      },
      "source": [
        "comp10.to_csv('comp_top10_played')"
      ],
      "execution_count": 0,
      "outputs": []
    },
    {
      "cell_type": "markdown",
      "metadata": {
        "id": "9E21PbR3o-2F",
        "colab_type": "text"
      },
      "source": [
        "I am pretty sure that there are easier ways to do this, but this wasn't too bad.\n",
        "\n",
        "So, the the above is for the top 10 most played games, but it doesn't count for anything that was 'purchased'. So lets run more or less the same process only this time let's just look for the 'purchased' columns. "
      ]
    },
    {
      "cell_type": "code",
      "metadata": {
        "id": "wHwzxkMjo4MT",
        "colab_type": "code",
        "outputId": "29903368-e93a-4310-f3f3-8c60c4548ede",
        "colab": {
          "base_uri": "https://localhost:8080/",
          "height": 204
        }
      },
      "source": [
        "bought = total.loc[total['purchase'] == 'purchase']\n",
        "bought.head()"
      ],
      "execution_count": 30,
      "outputs": [
        {
          "output_type": "execute_result",
          "data": {
            "text/html": [
              "<div>\n",
              "<style scoped>\n",
              "    .dataframe tbody tr th:only-of-type {\n",
              "        vertical-align: middle;\n",
              "    }\n",
              "\n",
              "    .dataframe tbody tr th {\n",
              "        vertical-align: top;\n",
              "    }\n",
              "\n",
              "    .dataframe thead th {\n",
              "        text-align: right;\n",
              "    }\n",
              "</style>\n",
              "<table border=\"1\" class=\"dataframe\">\n",
              "  <thead>\n",
              "    <tr style=\"text-align: right;\">\n",
              "      <th></th>\n",
              "      <th>id</th>\n",
              "      <th>game</th>\n",
              "      <th>purchase</th>\n",
              "      <th>hours</th>\n",
              "      <th>release</th>\n",
              "      <th>genre</th>\n",
              "      <th>pos_rate</th>\n",
              "      <th>neg_rate</th>\n",
              "      <th>med_play</th>\n",
              "      <th>price</th>\n",
              "    </tr>\n",
              "  </thead>\n",
              "  <tbody>\n",
              "    <tr>\n",
              "      <th>0</th>\n",
              "      <td>151603712</td>\n",
              "      <td>Fallout 4</td>\n",
              "      <td>purchase</td>\n",
              "      <td>1.0</td>\n",
              "      <td>2015-11-09</td>\n",
              "      <td>RPG</td>\n",
              "      <td>110376</td>\n",
              "      <td>45377</td>\n",
              "      <td>2904</td>\n",
              "      <td>19.99</td>\n",
              "    </tr>\n",
              "    <tr>\n",
              "      <th>2</th>\n",
              "      <td>87445402</td>\n",
              "      <td>Fallout 4</td>\n",
              "      <td>purchase</td>\n",
              "      <td>1.0</td>\n",
              "      <td>2015-11-09</td>\n",
              "      <td>RPG</td>\n",
              "      <td>110376</td>\n",
              "      <td>45377</td>\n",
              "      <td>2904</td>\n",
              "      <td>19.99</td>\n",
              "    </tr>\n",
              "    <tr>\n",
              "      <th>4</th>\n",
              "      <td>25096601</td>\n",
              "      <td>Fallout 4</td>\n",
              "      <td>purchase</td>\n",
              "      <td>1.0</td>\n",
              "      <td>2015-11-09</td>\n",
              "      <td>RPG</td>\n",
              "      <td>110376</td>\n",
              "      <td>45377</td>\n",
              "      <td>2904</td>\n",
              "      <td>19.99</td>\n",
              "    </tr>\n",
              "    <tr>\n",
              "      <th>6</th>\n",
              "      <td>211925330</td>\n",
              "      <td>Fallout 4</td>\n",
              "      <td>purchase</td>\n",
              "      <td>1.0</td>\n",
              "      <td>2015-11-09</td>\n",
              "      <td>RPG</td>\n",
              "      <td>110376</td>\n",
              "      <td>45377</td>\n",
              "      <td>2904</td>\n",
              "      <td>19.99</td>\n",
              "    </tr>\n",
              "    <tr>\n",
              "      <th>8</th>\n",
              "      <td>115396529</td>\n",
              "      <td>Fallout 4</td>\n",
              "      <td>purchase</td>\n",
              "      <td>1.0</td>\n",
              "      <td>2015-11-09</td>\n",
              "      <td>RPG</td>\n",
              "      <td>110376</td>\n",
              "      <td>45377</td>\n",
              "      <td>2904</td>\n",
              "      <td>19.99</td>\n",
              "    </tr>\n",
              "  </tbody>\n",
              "</table>\n",
              "</div>"
            ],
            "text/plain": [
              "          id       game  purchase  hours  ... pos_rate neg_rate  med_play  price\n",
              "0  151603712  Fallout 4  purchase    1.0  ...   110376    45377      2904  19.99\n",
              "2   87445402  Fallout 4  purchase    1.0  ...   110376    45377      2904  19.99\n",
              "4   25096601  Fallout 4  purchase    1.0  ...   110376    45377      2904  19.99\n",
              "6  211925330  Fallout 4  purchase    1.0  ...   110376    45377      2904  19.99\n",
              "8  115396529  Fallout 4  purchase    1.0  ...   110376    45377      2904  19.99\n",
              "\n",
              "[5 rows x 10 columns]"
            ]
          },
          "metadata": {
            "tags": []
          },
          "execution_count": 30
        }
      ]
    },
    {
      "cell_type": "code",
      "metadata": {
        "id": "Dhwe4FinpxHq",
        "colab_type": "code",
        "outputId": "1ac9b91f-bcdf-4cb6-e9c6-e650fe3ca17f",
        "colab": {
          "base_uri": "https://localhost:8080/",
          "height": 221
        }
      },
      "source": [
        "print(bought.shape)\n",
        "bought['game'].value_counts().head(10)"
      ],
      "execution_count": 31,
      "outputs": [
        {
          "output_type": "stream",
          "text": [
            "(56581, 10)\n"
          ],
          "name": "stdout"
        },
        {
          "output_type": "execute_result",
          "data": {
            "text/plain": [
              "Dota 2               4841\n",
              "Team Fortress 2      2323\n",
              "Unturned             1563\n",
              "Left 4 Dead 2         951\n",
              "Counter-Strike        856\n",
              "Warframe              847\n",
              "Garry's Mod           731\n",
              "Robocraft             689\n",
              "Heroes & Generals     658\n",
              "Half-Life 2           639\n",
              "Name: game, dtype: int64"
            ]
          },
          "metadata": {
            "tags": []
          },
          "execution_count": 31
        }
      ]
    },
    {
      "cell_type": "code",
      "metadata": {
        "id": "VDtPHsNOqJlg",
        "colab_type": "code",
        "outputId": "901c1756-9088-4d94-b038-f82f9fda3d8c",
        "colab": {
          "base_uri": "https://localhost:8080/",
          "height": 419
        }
      },
      "source": [
        "dota.sort_values('hours')"
      ],
      "execution_count": 32,
      "outputs": [
        {
          "output_type": "execute_result",
          "data": {
            "text/html": [
              "<div>\n",
              "<style scoped>\n",
              "    .dataframe tbody tr th:only-of-type {\n",
              "        vertical-align: middle;\n",
              "    }\n",
              "\n",
              "    .dataframe tbody tr th {\n",
              "        vertical-align: top;\n",
              "    }\n",
              "\n",
              "    .dataframe thead th {\n",
              "        text-align: right;\n",
              "    }\n",
              "</style>\n",
              "<table border=\"1\" class=\"dataframe\">\n",
              "  <thead>\n",
              "    <tr style=\"text-align: right;\">\n",
              "      <th></th>\n",
              "      <th>id</th>\n",
              "      <th>game</th>\n",
              "      <th>purchase</th>\n",
              "      <th>hours</th>\n",
              "      <th>release</th>\n",
              "      <th>genre</th>\n",
              "      <th>pos_rate</th>\n",
              "      <th>neg_rate</th>\n",
              "      <th>med_play</th>\n",
              "      <th>price</th>\n",
              "    </tr>\n",
              "  </thead>\n",
              "  <tbody>\n",
              "    <tr>\n",
              "      <th>10186</th>\n",
              "      <td>142183287</td>\n",
              "      <td>Dota 2</td>\n",
              "      <td>play</td>\n",
              "      <td>0.1</td>\n",
              "      <td>2013-07-09</td>\n",
              "      <td>Action;Free to Play;Strategy</td>\n",
              "      <td>863507</td>\n",
              "      <td>142079</td>\n",
              "      <td>801</td>\n",
              "      <td>0.0</td>\n",
              "    </tr>\n",
              "    <tr>\n",
              "      <th>17948</th>\n",
              "      <td>193092714</td>\n",
              "      <td>Dota 2</td>\n",
              "      <td>play</td>\n",
              "      <td>0.1</td>\n",
              "      <td>2013-07-09</td>\n",
              "      <td>Action;Free to Play;Strategy</td>\n",
              "      <td>863507</td>\n",
              "      <td>142079</td>\n",
              "      <td>801</td>\n",
              "      <td>0.0</td>\n",
              "    </tr>\n",
              "    <tr>\n",
              "      <th>11964</th>\n",
              "      <td>193012627</td>\n",
              "      <td>Dota 2</td>\n",
              "      <td>play</td>\n",
              "      <td>0.1</td>\n",
              "      <td>2013-07-09</td>\n",
              "      <td>Action;Free to Play;Strategy</td>\n",
              "      <td>863507</td>\n",
              "      <td>142079</td>\n",
              "      <td>801</td>\n",
              "      <td>0.0</td>\n",
              "    </tr>\n",
              "    <tr>\n",
              "      <th>10280</th>\n",
              "      <td>242469861</td>\n",
              "      <td>Dota 2</td>\n",
              "      <td>play</td>\n",
              "      <td>0.1</td>\n",
              "      <td>2013-07-09</td>\n",
              "      <td>Action;Free to Play;Strategy</td>\n",
              "      <td>863507</td>\n",
              "      <td>142079</td>\n",
              "      <td>801</td>\n",
              "      <td>0.0</td>\n",
              "    </tr>\n",
              "    <tr>\n",
              "      <th>17130</th>\n",
              "      <td>138578560</td>\n",
              "      <td>Dota 2</td>\n",
              "      <td>play</td>\n",
              "      <td>0.1</td>\n",
              "      <td>2013-07-09</td>\n",
              "      <td>Action;Free to Play;Strategy</td>\n",
              "      <td>863507</td>\n",
              "      <td>142079</td>\n",
              "      <td>801</td>\n",
              "      <td>0.0</td>\n",
              "    </tr>\n",
              "    <tr>\n",
              "      <th>...</th>\n",
              "      <td>...</td>\n",
              "      <td>...</td>\n",
              "      <td>...</td>\n",
              "      <td>...</td>\n",
              "      <td>...</td>\n",
              "      <td>...</td>\n",
              "      <td>...</td>\n",
              "      <td>...</td>\n",
              "      <td>...</td>\n",
              "      <td>...</td>\n",
              "    </tr>\n",
              "    <tr>\n",
              "      <th>15194</th>\n",
              "      <td>86256882</td>\n",
              "      <td>Dota 2</td>\n",
              "      <td>play</td>\n",
              "      <td>6015.0</td>\n",
              "      <td>2013-07-09</td>\n",
              "      <td>Action;Free to Play;Strategy</td>\n",
              "      <td>863507</td>\n",
              "      <td>142079</td>\n",
              "      <td>801</td>\n",
              "      <td>0.0</td>\n",
              "    </tr>\n",
              "    <tr>\n",
              "      <th>15842</th>\n",
              "      <td>121199670</td>\n",
              "      <td>Dota 2</td>\n",
              "      <td>play</td>\n",
              "      <td>6753.0</td>\n",
              "      <td>2013-07-09</td>\n",
              "      <td>Action;Free to Play;Strategy</td>\n",
              "      <td>863507</td>\n",
              "      <td>142079</td>\n",
              "      <td>801</td>\n",
              "      <td>0.0</td>\n",
              "    </tr>\n",
              "    <tr>\n",
              "      <th>18578</th>\n",
              "      <td>52567955</td>\n",
              "      <td>Dota 2</td>\n",
              "      <td>play</td>\n",
              "      <td>6964.0</td>\n",
              "      <td>2013-07-09</td>\n",
              "      <td>Action;Free to Play;Strategy</td>\n",
              "      <td>863507</td>\n",
              "      <td>142079</td>\n",
              "      <td>801</td>\n",
              "      <td>0.0</td>\n",
              "    </tr>\n",
              "    <tr>\n",
              "      <th>17696</th>\n",
              "      <td>130882834</td>\n",
              "      <td>Dota 2</td>\n",
              "      <td>play</td>\n",
              "      <td>7765.0</td>\n",
              "      <td>2013-07-09</td>\n",
              "      <td>Action;Free to Play;Strategy</td>\n",
              "      <td>863507</td>\n",
              "      <td>142079</td>\n",
              "      <td>801</td>\n",
              "      <td>0.0</td>\n",
              "    </tr>\n",
              "    <tr>\n",
              "      <th>15162</th>\n",
              "      <td>100630947</td>\n",
              "      <td>Dota 2</td>\n",
              "      <td>play</td>\n",
              "      <td>10442.0</td>\n",
              "      <td>2013-07-09</td>\n",
              "      <td>Action;Free to Play;Strategy</td>\n",
              "      <td>863507</td>\n",
              "      <td>142079</td>\n",
              "      <td>801</td>\n",
              "      <td>0.0</td>\n",
              "    </tr>\n",
              "  </tbody>\n",
              "</table>\n",
              "<p>4841 rows × 10 columns</p>\n",
              "</div>"
            ],
            "text/plain": [
              "              id    game purchase    hours  ... pos_rate neg_rate  med_play  price\n",
              "10186  142183287  Dota 2     play      0.1  ...   863507   142079       801    0.0\n",
              "17948  193092714  Dota 2     play      0.1  ...   863507   142079       801    0.0\n",
              "11964  193012627  Dota 2     play      0.1  ...   863507   142079       801    0.0\n",
              "10280  242469861  Dota 2     play      0.1  ...   863507   142079       801    0.0\n",
              "17130  138578560  Dota 2     play      0.1  ...   863507   142079       801    0.0\n",
              "...          ...     ...      ...      ...  ...      ...      ...       ...    ...\n",
              "15194   86256882  Dota 2     play   6015.0  ...   863507   142079       801    0.0\n",
              "15842  121199670  Dota 2     play   6753.0  ...   863507   142079       801    0.0\n",
              "18578   52567955  Dota 2     play   6964.0  ...   863507   142079       801    0.0\n",
              "17696  130882834  Dota 2     play   7765.0  ...   863507   142079       801    0.0\n",
              "15162  100630947  Dota 2     play  10442.0  ...   863507   142079       801    0.0\n",
              "\n",
              "[4841 rows x 10 columns]"
            ]
          },
          "metadata": {
            "tags": []
          },
          "execution_count": 32
        }
      ]
    },
    {
      "cell_type": "code",
      "metadata": {
        "id": "B_qe1hje6pYV",
        "colab_type": "code",
        "colab": {}
      },
      "source": [
        "comp10 = comp10.drop(['med_play'],axis=1)\n"
      ],
      "execution_count": 0,
      "outputs": []
    },
    {
      "cell_type": "code",
      "metadata": {
        "id": "WXMxWdTm59LZ",
        "colab_type": "code",
        "outputId": "a82037cf-9372-482b-fb10-1154bdb80fcf",
        "colab": {
          "base_uri": "https://localhost:8080/",
          "height": 34
        }
      },
      "source": [
        "dota['hours'].median()"
      ],
      "execution_count": 34,
      "outputs": [
        {
          "output_type": "execute_result",
          "data": {
            "text/plain": [
              "5.5"
            ]
          },
          "metadata": {
            "tags": []
          },
          "execution_count": 34
        }
      ]
    },
    {
      "cell_type": "code",
      "metadata": {
        "id": "xrr6MziX7wHw",
        "colab_type": "code",
        "outputId": "27fa5352-5a55-412e-ce87-301d8320767d",
        "colab": {
          "base_uri": "https://localhost:8080/",
          "height": 34
        }
      },
      "source": [
        "tf2['hours'].median()"
      ],
      "execution_count": 35,
      "outputs": [
        {
          "output_type": "execute_result",
          "data": {
            "text/plain": [
              "4.4"
            ]
          },
          "metadata": {
            "tags": []
          },
          "execution_count": 35
        }
      ]
    },
    {
      "cell_type": "code",
      "metadata": {
        "id": "TS2Q4piR7wKm",
        "colab_type": "code",
        "outputId": "ca6eebcb-2d9f-46ab-ee65-aeba32ea2f48",
        "colab": {
          "base_uri": "https://localhost:8080/",
          "height": 34
        }
      },
      "source": [
        "unturn['hours'].median()"
      ],
      "execution_count": 36,
      "outputs": [
        {
          "output_type": "execute_result",
          "data": {
            "text/plain": [
              "3.5"
            ]
          },
          "metadata": {
            "tags": []
          },
          "execution_count": 36
        }
      ]
    },
    {
      "cell_type": "code",
      "metadata": {
        "id": "BFoqzxb77wOI",
        "colab_type": "code",
        "outputId": "4dcee4c0-f871-4124-ccae-a01160b2ffb2",
        "colab": {
          "base_uri": "https://localhost:8080/",
          "height": 34
        }
      },
      "source": [
        "l4d2['hours'].median()"
      ],
      "execution_count": 37,
      "outputs": [
        {
          "output_type": "execute_result",
          "data": {
            "text/plain": [
              "10.5"
            ]
          },
          "metadata": {
            "tags": []
          },
          "execution_count": 37
        }
      ]
    },
    {
      "cell_type": "code",
      "metadata": {
        "id": "T1ZAtSHM7wRS",
        "colab_type": "code",
        "outputId": "8711df3d-0fe0-4336-a310-1cdb67c06d8b",
        "colab": {
          "base_uri": "https://localhost:8080/",
          "height": 34
        }
      },
      "source": [
        "garry['hours'].median()"
      ],
      "execution_count": 38,
      "outputs": [
        {
          "output_type": "execute_result",
          "data": {
            "text/plain": [
              "17.25"
            ]
          },
          "metadata": {
            "tags": []
          },
          "execution_count": 38
        }
      ]
    },
    {
      "cell_type": "code",
      "metadata": {
        "id": "F8R2LS8c7wU5",
        "colab_type": "code",
        "outputId": "dbf70c11-d378-4fde-c9b4-cfd49b77ed80",
        "colab": {
          "base_uri": "https://localhost:8080/",
          "height": 34
        }
      },
      "source": [
        "counter['hours'].median()"
      ],
      "execution_count": 39,
      "outputs": [
        {
          "output_type": "execute_result",
          "data": {
            "text/plain": [
              "8.8"
            ]
          },
          "metadata": {
            "tags": []
          },
          "execution_count": 39
        }
      ]
    },
    {
      "cell_type": "code",
      "metadata": {
        "id": "Fk-khjYK7wXx",
        "colab_type": "code",
        "outputId": "6eaaf681-eeba-49cd-d6e1-3999af696ff5",
        "colab": {
          "base_uri": "https://localhost:8080/",
          "height": 34
        }
      },
      "source": [
        "terr['hours'].median()"
      ],
      "execution_count": 40,
      "outputs": [
        {
          "output_type": "execute_result",
          "data": {
            "text/plain": [
              "20.35"
            ]
          },
          "metadata": {
            "tags": []
          },
          "execution_count": 40
        }
      ]
    },
    {
      "cell_type": "code",
      "metadata": {
        "id": "ZpOWIsUe7wbi",
        "colab_type": "code",
        "outputId": "4ea90771-27d5-4d68-f17d-374773328926",
        "colab": {
          "base_uri": "https://localhost:8080/",
          "height": 34
        }
      },
      "source": [
        "portal2['hours'].median()"
      ],
      "execution_count": 41,
      "outputs": [
        {
          "output_type": "execute_result",
          "data": {
            "text/plain": [
              "10.8"
            ]
          },
          "metadata": {
            "tags": []
          },
          "execution_count": 41
        }
      ]
    },
    {
      "cell_type": "code",
      "metadata": {
        "id": "1wBzsd1u87Os",
        "colab_type": "code",
        "outputId": "d1e81cb7-69f0-401a-ae8a-517407f65238",
        "colab": {
          "base_uri": "https://localhost:8080/",
          "height": 34
        }
      },
      "source": [
        "warframe['hours'].median()"
      ],
      "execution_count": 42,
      "outputs": [
        {
          "output_type": "execute_result",
          "data": {
            "text/plain": [
              "5.85"
            ]
          },
          "metadata": {
            "tags": []
          },
          "execution_count": 42
        }
      ]
    },
    {
      "cell_type": "code",
      "metadata": {
        "id": "Z1_uaGVR7wfi",
        "colab_type": "code",
        "outputId": "a9bc496b-ed22-482d-e867-5ab1933a74f9",
        "colab": {
          "base_uri": "https://localhost:8080/",
          "height": 34
        }
      },
      "source": [
        "portal['hours'].median()"
      ],
      "execution_count": 43,
      "outputs": [
        {
          "output_type": "execute_result",
          "data": {
            "text/plain": [
              "3.2"
            ]
          },
          "metadata": {
            "tags": []
          },
          "execution_count": 43
        }
      ]
    },
    {
      "cell_type": "code",
      "metadata": {
        "id": "UowQzvTP7lbh",
        "colab_type": "code",
        "outputId": "517cfa2c-b4c3-407d-fdf7-2f657cd71db4",
        "colab": {
          "base_uri": "https://localhost:8080/",
          "height": 359
        }
      },
      "source": [
        "median = [5.5, 4.4, 3.5, 10.5,17.25,8.8,20.35,10.8,5.85,3.2]\n",
        "comp10['median'] = median\n",
        "comp10"
      ],
      "execution_count": 44,
      "outputs": [
        {
          "output_type": "execute_result",
          "data": {
            "text/html": [
              "<div>\n",
              "<style scoped>\n",
              "    .dataframe tbody tr th:only-of-type {\n",
              "        vertical-align: middle;\n",
              "    }\n",
              "\n",
              "    .dataframe tbody tr th {\n",
              "        vertical-align: top;\n",
              "    }\n",
              "\n",
              "    .dataframe thead th {\n",
              "        text-align: right;\n",
              "    }\n",
              "</style>\n",
              "<table border=\"1\" class=\"dataframe\">\n",
              "  <thead>\n",
              "    <tr style=\"text-align: right;\">\n",
              "      <th></th>\n",
              "      <th>game</th>\n",
              "      <th>players</th>\n",
              "      <th>mean</th>\n",
              "      <th>release</th>\n",
              "      <th>genre</th>\n",
              "      <th>pos_rate</th>\n",
              "      <th>neg_rate</th>\n",
              "      <th>price</th>\n",
              "      <th>median</th>\n",
              "    </tr>\n",
              "  </thead>\n",
              "  <tbody>\n",
              "    <tr>\n",
              "      <th>0</th>\n",
              "      <td>Dota 2</td>\n",
              "      <td>4841</td>\n",
              "      <td>202.79</td>\n",
              "      <td>2013-07-09</td>\n",
              "      <td>Action;Free to Play;Strategy</td>\n",
              "      <td>863507</td>\n",
              "      <td>142079</td>\n",
              "      <td>0.00</td>\n",
              "      <td>5.50</td>\n",
              "    </tr>\n",
              "    <tr>\n",
              "      <th>4841</th>\n",
              "      <td>Team Fortress 2</td>\n",
              "      <td>2323</td>\n",
              "      <td>74.76</td>\n",
              "      <td>2007-10-10</td>\n",
              "      <td>Action;Free to Play</td>\n",
              "      <td>515879</td>\n",
              "      <td>34036</td>\n",
              "      <td>0.00</td>\n",
              "      <td>4.40</td>\n",
              "    </tr>\n",
              "    <tr>\n",
              "      <th>7164</th>\n",
              "      <td>Unturned</td>\n",
              "      <td>1069</td>\n",
              "      <td>15.06</td>\n",
              "      <td>2017-07-07</td>\n",
              "      <td>Action;Adventure;Casual;Free to Play;Indie</td>\n",
              "      <td>292574</td>\n",
              "      <td>31482</td>\n",
              "      <td>0.00</td>\n",
              "      <td>3.50</td>\n",
              "    </tr>\n",
              "    <tr>\n",
              "      <th>8233</th>\n",
              "      <td>Left 4 Dead 2</td>\n",
              "      <td>801</td>\n",
              "      <td>41.94</td>\n",
              "      <td>2009-11-19</td>\n",
              "      <td>Action</td>\n",
              "      <td>251789</td>\n",
              "      <td>8418</td>\n",
              "      <td>7.19</td>\n",
              "      <td>10.50</td>\n",
              "    </tr>\n",
              "    <tr>\n",
              "      <th>9034</th>\n",
              "      <td>Garry's Mod</td>\n",
              "      <td>666</td>\n",
              "      <td>76.66</td>\n",
              "      <td>2006-11-29</td>\n",
              "      <td>Indie;Simulation</td>\n",
              "      <td>363721</td>\n",
              "      <td>16433</td>\n",
              "      <td>6.99</td>\n",
              "      <td>17.25</td>\n",
              "    </tr>\n",
              "    <tr>\n",
              "      <th>9700</th>\n",
              "      <td>Counter-Strike</td>\n",
              "      <td>568</td>\n",
              "      <td>236.38</td>\n",
              "      <td>2000-11-01</td>\n",
              "      <td>Action</td>\n",
              "      <td>124534</td>\n",
              "      <td>3339</td>\n",
              "      <td>7.19</td>\n",
              "      <td>8.80</td>\n",
              "    </tr>\n",
              "    <tr>\n",
              "      <th>10268</th>\n",
              "      <td>Terraria</td>\n",
              "      <td>460</td>\n",
              "      <td>65.11</td>\n",
              "      <td>2011-05-16</td>\n",
              "      <td>Action;Adventure;Indie;RPG</td>\n",
              "      <td>255600</td>\n",
              "      <td>7797</td>\n",
              "      <td>6.99</td>\n",
              "      <td>20.35</td>\n",
              "    </tr>\n",
              "    <tr>\n",
              "      <th>10728</th>\n",
              "      <td>Portal 2</td>\n",
              "      <td>453</td>\n",
              "      <td>20.13</td>\n",
              "      <td>2011-04-18</td>\n",
              "      <td>Action;Adventure</td>\n",
              "      <td>138220</td>\n",
              "      <td>1891</td>\n",
              "      <td>7.19</td>\n",
              "      <td>10.80</td>\n",
              "    </tr>\n",
              "    <tr>\n",
              "      <th>11181</th>\n",
              "      <td>Warframe</td>\n",
              "      <td>424</td>\n",
              "      <td>63.86</td>\n",
              "      <td>2013-03-25</td>\n",
              "      <td>Action;Free to Play</td>\n",
              "      <td>226541</td>\n",
              "      <td>20268</td>\n",
              "      <td>0.00</td>\n",
              "      <td>5.85</td>\n",
              "    </tr>\n",
              "    <tr>\n",
              "      <th>11605</th>\n",
              "      <td>Portal</td>\n",
              "      <td>417</td>\n",
              "      <td>5.47</td>\n",
              "      <td>2007-10-10</td>\n",
              "      <td>Action</td>\n",
              "      <td>51801</td>\n",
              "      <td>1080</td>\n",
              "      <td>7.19</td>\n",
              "      <td>3.20</td>\n",
              "    </tr>\n",
              "  </tbody>\n",
              "</table>\n",
              "</div>"
            ],
            "text/plain": [
              "                  game  players    mean  ... neg_rate price  median\n",
              "0               Dota 2     4841  202.79  ...   142079  0.00    5.50\n",
              "4841   Team Fortress 2     2323   74.76  ...    34036  0.00    4.40\n",
              "7164          Unturned     1069   15.06  ...    31482  0.00    3.50\n",
              "8233     Left 4 Dead 2      801   41.94  ...     8418  7.19   10.50\n",
              "9034       Garry's Mod      666   76.66  ...    16433  6.99   17.25\n",
              "9700    Counter-Strike      568  236.38  ...     3339  7.19    8.80\n",
              "10268         Terraria      460   65.11  ...     7797  6.99   20.35\n",
              "10728         Portal 2      453   20.13  ...     1891  7.19   10.80\n",
              "11181         Warframe      424   63.86  ...    20268  0.00    5.85\n",
              "11605           Portal      417    5.47  ...     1080  7.19    3.20\n",
              "\n",
              "[10 rows x 9 columns]"
            ]
          },
          "metadata": {
            "tags": []
          },
          "execution_count": 44
        }
      ]
    },
    {
      "cell_type": "code",
      "metadata": {
        "id": "JFlsbEe-9nNt",
        "colab_type": "code",
        "colab": {}
      },
      "source": [
        "comp10.to_csv('comp_top10_played.csv')"
      ],
      "execution_count": 0,
      "outputs": []
    },
    {
      "cell_type": "code",
      "metadata": {
        "id": "WlfA9PiI-Jtr",
        "colab_type": "code",
        "outputId": "32a79cd7-810c-4b51-b7a0-bbdc6655a4e8",
        "colab": {
          "base_uri": "https://localhost:8080/",
          "height": 34
        }
      },
      "source": [
        "robo = test.loc[test['game'] == 'Robocraft']\n",
        "robo['hours'].mean()"
      ],
      "execution_count": 46,
      "outputs": [
        {
          "output_type": "execute_result",
          "data": {
            "text/plain": [
              "22.350368550368547"
            ]
          },
          "metadata": {
            "tags": []
          },
          "execution_count": 46
        }
      ]
    },
    {
      "cell_type": "code",
      "metadata": {
        "id": "sWKqAvdeAEEb",
        "colab_type": "code",
        "outputId": "fff1065e-e859-4d43-8e77-9f13cfd2c801",
        "colab": {
          "base_uri": "https://localhost:8080/",
          "height": 34
        }
      },
      "source": [
        "hero = test.loc[test['game'] == 'Heroes & Generals']\n",
        "hero['hours'].mean()"
      ],
      "execution_count": 47,
      "outputs": [
        {
          "output_type": "execute_result",
          "data": {
            "text/plain": [
              "9.849253731343284"
            ]
          },
          "metadata": {
            "tags": []
          },
          "execution_count": 47
        }
      ]
    },
    {
      "cell_type": "code",
      "metadata": {
        "id": "gEio_6mlAEHg",
        "colab_type": "code",
        "outputId": "1982705a-d4a2-4bd2-d2eb-e64ab665bce4",
        "colab": {
          "base_uri": "https://localhost:8080/",
          "height": 34
        }
      },
      "source": [
        "half = test.loc[test['game'] == 'Half-Life 2']\n",
        "half['hours'].mean()"
      ],
      "execution_count": 48,
      "outputs": [
        {
          "output_type": "execute_result",
          "data": {
            "text/plain": [
              "11.967134831460674"
            ]
          },
          "metadata": {
            "tags": []
          },
          "execution_count": 48
        }
      ]
    },
    {
      "cell_type": "code",
      "metadata": {
        "id": "WYer90wqAEKR",
        "colab_type": "code",
        "colab": {}
      },
      "source": [
        "data1 = {'game': ['Dota 2', 'Team Fortress 2', 'Unturned', 'Left 4 Dead 2',\n",
        "                 \"Garry's Mod\",'Counter-Strike','Warframe','Robocraft',\n",
        "                 'Heroes & Generals','Half-Life 2'],\n",
        "        'purchased': [4841, 2323, 1563, 951, 731, 856, 847,689,658,639],\n",
        "        'mean': [202.79, 74.76, 15.06, 41.94, 76.66,236.38,63.86,22.35,9.85,11.97],\n",
        "        'median':[5.5,4.4,3.5,10.5,17.25,8.8,5.85,3.6,1.3,6.6]}\n",
        "bought_10 = pd.DataFrame(data1, columns=['game','purchased','mean','median'])\n"
      ],
      "execution_count": 0,
      "outputs": []
    },
    {
      "cell_type": "code",
      "metadata": {
        "id": "Yqsi-aWkAEM_",
        "colab_type": "code",
        "outputId": "b0ede4b6-41b1-4133-8c39-a019a356fc92",
        "colab": {
          "base_uri": "https://localhost:8080/",
          "height": 34
        }
      },
      "source": [
        "robo['hours'].median()"
      ],
      "execution_count": 50,
      "outputs": [
        {
          "output_type": "execute_result",
          "data": {
            "text/plain": [
              "3.6"
            ]
          },
          "metadata": {
            "tags": []
          },
          "execution_count": 50
        }
      ]
    },
    {
      "cell_type": "code",
      "metadata": {
        "id": "mXU9jXVuAEUi",
        "colab_type": "code",
        "outputId": "0752dc7a-12bb-4a18-f464-6e078b4b05fc",
        "colab": {
          "base_uri": "https://localhost:8080/",
          "height": 34
        }
      },
      "source": [
        "hero['hours'].median()"
      ],
      "execution_count": 51,
      "outputs": [
        {
          "output_type": "execute_result",
          "data": {
            "text/plain": [
              "1.3"
            ]
          },
          "metadata": {
            "tags": []
          },
          "execution_count": 51
        }
      ]
    },
    {
      "cell_type": "code",
      "metadata": {
        "id": "JC5cTExVBwpG",
        "colab_type": "code",
        "outputId": "7da6a4e1-b942-4bcd-ee43-860393ae69e8",
        "colab": {
          "base_uri": "https://localhost:8080/",
          "height": 34
        }
      },
      "source": [
        "half['hours'].median()"
      ],
      "execution_count": 52,
      "outputs": [
        {
          "output_type": "execute_result",
          "data": {
            "text/plain": [
              "6.6"
            ]
          },
          "metadata": {
            "tags": []
          },
          "execution_count": 52
        }
      ]
    },
    {
      "cell_type": "code",
      "metadata": {
        "id": "AugzzGMSCF-u",
        "colab_type": "code",
        "outputId": "1e58a794-41de-4688-eb81-f93592f21d2d",
        "colab": {
          "base_uri": "https://localhost:8080/",
          "height": 359
        }
      },
      "source": [
        "bought_10 = pd.merge(bought_10, steam, on='game',how='inner')\n",
        "bought_10.drop('med_play',axis=1)"
      ],
      "execution_count": 53,
      "outputs": [
        {
          "output_type": "execute_result",
          "data": {
            "text/html": [
              "<div>\n",
              "<style scoped>\n",
              "    .dataframe tbody tr th:only-of-type {\n",
              "        vertical-align: middle;\n",
              "    }\n",
              "\n",
              "    .dataframe tbody tr th {\n",
              "        vertical-align: top;\n",
              "    }\n",
              "\n",
              "    .dataframe thead th {\n",
              "        text-align: right;\n",
              "    }\n",
              "</style>\n",
              "<table border=\"1\" class=\"dataframe\">\n",
              "  <thead>\n",
              "    <tr style=\"text-align: right;\">\n",
              "      <th></th>\n",
              "      <th>game</th>\n",
              "      <th>purchased</th>\n",
              "      <th>mean</th>\n",
              "      <th>median</th>\n",
              "      <th>release</th>\n",
              "      <th>genre</th>\n",
              "      <th>pos_rate</th>\n",
              "      <th>neg_rate</th>\n",
              "      <th>price</th>\n",
              "    </tr>\n",
              "  </thead>\n",
              "  <tbody>\n",
              "    <tr>\n",
              "      <th>0</th>\n",
              "      <td>Dota 2</td>\n",
              "      <td>4841</td>\n",
              "      <td>202.79</td>\n",
              "      <td>5.50</td>\n",
              "      <td>2013-07-09</td>\n",
              "      <td>Action;Free to Play;Strategy</td>\n",
              "      <td>863507</td>\n",
              "      <td>142079</td>\n",
              "      <td>0.00</td>\n",
              "    </tr>\n",
              "    <tr>\n",
              "      <th>1</th>\n",
              "      <td>Team Fortress 2</td>\n",
              "      <td>2323</td>\n",
              "      <td>74.76</td>\n",
              "      <td>4.40</td>\n",
              "      <td>2007-10-10</td>\n",
              "      <td>Action;Free to Play</td>\n",
              "      <td>515879</td>\n",
              "      <td>34036</td>\n",
              "      <td>0.00</td>\n",
              "    </tr>\n",
              "    <tr>\n",
              "      <th>2</th>\n",
              "      <td>Unturned</td>\n",
              "      <td>1563</td>\n",
              "      <td>15.06</td>\n",
              "      <td>3.50</td>\n",
              "      <td>2017-07-07</td>\n",
              "      <td>Action;Adventure;Casual;Free to Play;Indie</td>\n",
              "      <td>292574</td>\n",
              "      <td>31482</td>\n",
              "      <td>0.00</td>\n",
              "    </tr>\n",
              "    <tr>\n",
              "      <th>3</th>\n",
              "      <td>Left 4 Dead 2</td>\n",
              "      <td>951</td>\n",
              "      <td>41.94</td>\n",
              "      <td>10.50</td>\n",
              "      <td>2009-11-19</td>\n",
              "      <td>Action</td>\n",
              "      <td>251789</td>\n",
              "      <td>8418</td>\n",
              "      <td>7.19</td>\n",
              "    </tr>\n",
              "    <tr>\n",
              "      <th>4</th>\n",
              "      <td>Garry's Mod</td>\n",
              "      <td>731</td>\n",
              "      <td>76.66</td>\n",
              "      <td>17.25</td>\n",
              "      <td>2006-11-29</td>\n",
              "      <td>Indie;Simulation</td>\n",
              "      <td>363721</td>\n",
              "      <td>16433</td>\n",
              "      <td>6.99</td>\n",
              "    </tr>\n",
              "    <tr>\n",
              "      <th>5</th>\n",
              "      <td>Counter-Strike</td>\n",
              "      <td>856</td>\n",
              "      <td>236.38</td>\n",
              "      <td>8.80</td>\n",
              "      <td>2000-11-01</td>\n",
              "      <td>Action</td>\n",
              "      <td>124534</td>\n",
              "      <td>3339</td>\n",
              "      <td>7.19</td>\n",
              "    </tr>\n",
              "    <tr>\n",
              "      <th>6</th>\n",
              "      <td>Warframe</td>\n",
              "      <td>847</td>\n",
              "      <td>63.86</td>\n",
              "      <td>5.85</td>\n",
              "      <td>2013-03-25</td>\n",
              "      <td>Action;Free to Play</td>\n",
              "      <td>226541</td>\n",
              "      <td>20268</td>\n",
              "      <td>0.00</td>\n",
              "    </tr>\n",
              "    <tr>\n",
              "      <th>7</th>\n",
              "      <td>Robocraft</td>\n",
              "      <td>689</td>\n",
              "      <td>22.35</td>\n",
              "      <td>3.60</td>\n",
              "      <td>2017-08-24</td>\n",
              "      <td>Action;Free to Play;Indie;Massively Multiplaye...</td>\n",
              "      <td>80360</td>\n",
              "      <td>30987</td>\n",
              "      <td>0.00</td>\n",
              "    </tr>\n",
              "    <tr>\n",
              "      <th>8</th>\n",
              "      <td>Heroes &amp; Generals</td>\n",
              "      <td>658</td>\n",
              "      <td>9.85</td>\n",
              "      <td>1.30</td>\n",
              "      <td>2016-10-18</td>\n",
              "      <td>Action;Free to Play;Indie;Massively Multiplayer</td>\n",
              "      <td>65856</td>\n",
              "      <td>34416</td>\n",
              "      <td>0.00</td>\n",
              "    </tr>\n",
              "    <tr>\n",
              "      <th>9</th>\n",
              "      <td>Half-Life 2</td>\n",
              "      <td>639</td>\n",
              "      <td>11.97</td>\n",
              "      <td>6.60</td>\n",
              "      <td>2004-11-16</td>\n",
              "      <td>Action</td>\n",
              "      <td>67902</td>\n",
              "      <td>2419</td>\n",
              "      <td>7.19</td>\n",
              "    </tr>\n",
              "  </tbody>\n",
              "</table>\n",
              "</div>"
            ],
            "text/plain": [
              "                game  purchased    mean  ...  pos_rate neg_rate price\n",
              "0             Dota 2       4841  202.79  ...    863507   142079  0.00\n",
              "1    Team Fortress 2       2323   74.76  ...    515879    34036  0.00\n",
              "2           Unturned       1563   15.06  ...    292574    31482  0.00\n",
              "3      Left 4 Dead 2        951   41.94  ...    251789     8418  7.19\n",
              "4        Garry's Mod        731   76.66  ...    363721    16433  6.99\n",
              "5     Counter-Strike        856  236.38  ...    124534     3339  7.19\n",
              "6           Warframe        847   63.86  ...    226541    20268  0.00\n",
              "7          Robocraft        689   22.35  ...     80360    30987  0.00\n",
              "8  Heroes & Generals        658    9.85  ...     65856    34416  0.00\n",
              "9        Half-Life 2        639   11.97  ...     67902     2419  7.19\n",
              "\n",
              "[10 rows x 9 columns]"
            ]
          },
          "metadata": {
            "tags": []
          },
          "execution_count": 53
        }
      ]
    },
    {
      "cell_type": "code",
      "metadata": {
        "id": "lMF7fM5NCw5Z",
        "colab_type": "code",
        "outputId": "99974ef5-fe58-43a9-9dc2-eb18c7a3e421",
        "colab": {
          "base_uri": "https://localhost:8080/",
          "height": 204
        }
      },
      "source": [
        "total['price'].value_counts().head(10)"
      ],
      "execution_count": 54,
      "outputs": [
        {
          "output_type": "execute_result",
          "data": {
            "text/plain": [
              "0.00     36730\n",
              "6.99      9966\n",
              "7.19      8388\n",
              "3.99      5009\n",
              "14.99     4552\n",
              "19.99     3356\n",
              "10.99     3049\n",
              "7.99      2515\n",
              "9.99      2144\n",
              "4.99      1092\n",
              "Name: price, dtype: int64"
            ]
          },
          "metadata": {
            "tags": []
          },
          "execution_count": 54
        }
      ]
    },
    {
      "cell_type": "code",
      "metadata": {
        "id": "wY-sSXQEJ5fo",
        "colab_type": "code",
        "colab": {}
      },
      "source": [
        "bought_10.to_csv('bought_10.csv')"
      ],
      "execution_count": 0,
      "outputs": []
    },
    {
      "cell_type": "code",
      "metadata": {
        "id": "OhRY31VYkUUR",
        "colab_type": "code",
        "colab": {
          "base_uri": "https://localhost:8080/",
          "height": 714
        },
        "outputId": "7abcdbbb-9a16-4132-a851-0a7e917e3b7e"
      },
      "source": [
        "steam['price'].value_counts().head(40)"
      ],
      "execution_count": 62,
      "outputs": [
        {
          "output_type": "execute_result",
          "data": {
            "text/plain": [
              "3.99     3211\n",
              "0.79     2892\n",
              "0.00     2560\n",
              "6.99     2050\n",
              "7.19     1304\n",
              "1.69     1276\n",
              "2.09     1040\n",
              "4.79      847\n",
              "10.99     843\n",
              "2.89      793\n",
              "1.99      774\n",
              "14.99     758\n",
              "4.99      717\n",
              "11.39     612\n",
              "1.59      586\n",
              "15.49     520\n",
              "2.79      476\n",
              "9.99      433\n",
              "5.19      430\n",
              "5.79      401\n",
              "5.59      345\n",
              "5.99      265\n",
              "7.99      226\n",
              "8.99      206\n",
              "6.19      206\n",
              "9.29      180\n",
              "10.29     169\n",
              "11.99     148\n",
              "3.19      143\n",
              "29.99     141\n",
              "22.99     133\n",
              "19.49     127\n",
              "2.99      123\n",
              "23.79     118\n",
              "18.99     115\n",
              "19.99     105\n",
              "13.99      89\n",
              "24.99      88\n",
              "8.29       85\n",
              "15.99      83\n",
              "Name: price, dtype: int64"
            ]
          },
          "metadata": {
            "tags": []
          },
          "execution_count": 62
        }
      ]
    },
    {
      "cell_type": "code",
      "metadata": {
        "id": "lFDHE5zCur8L",
        "colab_type": "code",
        "colab": {
          "base_uri": "https://localhost:8080/",
          "height": 683
        },
        "outputId": "9be97f86-7429-488a-ead9-3489f8e7040d"
      },
      "source": [
        "import matplotlib.pyplot as plt\n",
        "\n",
        "labels = list(comp10['game'])\n",
        "means = list(comp10['mean'])\n",
        "median = list(comp10['median'])\n",
        "x = np.arange(len(labels))\n",
        "width = 0.5 \n",
        "fig, ax = plt.subplots(figsize=(15, 10))\n",
        "rects1 = ax.bar(x - width/2, means, width, label='Mean')\n",
        "rects2 = ax.bar(x + width/2, median, width, label='Median')\n",
        "ax.set_ylabel('Hours Played', fontsize=15)\n",
        "ax.set_title('The Mean and Median of Hours Played', fontsize=25)\n",
        "ax.set_xticks(x)\n",
        "ax.set_xticklabels(labels, rotation='vertical')\n",
        "ax.legend()\n",
        "\n",
        "def autolabel(rects):\n",
        "    \"\"\"Attach a text label above each bar in *rects*, displaying its height.\"\"\"\n",
        "    for rect in rects:\n",
        "        height = rect.get_height()\n",
        "        ax.annotate('{}'.format(height),\n",
        "                    xy=(rect.get_x() + rect.get_width() / 2, height),\n",
        "                    xytext=(0, 3),  # 3 points vertical offset\n",
        "                    textcoords=\"offset points\",\n",
        "                    ha='center', va='bottom')\n",
        "\n",
        "\n",
        "autolabel(rects1)\n",
        "autolabel(rects2)\n",
        "fig.tight_layout()\n",
        "plt.show()"
      ],
      "execution_count": 64,
      "outputs": [
        {
          "output_type": "display_data",
          "data": {
            "image/png": "[encoded data removed]",
            "text/plain": [
              "<Figure size 1080x720 with 1 Axes>"
            ]
          },
          "metadata": {
            "tags": [],
            "needs_background": "light"
          }
        }
      ]
    },
    {
      "cell_type": "code",
      "metadata": {
        "id": "wuBqWOGousF_",
        "colab_type": "code",
        "colab": {
          "base_uri": "https://localhost:8080/",
          "height": 683
        },
        "outputId": "7adedd8b-9633-49f5-f98f-c47a1ecd3076"
      },
      "source": [
        "pos = list(comp10['pos_rate'])\n",
        "neg = list(comp10['neg_rate'])\n",
        "fig, ax = plt.subplots(figsize=(15, 10))\n",
        "rects1 = ax.bar(x - width/2, pos, width, label='Positive Ratings')\n",
        "rects2 = ax.bar(x + width/2, neg, width, label='Negative Ratings')\n",
        "\n",
        "ax.set_ylabel('Number of Reviews', fontsize=15)\n",
        "ax.set_title('Player Ratings on the Games', fontsize=25)\n",
        "ax.set_xticks(x)\n",
        "ax.set_xticklabels(labels, rotation='vertical')\n",
        "ax.legend()\n",
        "\n",
        "def autolabel(rects):\n",
        "    \"\"\"Attach a text label above each bar in *rects*, displaying its height.\"\"\"\n",
        "    for rect in rects:\n",
        "        height = rect.get_height()\n",
        "        ax.annotate('{}'.format(height),\n",
        "                    xy=(rect.get_x() + rect.get_width() / 2, height),\n",
        "                    xytext=(0, 3),  # 3 points vertical offset\n",
        "                    textcoords=\"offset points\",\n",
        "                    ha='center', va='bottom')\n",
        "\n",
        "autolabel(rects1)\n",
        "autolabel(rects2)\n",
        "fig.tight_layout()\n",
        "plt.show()"
      ],
      "execution_count": 65,
      "outputs": [
        {
          "output_type": "display_data",
          "data": {
            "image/png": "[encoded data removed]",
            "text/plain": [
              "<Figure size 1080x720 with 1 Axes>"
            ]
          },
          "metadata": {
            "tags": [],
            "needs_background": "light"
          }
        }
      ]
    },
    {
      "cell_type": "code",
      "metadata": {
        "id": "dd8uS72LusNM",
        "colab_type": "code",
        "colab": {}
      },
      "source": [
        "import datetime\n",
        "date = comp10\n",
        "date['dates_parsed'] = pd.to_datetime(date['release'], infer_datetime_format=True)\n",
        "date['year'] = pd.DatetimeIndex(date['dates_parsed']).year\n",
        "date= date.drop(['release','dates_parsed'], axis=1)"
      ],
      "execution_count": 0,
      "outputs": []
    },
    {
      "cell_type": "code",
      "metadata": {
        "id": "mT9yYfn_vw50",
        "colab_type": "code",
        "colab": {
          "base_uri": "https://localhost:8080/",
          "height": 359
        },
        "outputId": "77b29403-0539-4791-fd41-90134c95a6de"
      },
      "source": [
        "date"
      ],
      "execution_count": 68,
      "outputs": [
        {
          "output_type": "execute_result",
          "data": {
            "text/html": [
              "<div>\n",
              "<style scoped>\n",
              "    .dataframe tbody tr th:only-of-type {\n",
              "        vertical-align: middle;\n",
              "    }\n",
              "\n",
              "    .dataframe tbody tr th {\n",
              "        vertical-align: top;\n",
              "    }\n",
              "\n",
              "    .dataframe thead th {\n",
              "        text-align: right;\n",
              "    }\n",
              "</style>\n",
              "<table border=\"1\" class=\"dataframe\">\n",
              "  <thead>\n",
              "    <tr style=\"text-align: right;\">\n",
              "      <th></th>\n",
              "      <th>game</th>\n",
              "      <th>players</th>\n",
              "      <th>mean</th>\n",
              "      <th>genre</th>\n",
              "      <th>pos_rate</th>\n",
              "      <th>neg_rate</th>\n",
              "      <th>price</th>\n",
              "      <th>median</th>\n",
              "      <th>year</th>\n",
              "    </tr>\n",
              "  </thead>\n",
              "  <tbody>\n",
              "    <tr>\n",
              "      <th>0</th>\n",
              "      <td>Dota 2</td>\n",
              "      <td>4841</td>\n",
              "      <td>202.79</td>\n",
              "      <td>Action;Free to Play;Strategy</td>\n",
              "      <td>863507</td>\n",
              "      <td>142079</td>\n",
              "      <td>0.00</td>\n",
              "      <td>5.50</td>\n",
              "      <td>2013</td>\n",
              "    </tr>\n",
              "    <tr>\n",
              "      <th>4841</th>\n",
              "      <td>Team Fortress 2</td>\n",
              "      <td>2323</td>\n",
              "      <td>74.76</td>\n",
              "      <td>Action;Free to Play</td>\n",
              "      <td>515879</td>\n",
              "      <td>34036</td>\n",
              "      <td>0.00</td>\n",
              "      <td>4.40</td>\n",
              "      <td>2007</td>\n",
              "    </tr>\n",
              "    <tr>\n",
              "      <th>7164</th>\n",
              "      <td>Unturned</td>\n",
              "      <td>1069</td>\n",
              "      <td>15.06</td>\n",
              "      <td>Action;Adventure;Casual;Free to Play;Indie</td>\n",
              "      <td>292574</td>\n",
              "      <td>31482</td>\n",
              "      <td>0.00</td>\n",
              "      <td>3.50</td>\n",
              "      <td>2017</td>\n",
              "    </tr>\n",
              "    <tr>\n",
              "      <th>8233</th>\n",
              "      <td>Left 4 Dead 2</td>\n",
              "      <td>801</td>\n",
              "      <td>41.94</td>\n",
              "      <td>Action</td>\n",
              "      <td>251789</td>\n",
              "      <td>8418</td>\n",
              "      <td>7.19</td>\n",
              "      <td>10.50</td>\n",
              "      <td>2009</td>\n",
              "    </tr>\n",
              "    <tr>\n",
              "      <th>9034</th>\n",
              "      <td>Garry's Mod</td>\n",
              "      <td>666</td>\n",
              "      <td>76.66</td>\n",
              "      <td>Indie;Simulation</td>\n",
              "      <td>363721</td>\n",
              "      <td>16433</td>\n",
              "      <td>6.99</td>\n",
              "      <td>17.25</td>\n",
              "      <td>2006</td>\n",
              "    </tr>\n",
              "    <tr>\n",
              "      <th>9700</th>\n",
              "      <td>Counter-Strike</td>\n",
              "      <td>568</td>\n",
              "      <td>236.38</td>\n",
              "      <td>Action</td>\n",
              "      <td>124534</td>\n",
              "      <td>3339</td>\n",
              "      <td>7.19</td>\n",
              "      <td>8.80</td>\n",
              "      <td>2000</td>\n",
              "    </tr>\n",
              "    <tr>\n",
              "      <th>10268</th>\n",
              "      <td>Terraria</td>\n",
              "      <td>460</td>\n",
              "      <td>65.11</td>\n",
              "      <td>Action;Adventure;Indie;RPG</td>\n",
              "      <td>255600</td>\n",
              "      <td>7797</td>\n",
              "      <td>6.99</td>\n",
              "      <td>20.35</td>\n",
              "      <td>2011</td>\n",
              "    </tr>\n",
              "    <tr>\n",
              "      <th>10728</th>\n",
              "      <td>Portal 2</td>\n",
              "      <td>453</td>\n",
              "      <td>20.13</td>\n",
              "      <td>Action;Adventure</td>\n",
              "      <td>138220</td>\n",
              "      <td>1891</td>\n",
              "      <td>7.19</td>\n",
              "      <td>10.80</td>\n",
              "      <td>2011</td>\n",
              "    </tr>\n",
              "    <tr>\n",
              "      <th>11181</th>\n",
              "      <td>Warframe</td>\n",
              "      <td>424</td>\n",
              "      <td>63.86</td>\n",
              "      <td>Action;Free to Play</td>\n",
              "      <td>226541</td>\n",
              "      <td>20268</td>\n",
              "      <td>0.00</td>\n",
              "      <td>5.85</td>\n",
              "      <td>2013</td>\n",
              "    </tr>\n",
              "    <tr>\n",
              "      <th>11605</th>\n",
              "      <td>Portal</td>\n",
              "      <td>417</td>\n",
              "      <td>5.47</td>\n",
              "      <td>Action</td>\n",
              "      <td>51801</td>\n",
              "      <td>1080</td>\n",
              "      <td>7.19</td>\n",
              "      <td>3.20</td>\n",
              "      <td>2007</td>\n",
              "    </tr>\n",
              "  </tbody>\n",
              "</table>\n",
              "</div>"
            ],
            "text/plain": [
              "                  game  players    mean  ... price  median  year\n",
              "0               Dota 2     4841  202.79  ...  0.00    5.50  2013\n",
              "4841   Team Fortress 2     2323   74.76  ...  0.00    4.40  2007\n",
              "7164          Unturned     1069   15.06  ...  0.00    3.50  2017\n",
              "8233     Left 4 Dead 2      801   41.94  ...  7.19   10.50  2009\n",
              "9034       Garry's Mod      666   76.66  ...  6.99   17.25  2006\n",
              "9700    Counter-Strike      568  236.38  ...  7.19    8.80  2000\n",
              "10268         Terraria      460   65.11  ...  6.99   20.35  2011\n",
              "10728         Portal 2      453   20.13  ...  7.19   10.80  2011\n",
              "11181         Warframe      424   63.86  ...  0.00    5.85  2013\n",
              "11605           Portal      417    5.47  ...  7.19    3.20  2007\n",
              "\n",
              "[10 rows x 9 columns]"
            ]
          },
          "metadata": {
            "tags": []
          },
          "execution_count": 68
        }
      ]
    }
  ]
}