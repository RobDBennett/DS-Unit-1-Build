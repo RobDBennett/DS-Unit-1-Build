{
  "nbformat": 4,
  "nbformat_minor": 0,
  "metadata": {
    "colab": {
      "name": "SteamDataShaping.ipynb",
      "provenance": [],
      "authorship_tag": "ABX9TyNfJMjerzeXLhuVxPLjUTmB",
      "include_colab_link": true
    },
    "kernelspec": {
      "name": "python3",
      "display_name": "Python 3"
    }
  },
  "cells": [
    {
      "cell_type": "markdown",
      "metadata": {
        "id": "view-in-github",
        "colab_type": "text"
      },
      "source": [
        "<a href=\"https://colab.research.google.com/github/RobDBennett/DS-Unit-1-Build/blob/master/SteamDataShaping.ipynb\" target=\"_parent\"><img src=\"https://colab.research.google.com/assets/colab-badge.svg\" alt=\"Open In Colab\"/></a>"
      ]
    },
    {
      "cell_type": "markdown",
      "metadata": {
        "id": "jOYxabeTPTaK",
        "colab_type": "text"
      },
      "source": [
        "#Research Question:\n",
        "##How do people spend their time on Steam?\n",
        "Often times I see a game advertised (usually on a sale, or friends have hyped up), and I'll buy it. And then stop playing it almost immediately in favor of an 'old classic'. How many people share this tendency?\n",
        "\n",
        "For me personally, this is a trend that I noticed long ago and I've tried to curb it but it's tricky. There is just something satifying about buying a new game, and yet I find that I play my 'old favorites' far more than these new experiences. Wanting to understand if this is a known part of the business model of Steam or just a quirk I had, I looked for a some data on the subject."
      ]
    },
    {
      "cell_type": "code",
      "metadata": {
        "id": "kvrkxujVPLLo",
        "colab_type": "code",
        "outputId": "c3f2524c-cc1c-4561-be4a-4f4d77878963",
        "colab": {
          "resources": {
            "http://localhost:8080/nbextensions/google.colab/files.js": {
              "data": "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",
              "ok": true,
              "headers": [
                [
                  "content-type",
                  "application/javascript"
                ]
              ],
              "status": 200,
              "status_text": ""
            }
          },
          "base_uri": "https://localhost:8080/",
          "height": 74
        }
      },
      "source": [
        "import pandas as pd\n",
        "import numpy as np\n",
        "from google.colab import files\n",
        "uploaded = files.upload()\n",
        "column_headers= ['id','game','purchase','hours','0']\n"
      ],
      "execution_count": 1,
      "outputs": [
        {
          "output_type": "display_data",
          "data": {
            "text/html": [
              "\n",
              "     <input type=\"file\" id=\"files-f98c6155-321c-443b-a808-e93ef62e201f\" name=\"files[]\" multiple disabled />\n",
              "     <output id=\"result-f98c6155-321c-443b-a808-e93ef62e201f\">\n",
              "      Upload widget is only available when the cell has been executed in the\n",
              "      current browser session. Please rerun this cell to enable.\n",
              "      </output>\n",
              "      <script src=\"/nbextensions/google.colab/files.js\"></script> "
            ],
            "text/plain": [
              "<IPython.core.display.HTML object>"
            ]
          },
          "metadata": {
            "tags": []
          }
        },
        {
          "output_type": "stream",
          "text": [
            "Saving steam-200k.csv to steam-200k (1).csv\n"
          ],
          "name": "stdout"
        }
      ]
    },
    {
      "cell_type": "code",
      "metadata": {
        "id": "lpg6xjTYRY2k",
        "colab_type": "code",
        "outputId": "38cd30ce-7e6d-4742-e228-a9b488cb52bc",
        "colab": {
          "base_uri": "https://localhost:8080/",
          "height": 221
        }
      },
      "source": [
        "games = pd.read_csv('steam-200k.csv', header=None,names=column_headers)\n",
        "print(games.shape)\n",
        "games.head()"
      ],
      "execution_count": 2,
      "outputs": [
        {
          "output_type": "stream",
          "text": [
            "(200000, 5)\n"
          ],
          "name": "stdout"
        },
        {
          "output_type": "execute_result",
          "data": {
            "text/html": [
              "<div>\n",
              "<style scoped>\n",
              "    .dataframe tbody tr th:only-of-type {\n",
              "        vertical-align: middle;\n",
              "    }\n",
              "\n",
              "    .dataframe tbody tr th {\n",
              "        vertical-align: top;\n",
              "    }\n",
              "\n",
              "    .dataframe thead th {\n",
              "        text-align: right;\n",
              "    }\n",
              "</style>\n",
              "<table border=\"1\" class=\"dataframe\">\n",
              "  <thead>\n",
              "    <tr style=\"text-align: right;\">\n",
              "      <th></th>\n",
              "      <th>id</th>\n",
              "      <th>game</th>\n",
              "      <th>purchase</th>\n",
              "      <th>hours</th>\n",
              "      <th>0</th>\n",
              "    </tr>\n",
              "  </thead>\n",
              "  <tbody>\n",
              "    <tr>\n",
              "      <th>0</th>\n",
              "      <td>151603712</td>\n",
              "      <td>The Elder Scrolls V Skyrim</td>\n",
              "      <td>purchase</td>\n",
              "      <td>1.0</td>\n",
              "      <td>0</td>\n",
              "    </tr>\n",
              "    <tr>\n",
              "      <th>1</th>\n",
              "      <td>151603712</td>\n",
              "      <td>The Elder Scrolls V Skyrim</td>\n",
              "      <td>play</td>\n",
              "      <td>273.0</td>\n",
              "      <td>0</td>\n",
              "    </tr>\n",
              "    <tr>\n",
              "      <th>2</th>\n",
              "      <td>151603712</td>\n",
              "      <td>Fallout 4</td>\n",
              "      <td>purchase</td>\n",
              "      <td>1.0</td>\n",
              "      <td>0</td>\n",
              "    </tr>\n",
              "    <tr>\n",
              "      <th>3</th>\n",
              "      <td>151603712</td>\n",
              "      <td>Fallout 4</td>\n",
              "      <td>play</td>\n",
              "      <td>87.0</td>\n",
              "      <td>0</td>\n",
              "    </tr>\n",
              "    <tr>\n",
              "      <th>4</th>\n",
              "      <td>151603712</td>\n",
              "      <td>Spore</td>\n",
              "      <td>purchase</td>\n",
              "      <td>1.0</td>\n",
              "      <td>0</td>\n",
              "    </tr>\n",
              "  </tbody>\n",
              "</table>\n",
              "</div>"
            ],
            "text/plain": [
              "          id                        game  purchase  hours  0\n",
              "0  151603712  The Elder Scrolls V Skyrim  purchase    1.0  0\n",
              "1  151603712  The Elder Scrolls V Skyrim      play  273.0  0\n",
              "2  151603712                   Fallout 4  purchase    1.0  0\n",
              "3  151603712                   Fallout 4      play   87.0  0\n",
              "4  151603712                       Spore  purchase    1.0  0"
            ]
          },
          "metadata": {
            "tags": []
          },
          "execution_count": 2
        }
      ]
    },
    {
      "cell_type": "code",
      "metadata": {
        "id": "RrAZEPTxVaBS",
        "colab_type": "code",
        "colab": {}
      },
      "source": [
        "games = games.drop(['0'], axis=1)"
      ],
      "execution_count": 0,
      "outputs": []
    },
    {
      "cell_type": "code",
      "metadata": {
        "id": "DiV5pz7fRpTU",
        "colab_type": "code",
        "outputId": "e33f61c5-3bfa-42ee-a024-a9b78d0f1552",
        "colab": {
          "resources": {
            "http://localhost:8080/nbextensions/google.colab/files.js": {
              "data": "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",
              "ok": true,
              "headers": [
                [
                  "content-type",
                  "application/javascript"
                ]
              ],
              "status": 200,
              "status_text": ""
            }
          },
          "base_uri": "https://localhost:8080/",
          "height": 74
        }
      },
      "source": [
        "uploaded= files.upload()"
      ],
      "execution_count": 4,
      "outputs": [
        {
          "output_type": "display_data",
          "data": {
            "text/html": [
              "\n",
              "     <input type=\"file\" id=\"files-5173ef08-efcc-4b4c-b34a-552e1a274bd8\" name=\"files[]\" multiple disabled />\n",
              "     <output id=\"result-5173ef08-efcc-4b4c-b34a-552e1a274bd8\">\n",
              "      Upload widget is only available when the cell has been executed in the\n",
              "      current browser session. Please rerun this cell to enable.\n",
              "      </output>\n",
              "      <script src=\"/nbextensions/google.colab/files.js\"></script> "
            ],
            "text/plain": [
              "<IPython.core.display.HTML object>"
            ]
          },
          "metadata": {
            "tags": []
          }
        },
        {
          "output_type": "stream",
          "text": [
            "Saving steam.csv to steam (1).csv\n"
          ],
          "name": "stdout"
        }
      ]
    },
    {
      "cell_type": "code",
      "metadata": {
        "id": "lX6aWAEDS09s",
        "colab_type": "code",
        "outputId": "1120d204-0fce-4718-e056-55403fad4ab5",
        "colab": {
          "base_uri": "https://localhost:8080/",
          "height": 564
        }
      },
      "source": [
        "steam = pd.read_csv('steam.csv')\n",
        "print(steam.shape)\n",
        "steam.head()"
      ],
      "execution_count": 5,
      "outputs": [
        {
          "output_type": "stream",
          "text": [
            "(27075, 18)\n"
          ],
          "name": "stdout"
        },
        {
          "output_type": "execute_result",
          "data": {
            "text/html": [
              "<div>\n",
              "<style scoped>\n",
              "    .dataframe tbody tr th:only-of-type {\n",
              "        vertical-align: middle;\n",
              "    }\n",
              "\n",
              "    .dataframe tbody tr th {\n",
              "        vertical-align: top;\n",
              "    }\n",
              "\n",
              "    .dataframe thead th {\n",
              "        text-align: right;\n",
              "    }\n",
              "</style>\n",
              "<table border=\"1\" class=\"dataframe\">\n",
              "  <thead>\n",
              "    <tr style=\"text-align: right;\">\n",
              "      <th></th>\n",
              "      <th>appid</th>\n",
              "      <th>name</th>\n",
              "      <th>release_date</th>\n",
              "      <th>english</th>\n",
              "      <th>developer</th>\n",
              "      <th>publisher</th>\n",
              "      <th>platforms</th>\n",
              "      <th>required_age</th>\n",
              "      <th>categories</th>\n",
              "      <th>genres</th>\n",
              "      <th>steamspy_tags</th>\n",
              "      <th>achievements</th>\n",
              "      <th>positive_ratings</th>\n",
              "      <th>negative_ratings</th>\n",
              "      <th>average_playtime</th>\n",
              "      <th>median_playtime</th>\n",
              "      <th>owners</th>\n",
              "      <th>price</th>\n",
              "    </tr>\n",
              "  </thead>\n",
              "  <tbody>\n",
              "    <tr>\n",
              "      <th>0</th>\n",
              "      <td>10</td>\n",
              "      <td>Counter-Strike</td>\n",
              "      <td>2000-11-01</td>\n",
              "      <td>1</td>\n",
              "      <td>Valve</td>\n",
              "      <td>Valve</td>\n",
              "      <td>windows;mac;linux</td>\n",
              "      <td>0</td>\n",
              "      <td>Multi-player;Online Multi-Player;Local Multi-P...</td>\n",
              "      <td>Action</td>\n",
              "      <td>Action;FPS;Multiplayer</td>\n",
              "      <td>0</td>\n",
              "      <td>124534</td>\n",
              "      <td>3339</td>\n",
              "      <td>17612</td>\n",
              "      <td>317</td>\n",
              "      <td>10000000-20000000</td>\n",
              "      <td>7.19</td>\n",
              "    </tr>\n",
              "    <tr>\n",
              "      <th>1</th>\n",
              "      <td>20</td>\n",
              "      <td>Team Fortress Classic</td>\n",
              "      <td>1999-04-01</td>\n",
              "      <td>1</td>\n",
              "      <td>Valve</td>\n",
              "      <td>Valve</td>\n",
              "      <td>windows;mac;linux</td>\n",
              "      <td>0</td>\n",
              "      <td>Multi-player;Online Multi-Player;Local Multi-P...</td>\n",
              "      <td>Action</td>\n",
              "      <td>Action;FPS;Multiplayer</td>\n",
              "      <td>0</td>\n",
              "      <td>3318</td>\n",
              "      <td>633</td>\n",
              "      <td>277</td>\n",
              "      <td>62</td>\n",
              "      <td>5000000-10000000</td>\n",
              "      <td>3.99</td>\n",
              "    </tr>\n",
              "    <tr>\n",
              "      <th>2</th>\n",
              "      <td>30</td>\n",
              "      <td>Day of Defeat</td>\n",
              "      <td>2003-05-01</td>\n",
              "      <td>1</td>\n",
              "      <td>Valve</td>\n",
              "      <td>Valve</td>\n",
              "      <td>windows;mac;linux</td>\n",
              "      <td>0</td>\n",
              "      <td>Multi-player;Valve Anti-Cheat enabled</td>\n",
              "      <td>Action</td>\n",
              "      <td>FPS;World War II;Multiplayer</td>\n",
              "      <td>0</td>\n",
              "      <td>3416</td>\n",
              "      <td>398</td>\n",
              "      <td>187</td>\n",
              "      <td>34</td>\n",
              "      <td>5000000-10000000</td>\n",
              "      <td>3.99</td>\n",
              "    </tr>\n",
              "    <tr>\n",
              "      <th>3</th>\n",
              "      <td>40</td>\n",
              "      <td>Deathmatch Classic</td>\n",
              "      <td>2001-06-01</td>\n",
              "      <td>1</td>\n",
              "      <td>Valve</td>\n",
              "      <td>Valve</td>\n",
              "      <td>windows;mac;linux</td>\n",
              "      <td>0</td>\n",
              "      <td>Multi-player;Online Multi-Player;Local Multi-P...</td>\n",
              "      <td>Action</td>\n",
              "      <td>Action;FPS;Multiplayer</td>\n",
              "      <td>0</td>\n",
              "      <td>1273</td>\n",
              "      <td>267</td>\n",
              "      <td>258</td>\n",
              "      <td>184</td>\n",
              "      <td>5000000-10000000</td>\n",
              "      <td>3.99</td>\n",
              "    </tr>\n",
              "    <tr>\n",
              "      <th>4</th>\n",
              "      <td>50</td>\n",
              "      <td>Half-Life: Opposing Force</td>\n",
              "      <td>1999-11-01</td>\n",
              "      <td>1</td>\n",
              "      <td>Gearbox Software</td>\n",
              "      <td>Valve</td>\n",
              "      <td>windows;mac;linux</td>\n",
              "      <td>0</td>\n",
              "      <td>Single-player;Multi-player;Valve Anti-Cheat en...</td>\n",
              "      <td>Action</td>\n",
              "      <td>FPS;Action;Sci-fi</td>\n",
              "      <td>0</td>\n",
              "      <td>5250</td>\n",
              "      <td>288</td>\n",
              "      <td>624</td>\n",
              "      <td>415</td>\n",
              "      <td>5000000-10000000</td>\n",
              "      <td>3.99</td>\n",
              "    </tr>\n",
              "  </tbody>\n",
              "</table>\n",
              "</div>"
            ],
            "text/plain": [
              "   appid                       name  ...             owners  price\n",
              "0     10             Counter-Strike  ...  10000000-20000000   7.19\n",
              "1     20      Team Fortress Classic  ...   5000000-10000000   3.99\n",
              "2     30              Day of Defeat  ...   5000000-10000000   3.99\n",
              "3     40         Deathmatch Classic  ...   5000000-10000000   3.99\n",
              "4     50  Half-Life: Opposing Force  ...   5000000-10000000   3.99\n",
              "\n",
              "[5 rows x 18 columns]"
            ]
          },
          "metadata": {
            "tags": []
          },
          "execution_count": 5
        }
      ]
    },
    {
      "cell_type": "code",
      "metadata": {
        "id": "iz9y6ewZTnnd",
        "colab_type": "code",
        "outputId": "b5604690-f890-4944-b398-669952333c8a",
        "colab": {
          "base_uri": "https://localhost:8080/",
          "height": 204
        }
      },
      "source": [
        "steam = steam.drop(['english','developer','publisher','platforms','required_age',\n",
        "                    'categories','steamspy_tags','achievements','owners',\n",
        "                    'appid','average_playtime','median_playtime'],axis=1)\n",
        "steam.head()"
      ],
      "execution_count": 6,
      "outputs": [
        {
          "output_type": "execute_result",
          "data": {
            "text/html": [
              "<div>\n",
              "<style scoped>\n",
              "    .dataframe tbody tr th:only-of-type {\n",
              "        vertical-align: middle;\n",
              "    }\n",
              "\n",
              "    .dataframe tbody tr th {\n",
              "        vertical-align: top;\n",
              "    }\n",
              "\n",
              "    .dataframe thead th {\n",
              "        text-align: right;\n",
              "    }\n",
              "</style>\n",
              "<table border=\"1\" class=\"dataframe\">\n",
              "  <thead>\n",
              "    <tr style=\"text-align: right;\">\n",
              "      <th></th>\n",
              "      <th>name</th>\n",
              "      <th>release_date</th>\n",
              "      <th>genres</th>\n",
              "      <th>positive_ratings</th>\n",
              "      <th>negative_ratings</th>\n",
              "      <th>price</th>\n",
              "    </tr>\n",
              "  </thead>\n",
              "  <tbody>\n",
              "    <tr>\n",
              "      <th>0</th>\n",
              "      <td>Counter-Strike</td>\n",
              "      <td>2000-11-01</td>\n",
              "      <td>Action</td>\n",
              "      <td>124534</td>\n",
              "      <td>3339</td>\n",
              "      <td>7.19</td>\n",
              "    </tr>\n",
              "    <tr>\n",
              "      <th>1</th>\n",
              "      <td>Team Fortress Classic</td>\n",
              "      <td>1999-04-01</td>\n",
              "      <td>Action</td>\n",
              "      <td>3318</td>\n",
              "      <td>633</td>\n",
              "      <td>3.99</td>\n",
              "    </tr>\n",
              "    <tr>\n",
              "      <th>2</th>\n",
              "      <td>Day of Defeat</td>\n",
              "      <td>2003-05-01</td>\n",
              "      <td>Action</td>\n",
              "      <td>3416</td>\n",
              "      <td>398</td>\n",
              "      <td>3.99</td>\n",
              "    </tr>\n",
              "    <tr>\n",
              "      <th>3</th>\n",
              "      <td>Deathmatch Classic</td>\n",
              "      <td>2001-06-01</td>\n",
              "      <td>Action</td>\n",
              "      <td>1273</td>\n",
              "      <td>267</td>\n",
              "      <td>3.99</td>\n",
              "    </tr>\n",
              "    <tr>\n",
              "      <th>4</th>\n",
              "      <td>Half-Life: Opposing Force</td>\n",
              "      <td>1999-11-01</td>\n",
              "      <td>Action</td>\n",
              "      <td>5250</td>\n",
              "      <td>288</td>\n",
              "      <td>3.99</td>\n",
              "    </tr>\n",
              "  </tbody>\n",
              "</table>\n",
              "</div>"
            ],
            "text/plain": [
              "                        name release_date  ... negative_ratings  price\n",
              "0             Counter-Strike   2000-11-01  ...             3339   7.19\n",
              "1      Team Fortress Classic   1999-04-01  ...              633   3.99\n",
              "2              Day of Defeat   2003-05-01  ...              398   3.99\n",
              "3         Deathmatch Classic   2001-06-01  ...              267   3.99\n",
              "4  Half-Life: Opposing Force   1999-11-01  ...              288   3.99\n",
              "\n",
              "[5 rows x 6 columns]"
            ]
          },
          "metadata": {
            "tags": []
          },
          "execution_count": 6
        }
      ]
    },
    {
      "cell_type": "code",
      "metadata": {
        "id": "NBR1PNsoVEMP",
        "colab_type": "code",
        "outputId": "8c2a162d-01dc-4d6e-9388-ae77f88715d2",
        "colab": {
          "base_uri": "https://localhost:8080/",
          "height": 204
        }
      },
      "source": [
        "steam = steam.rename(columns={'name':'game','release_date':'release','genres':'genre','positive_ratings':'pos_rate','negative_ratings':'neg_rate','price':'price'})\n",
        "steam.head()"
      ],
      "execution_count": 7,
      "outputs": [
        {
          "output_type": "execute_result",
          "data": {
            "text/html": [
              "<div>\n",
              "<style scoped>\n",
              "    .dataframe tbody tr th:only-of-type {\n",
              "        vertical-align: middle;\n",
              "    }\n",
              "\n",
              "    .dataframe tbody tr th {\n",
              "        vertical-align: top;\n",
              "    }\n",
              "\n",
              "    .dataframe thead th {\n",
              "        text-align: right;\n",
              "    }\n",
              "</style>\n",
              "<table border=\"1\" class=\"dataframe\">\n",
              "  <thead>\n",
              "    <tr style=\"text-align: right;\">\n",
              "      <th></th>\n",
              "      <th>game</th>\n",
              "      <th>release</th>\n",
              "      <th>genre</th>\n",
              "      <th>pos_rate</th>\n",
              "      <th>neg_rate</th>\n",
              "      <th>price</th>\n",
              "    </tr>\n",
              "  </thead>\n",
              "  <tbody>\n",
              "    <tr>\n",
              "      <th>0</th>\n",
              "      <td>Counter-Strike</td>\n",
              "      <td>2000-11-01</td>\n",
              "      <td>Action</td>\n",
              "      <td>124534</td>\n",
              "      <td>3339</td>\n",
              "      <td>7.19</td>\n",
              "    </tr>\n",
              "    <tr>\n",
              "      <th>1</th>\n",
              "      <td>Team Fortress Classic</td>\n",
              "      <td>1999-04-01</td>\n",
              "      <td>Action</td>\n",
              "      <td>3318</td>\n",
              "      <td>633</td>\n",
              "      <td>3.99</td>\n",
              "    </tr>\n",
              "    <tr>\n",
              "      <th>2</th>\n",
              "      <td>Day of Defeat</td>\n",
              "      <td>2003-05-01</td>\n",
              "      <td>Action</td>\n",
              "      <td>3416</td>\n",
              "      <td>398</td>\n",
              "      <td>3.99</td>\n",
              "    </tr>\n",
              "    <tr>\n",
              "      <th>3</th>\n",
              "      <td>Deathmatch Classic</td>\n",
              "      <td>2001-06-01</td>\n",
              "      <td>Action</td>\n",
              "      <td>1273</td>\n",
              "      <td>267</td>\n",
              "      <td>3.99</td>\n",
              "    </tr>\n",
              "    <tr>\n",
              "      <th>4</th>\n",
              "      <td>Half-Life: Opposing Force</td>\n",
              "      <td>1999-11-01</td>\n",
              "      <td>Action</td>\n",
              "      <td>5250</td>\n",
              "      <td>288</td>\n",
              "      <td>3.99</td>\n",
              "    </tr>\n",
              "  </tbody>\n",
              "</table>\n",
              "</div>"
            ],
            "text/plain": [
              "                        game     release   genre  pos_rate  neg_rate  price\n",
              "0             Counter-Strike  2000-11-01  Action    124534      3339   7.19\n",
              "1      Team Fortress Classic  1999-04-01  Action      3318       633   3.99\n",
              "2              Day of Defeat  2003-05-01  Action      3416       398   3.99\n",
              "3         Deathmatch Classic  2001-06-01  Action      1273       267   3.99\n",
              "4  Half-Life: Opposing Force  1999-11-01  Action      5250       288   3.99"
            ]
          },
          "metadata": {
            "tags": []
          },
          "execution_count": 7
        }
      ]
    },
    {
      "cell_type": "code",
      "metadata": {
        "id": "w_bX_Nq_Ue6C",
        "colab_type": "code",
        "outputId": "d82569a1-93a9-4f88-a519-d25f80a6a762",
        "colab": {
          "base_uri": "https://localhost:8080/",
          "height": 221
        }
      },
      "source": [
        "total = pd.merge(games, steam, on='game',how='inner')\n",
        "print(total.shape)\n",
        "total.head()"
      ],
      "execution_count": 8,
      "outputs": [
        {
          "output_type": "stream",
          "text": [
            "(92883, 9)\n"
          ],
          "name": "stdout"
        },
        {
          "output_type": "execute_result",
          "data": {
            "text/html": [
              "<div>\n",
              "<style scoped>\n",
              "    .dataframe tbody tr th:only-of-type {\n",
              "        vertical-align: middle;\n",
              "    }\n",
              "\n",
              "    .dataframe tbody tr th {\n",
              "        vertical-align: top;\n",
              "    }\n",
              "\n",
              "    .dataframe thead th {\n",
              "        text-align: right;\n",
              "    }\n",
              "</style>\n",
              "<table border=\"1\" class=\"dataframe\">\n",
              "  <thead>\n",
              "    <tr style=\"text-align: right;\">\n",
              "      <th></th>\n",
              "      <th>id</th>\n",
              "      <th>game</th>\n",
              "      <th>purchase</th>\n",
              "      <th>hours</th>\n",
              "      <th>release</th>\n",
              "      <th>genre</th>\n",
              "      <th>pos_rate</th>\n",
              "      <th>neg_rate</th>\n",
              "      <th>price</th>\n",
              "    </tr>\n",
              "  </thead>\n",
              "  <tbody>\n",
              "    <tr>\n",
              "      <th>0</th>\n",
              "      <td>151603712</td>\n",
              "      <td>Fallout 4</td>\n",
              "      <td>purchase</td>\n",
              "      <td>1.0</td>\n",
              "      <td>2015-11-09</td>\n",
              "      <td>RPG</td>\n",
              "      <td>110376</td>\n",
              "      <td>45377</td>\n",
              "      <td>19.99</td>\n",
              "    </tr>\n",
              "    <tr>\n",
              "      <th>1</th>\n",
              "      <td>151603712</td>\n",
              "      <td>Fallout 4</td>\n",
              "      <td>play</td>\n",
              "      <td>87.0</td>\n",
              "      <td>2015-11-09</td>\n",
              "      <td>RPG</td>\n",
              "      <td>110376</td>\n",
              "      <td>45377</td>\n",
              "      <td>19.99</td>\n",
              "    </tr>\n",
              "    <tr>\n",
              "      <th>2</th>\n",
              "      <td>87445402</td>\n",
              "      <td>Fallout 4</td>\n",
              "      <td>purchase</td>\n",
              "      <td>1.0</td>\n",
              "      <td>2015-11-09</td>\n",
              "      <td>RPG</td>\n",
              "      <td>110376</td>\n",
              "      <td>45377</td>\n",
              "      <td>19.99</td>\n",
              "    </tr>\n",
              "    <tr>\n",
              "      <th>3</th>\n",
              "      <td>87445402</td>\n",
              "      <td>Fallout 4</td>\n",
              "      <td>play</td>\n",
              "      <td>83.0</td>\n",
              "      <td>2015-11-09</td>\n",
              "      <td>RPG</td>\n",
              "      <td>110376</td>\n",
              "      <td>45377</td>\n",
              "      <td>19.99</td>\n",
              "    </tr>\n",
              "    <tr>\n",
              "      <th>4</th>\n",
              "      <td>25096601</td>\n",
              "      <td>Fallout 4</td>\n",
              "      <td>purchase</td>\n",
              "      <td>1.0</td>\n",
              "      <td>2015-11-09</td>\n",
              "      <td>RPG</td>\n",
              "      <td>110376</td>\n",
              "      <td>45377</td>\n",
              "      <td>19.99</td>\n",
              "    </tr>\n",
              "  </tbody>\n",
              "</table>\n",
              "</div>"
            ],
            "text/plain": [
              "          id       game  purchase  hours  ... genre pos_rate  neg_rate  price\n",
              "0  151603712  Fallout 4  purchase    1.0  ...   RPG   110376     45377  19.99\n",
              "1  151603712  Fallout 4      play   87.0  ...   RPG   110376     45377  19.99\n",
              "2   87445402  Fallout 4  purchase    1.0  ...   RPG   110376     45377  19.99\n",
              "3   87445402  Fallout 4      play   83.0  ...   RPG   110376     45377  19.99\n",
              "4   25096601  Fallout 4  purchase    1.0  ...   RPG   110376     45377  19.99\n",
              "\n",
              "[5 rows x 9 columns]"
            ]
          },
          "metadata": {
            "tags": []
          },
          "execution_count": 8
        }
      ]
    },
    {
      "cell_type": "code",
      "metadata": {
        "id": "ocITiCI6YAz0",
        "colab_type": "code",
        "colab": {}
      },
      "source": [
        "test = total.replace('purchase', np.nan)"
      ],
      "execution_count": 0,
      "outputs": []
    },
    {
      "cell_type": "code",
      "metadata": {
        "id": "2WP2dIIHYvPL",
        "colab_type": "code",
        "outputId": "e404373d-7bc2-4436-a29c-9c0cbe94b688",
        "colab": {
          "base_uri": "https://localhost:8080/",
          "height": 419
        }
      },
      "source": [
        "test = test.dropna()\n",
        "test"
      ],
      "execution_count": 11,
      "outputs": [
        {
          "output_type": "execute_result",
          "data": {
            "text/html": [
              "<div>\n",
              "<style scoped>\n",
              "    .dataframe tbody tr th:only-of-type {\n",
              "        vertical-align: middle;\n",
              "    }\n",
              "\n",
              "    .dataframe tbody tr th {\n",
              "        vertical-align: top;\n",
              "    }\n",
              "\n",
              "    .dataframe thead th {\n",
              "        text-align: right;\n",
              "    }\n",
              "</style>\n",
              "<table border=\"1\" class=\"dataframe\">\n",
              "  <thead>\n",
              "    <tr style=\"text-align: right;\">\n",
              "      <th></th>\n",
              "      <th>id</th>\n",
              "      <th>game</th>\n",
              "      <th>purchase</th>\n",
              "      <th>hours</th>\n",
              "      <th>release</th>\n",
              "      <th>genre</th>\n",
              "      <th>pos_rate</th>\n",
              "      <th>neg_rate</th>\n",
              "      <th>price</th>\n",
              "    </tr>\n",
              "  </thead>\n",
              "  <tbody>\n",
              "    <tr>\n",
              "      <th>1</th>\n",
              "      <td>151603712</td>\n",
              "      <td>Fallout 4</td>\n",
              "      <td>play</td>\n",
              "      <td>87.0</td>\n",
              "      <td>2015-11-09</td>\n",
              "      <td>RPG</td>\n",
              "      <td>110376</td>\n",
              "      <td>45377</td>\n",
              "      <td>19.99</td>\n",
              "    </tr>\n",
              "    <tr>\n",
              "      <th>3</th>\n",
              "      <td>87445402</td>\n",
              "      <td>Fallout 4</td>\n",
              "      <td>play</td>\n",
              "      <td>83.0</td>\n",
              "      <td>2015-11-09</td>\n",
              "      <td>RPG</td>\n",
              "      <td>110376</td>\n",
              "      <td>45377</td>\n",
              "      <td>19.99</td>\n",
              "    </tr>\n",
              "    <tr>\n",
              "      <th>5</th>\n",
              "      <td>25096601</td>\n",
              "      <td>Fallout 4</td>\n",
              "      <td>play</td>\n",
              "      <td>1.6</td>\n",
              "      <td>2015-11-09</td>\n",
              "      <td>RPG</td>\n",
              "      <td>110376</td>\n",
              "      <td>45377</td>\n",
              "      <td>19.99</td>\n",
              "    </tr>\n",
              "    <tr>\n",
              "      <th>7</th>\n",
              "      <td>211925330</td>\n",
              "      <td>Fallout 4</td>\n",
              "      <td>play</td>\n",
              "      <td>133.0</td>\n",
              "      <td>2015-11-09</td>\n",
              "      <td>RPG</td>\n",
              "      <td>110376</td>\n",
              "      <td>45377</td>\n",
              "      <td>19.99</td>\n",
              "    </tr>\n",
              "    <tr>\n",
              "      <th>9</th>\n",
              "      <td>115396529</td>\n",
              "      <td>Fallout 4</td>\n",
              "      <td>play</td>\n",
              "      <td>17.9</td>\n",
              "      <td>2015-11-09</td>\n",
              "      <td>RPG</td>\n",
              "      <td>110376</td>\n",
              "      <td>45377</td>\n",
              "      <td>19.99</td>\n",
              "    </tr>\n",
              "    <tr>\n",
              "      <th>...</th>\n",
              "      <td>...</td>\n",
              "      <td>...</td>\n",
              "      <td>...</td>\n",
              "      <td>...</td>\n",
              "      <td>...</td>\n",
              "      <td>...</td>\n",
              "      <td>...</td>\n",
              "      <td>...</td>\n",
              "      <td>...</td>\n",
              "    </tr>\n",
              "    <tr>\n",
              "      <th>92873</th>\n",
              "      <td>112739159</td>\n",
              "      <td>Ride! Carnival Tycoon</td>\n",
              "      <td>play</td>\n",
              "      <td>0.3</td>\n",
              "      <td>2008-07-29</td>\n",
              "      <td>Simulation</td>\n",
              "      <td>15</td>\n",
              "      <td>26</td>\n",
              "      <td>4.99</td>\n",
              "    </tr>\n",
              "    <tr>\n",
              "      <th>92875</th>\n",
              "      <td>116564064</td>\n",
              "      <td>SAMURAI WARRIORS 4-II</td>\n",
              "      <td>play</td>\n",
              "      <td>2.2</td>\n",
              "      <td>2015-09-29</td>\n",
              "      <td>Action</td>\n",
              "      <td>757</td>\n",
              "      <td>215</td>\n",
              "      <td>39.99</td>\n",
              "    </tr>\n",
              "    <tr>\n",
              "      <th>92877</th>\n",
              "      <td>116564064</td>\n",
              "      <td>The Bug Butcher</td>\n",
              "      <td>play</td>\n",
              "      <td>0.3</td>\n",
              "      <td>2016-01-19</td>\n",
              "      <td>Action;Indie</td>\n",
              "      <td>939</td>\n",
              "      <td>92</td>\n",
              "      <td>5.59</td>\n",
              "    </tr>\n",
              "    <tr>\n",
              "      <th>92880</th>\n",
              "      <td>135400225</td>\n",
              "      <td>Life is Hard</td>\n",
              "      <td>play</td>\n",
              "      <td>3.1</td>\n",
              "      <td>2015-11-03</td>\n",
              "      <td>Adventure;Indie;Simulation;Strategy;Early Access</td>\n",
              "      <td>339</td>\n",
              "      <td>132</td>\n",
              "      <td>5.99</td>\n",
              "    </tr>\n",
              "    <tr>\n",
              "      <th>92882</th>\n",
              "      <td>135400225</td>\n",
              "      <td>Executive Assault</td>\n",
              "      <td>play</td>\n",
              "      <td>2.7</td>\n",
              "      <td>2015-07-17</td>\n",
              "      <td>Action;Strategy</td>\n",
              "      <td>1180</td>\n",
              "      <td>185</td>\n",
              "      <td>10.29</td>\n",
              "    </tr>\n",
              "  </tbody>\n",
              "</table>\n",
              "<p>36302 rows × 9 columns</p>\n",
              "</div>"
            ],
            "text/plain": [
              "              id                   game purchase  ...  pos_rate neg_rate  price\n",
              "1      151603712              Fallout 4     play  ...    110376    45377  19.99\n",
              "3       87445402              Fallout 4     play  ...    110376    45377  19.99\n",
              "5       25096601              Fallout 4     play  ...    110376    45377  19.99\n",
              "7      211925330              Fallout 4     play  ...    110376    45377  19.99\n",
              "9      115396529              Fallout 4     play  ...    110376    45377  19.99\n",
              "...          ...                    ...      ...  ...       ...      ...    ...\n",
              "92873  112739159  Ride! Carnival Tycoon     play  ...        15       26   4.99\n",
              "92875  116564064  SAMURAI WARRIORS 4-II     play  ...       757      215  39.99\n",
              "92877  116564064        The Bug Butcher     play  ...       939       92   5.59\n",
              "92880  135400225           Life is Hard     play  ...       339      132   5.99\n",
              "92882  135400225      Executive Assault     play  ...      1180      185  10.29\n",
              "\n",
              "[36302 rows x 9 columns]"
            ]
          },
          "metadata": {
            "tags": []
          },
          "execution_count": 11
        }
      ]
    },
    {
      "cell_type": "markdown",
      "metadata": {
        "id": "qu6uMi6YZ-vl",
        "colab_type": "text"
      },
      "source": [
        "This is pretty exciting now that I've shaped this a bit. The important data that I am left with is the user, the game title, if they purchased it (which now that I've used the purchase column to pull out the 1.0 values from the hours for games they purchased, I don't really need this column anymore at all), the release date, genre, some of the ratings, the median playtime for the average user, and the price of the game in question. I'm pretty pleased with how this game out.\n",
        "I should note that the original dataset had 200k rows, and now I'm down to 36k, which is still enough to run some interesting thought models, but I know that we lost many rows that didn't have titles that my other steam data had. Just something to bear in mind.\n"
      ]
    },
    {
      "cell_type": "code",
      "metadata": {
        "id": "uXJ-U7g8aldA",
        "colab_type": "code",
        "colab": {}
      },
      "source": [
        "test.to_csv ('steamproject.csv')"
      ],
      "execution_count": 0,
      "outputs": []
    },
    {
      "cell_type": "markdown",
      "metadata": {
        "id": "_czGs-KVdA2r",
        "colab_type": "text"
      },
      "source": [
        "In other notebooks I might pull up this file directly, but that's the file of my more or less completed dataframe. Lets do some visualizations with it."
      ]
    },
    {
      "cell_type": "code",
      "metadata": {
        "id": "oPICnUClZYb6",
        "colab_type": "code",
        "outputId": "533aa108-28e5-492f-ab50-c6796eb2253d",
        "colab": {
          "base_uri": "https://localhost:8080/",
          "height": 204
        }
      },
      "source": [
        "test['game'].value_counts().head(10)"
      ],
      "execution_count": 13,
      "outputs": [
        {
          "output_type": "execute_result",
          "data": {
            "text/plain": [
              "Dota 2             4841\n",
              "Team Fortress 2    2323\n",
              "Unturned           1069\n",
              "Left 4 Dead 2       801\n",
              "Garry's Mod         666\n",
              "Counter-Strike      568\n",
              "Terraria            460\n",
              "Portal 2            453\n",
              "Warframe            424\n",
              "Portal              417\n",
              "Name: game, dtype: int64"
            ]
          },
          "metadata": {
            "tags": []
          },
          "execution_count": 13
        }
      ]
    },
    {
      "cell_type": "code",
      "metadata": {
        "id": "XMzHssgIehG2",
        "colab_type": "code",
        "outputId": "fe1db14a-4c14-4c25-e9b5-c445481ab1fe",
        "colab": {
          "base_uri": "https://localhost:8080/",
          "height": 34
        }
      },
      "source": [
        "dota = test.loc[test['game'] == 'Dota 2']\n",
        "dota['hours'].mean()"
      ],
      "execution_count": 14,
      "outputs": [
        {
          "output_type": "execute_result",
          "data": {
            "text/plain": [
              "202.78549886387088"
            ]
          },
          "metadata": {
            "tags": []
          },
          "execution_count": 14
        }
      ]
    },
    {
      "cell_type": "code",
      "metadata": {
        "id": "h42441CoglzY",
        "colab_type": "code",
        "outputId": "ece3883e-f41a-4904-aa2d-f65171e68468",
        "colab": {
          "base_uri": "https://localhost:8080/",
          "height": 34
        }
      },
      "source": [
        "tf2 = test.loc[test['game'] == 'Team Fortress 2']\n",
        "tf2['hours'].mean()"
      ],
      "execution_count": 15,
      "outputs": [
        {
          "output_type": "execute_result",
          "data": {
            "text/plain": [
              "74.76250538097285"
            ]
          },
          "metadata": {
            "tags": []
          },
          "execution_count": 15
        }
      ]
    },
    {
      "cell_type": "code",
      "metadata": {
        "id": "cujfOUUrg0LT",
        "colab_type": "code",
        "outputId": "7e302cc7-a8ee-47e2-c20a-3af04a7a8a2d",
        "colab": {
          "base_uri": "https://localhost:8080/",
          "height": 34
        }
      },
      "source": [
        "unturn = test.loc[test['game'] == 'Unturned']\n",
        "unturn['hours'].mean()"
      ],
      "execution_count": 16,
      "outputs": [
        {
          "output_type": "execute_result",
          "data": {
            "text/plain": [
              "15.057436856875599"
            ]
          },
          "metadata": {
            "tags": []
          },
          "execution_count": 16
        }
      ]
    },
    {
      "cell_type": "code",
      "metadata": {
        "id": "KihSQyz6g1uq",
        "colab_type": "code",
        "outputId": "ccd6fdaa-873c-49a7-9651-9ca096597562",
        "colab": {
          "base_uri": "https://localhost:8080/",
          "height": 34
        }
      },
      "source": [
        "l4d2 = test.loc[test['game'] == 'Left 4 Dead 2']\n",
        "l4d2['hours'].mean()"
      ],
      "execution_count": 17,
      "outputs": [
        {
          "output_type": "execute_result",
          "data": {
            "text/plain": [
              "41.943445692883884"
            ]
          },
          "metadata": {
            "tags": []
          },
          "execution_count": 17
        }
      ]
    },
    {
      "cell_type": "code",
      "metadata": {
        "id": "cPjdiaHkg17a",
        "colab_type": "code",
        "outputId": "b29ce074-7948-41fe-9a9b-c1e2125674b1",
        "colab": {
          "base_uri": "https://localhost:8080/",
          "height": 34
        }
      },
      "source": [
        "garry = test.loc[test['game'] == \"Garry's Mod\"]\n",
        "garry['hours'].mean()"
      ],
      "execution_count": 18,
      "outputs": [
        {
          "output_type": "execute_result",
          "data": {
            "text/plain": [
              "74.66261261261265"
            ]
          },
          "metadata": {
            "tags": []
          },
          "execution_count": 18
        }
      ]
    },
    {
      "cell_type": "code",
      "metadata": {
        "id": "tgyJCJTOg2Hk",
        "colab_type": "code",
        "outputId": "b9a70118-b138-4a0c-af81-d5fa940d6428",
        "colab": {
          "base_uri": "https://localhost:8080/",
          "height": 34
        }
      },
      "source": [
        "counter = test.loc[test['game'] == 'Counter-Strike']\n",
        "counter['hours'].mean()"
      ],
      "execution_count": 19,
      "outputs": [
        {
          "output_type": "execute_result",
          "data": {
            "text/plain": [
              "236.37517605633803"
            ]
          },
          "metadata": {
            "tags": []
          },
          "execution_count": 19
        }
      ]
    },
    {
      "cell_type": "code",
      "metadata": {
        "id": "uJj4RZqlg2Ot",
        "colab_type": "code",
        "outputId": "02b7551a-52b4-4c7f-fd5a-65e8e02e2563",
        "colab": {
          "base_uri": "https://localhost:8080/",
          "height": 34
        }
      },
      "source": [
        "terr = test.loc[test['game'] == 'Terraria']\n",
        "terr['hours'].mean()"
      ],
      "execution_count": 20,
      "outputs": [
        {
          "output_type": "execute_result",
          "data": {
            "text/plain": [
              "65.11260869565214"
            ]
          },
          "metadata": {
            "tags": []
          },
          "execution_count": 20
        }
      ]
    },
    {
      "cell_type": "code",
      "metadata": {
        "id": "uOt47yzzh2Th",
        "colab_type": "code",
        "outputId": "43ac5a65-2803-435f-dac2-a9b6aadd5738",
        "colab": {
          "base_uri": "https://localhost:8080/",
          "height": 34
        }
      },
      "source": [
        "portal2 = test.loc[test['game'] == 'Portal 2']\n",
        "portal2['hours'].mean()"
      ],
      "execution_count": 21,
      "outputs": [
        {
          "output_type": "execute_result",
          "data": {
            "text/plain": [
              "20.126048565121405"
            ]
          },
          "metadata": {
            "tags": []
          },
          "execution_count": 21
        }
      ]
    },
    {
      "cell_type": "code",
      "metadata": {
        "id": "7_XsnC0Yh2b1",
        "colab_type": "code",
        "outputId": "aebdd102-7f17-4ead-8708-71c7d64bd7b2",
        "colab": {
          "base_uri": "https://localhost:8080/",
          "height": 34
        }
      },
      "source": [
        "warframe = test.loc[test['game'] == 'Warframe']\n",
        "warframe['hours'].mean()"
      ],
      "execution_count": 22,
      "outputs": [
        {
          "output_type": "execute_result",
          "data": {
            "text/plain": [
              "63.85518867924527"
            ]
          },
          "metadata": {
            "tags": []
          },
          "execution_count": 22
        }
      ]
    },
    {
      "cell_type": "code",
      "metadata": {
        "id": "4uS0uslth2kW",
        "colab_type": "code",
        "outputId": "e7bbc8f5-8a92-4538-9947-837762fd3951",
        "colab": {
          "base_uri": "https://localhost:8080/",
          "height": 34
        }
      },
      "source": [
        "portal = test.loc[test['game'] == 'Portal']\n",
        "portal['hours'].mean()"
      ],
      "execution_count": 23,
      "outputs": [
        {
          "output_type": "execute_result",
          "data": {
            "text/plain": [
              "5.474340527577937"
            ]
          },
          "metadata": {
            "tags": []
          },
          "execution_count": 23
        }
      ]
    },
    {
      "cell_type": "code",
      "metadata": {
        "id": "nG5_XWpHiUjU",
        "colab_type": "code",
        "colab": {}
      },
      "source": [
        "data = {'game': ['Dota 2', 'Team Fortress 2', 'Unturned', 'Left 4 Dead 2',\n",
        "                 \"Garry's Mod\",'Counter-Strike','Terraria','Portal 2',\n",
        "                 'Warframe','Portal'],\n",
        "        'players': [4841, 2323, 1069, 801, 666, 568, 460, 453, 424, 417],\n",
        "        'mean': [202.79, 74.76, 15.06, 41.94, 76.66,236.38,65.11,20.13,63.86,5.47]}\n",
        "vis_top_10 = pd.DataFrame(data, columns=['game','players','mean'])\n"
      ],
      "execution_count": 0,
      "outputs": []
    },
    {
      "cell_type": "code",
      "metadata": {
        "id": "vL5KNtgil2C2",
        "colab_type": "code",
        "outputId": "f9082c4c-5cdd-47f8-ddf8-1e247b274f52",
        "colab": {
          "base_uri": "https://localhost:8080/",
          "height": 359
        }
      },
      "source": [
        "comp10 = pd.merge(vis_top_10, test.drop(['id','purchase','hours'], axis=1), \n",
        "                  on='game',how='left')\n",
        "comp10 = comp10.drop_duplicates()\n",
        "comp10"
      ],
      "execution_count": 25,
      "outputs": [
        {
          "output_type": "execute_result",
          "data": {
            "text/html": [
              "<div>\n",
              "<style scoped>\n",
              "    .dataframe tbody tr th:only-of-type {\n",
              "        vertical-align: middle;\n",
              "    }\n",
              "\n",
              "    .dataframe tbody tr th {\n",
              "        vertical-align: top;\n",
              "    }\n",
              "\n",
              "    .dataframe thead th {\n",
              "        text-align: right;\n",
              "    }\n",
              "</style>\n",
              "<table border=\"1\" class=\"dataframe\">\n",
              "  <thead>\n",
              "    <tr style=\"text-align: right;\">\n",
              "      <th></th>\n",
              "      <th>game</th>\n",
              "      <th>players</th>\n",
              "      <th>mean</th>\n",
              "      <th>release</th>\n",
              "      <th>genre</th>\n",
              "      <th>pos_rate</th>\n",
              "      <th>neg_rate</th>\n",
              "      <th>price</th>\n",
              "    </tr>\n",
              "  </thead>\n",
              "  <tbody>\n",
              "    <tr>\n",
              "      <th>0</th>\n",
              "      <td>Dota 2</td>\n",
              "      <td>4841</td>\n",
              "      <td>202.79</td>\n",
              "      <td>2013-07-09</td>\n",
              "      <td>Action;Free to Play;Strategy</td>\n",
              "      <td>863507</td>\n",
              "      <td>142079</td>\n",
              "      <td>0.00</td>\n",
              "    </tr>\n",
              "    <tr>\n",
              "      <th>4841</th>\n",
              "      <td>Team Fortress 2</td>\n",
              "      <td>2323</td>\n",
              "      <td>74.76</td>\n",
              "      <td>2007-10-10</td>\n",
              "      <td>Action;Free to Play</td>\n",
              "      <td>515879</td>\n",
              "      <td>34036</td>\n",
              "      <td>0.00</td>\n",
              "    </tr>\n",
              "    <tr>\n",
              "      <th>7164</th>\n",
              "      <td>Unturned</td>\n",
              "      <td>1069</td>\n",
              "      <td>15.06</td>\n",
              "      <td>2017-07-07</td>\n",
              "      <td>Action;Adventure;Casual;Free to Play;Indie</td>\n",
              "      <td>292574</td>\n",
              "      <td>31482</td>\n",
              "      <td>0.00</td>\n",
              "    </tr>\n",
              "    <tr>\n",
              "      <th>8233</th>\n",
              "      <td>Left 4 Dead 2</td>\n",
              "      <td>801</td>\n",
              "      <td>41.94</td>\n",
              "      <td>2009-11-19</td>\n",
              "      <td>Action</td>\n",
              "      <td>251789</td>\n",
              "      <td>8418</td>\n",
              "      <td>7.19</td>\n",
              "    </tr>\n",
              "    <tr>\n",
              "      <th>9034</th>\n",
              "      <td>Garry's Mod</td>\n",
              "      <td>666</td>\n",
              "      <td>76.66</td>\n",
              "      <td>2006-11-29</td>\n",
              "      <td>Indie;Simulation</td>\n",
              "      <td>363721</td>\n",
              "      <td>16433</td>\n",
              "      <td>6.99</td>\n",
              "    </tr>\n",
              "    <tr>\n",
              "      <th>9700</th>\n",
              "      <td>Counter-Strike</td>\n",
              "      <td>568</td>\n",
              "      <td>236.38</td>\n",
              "      <td>2000-11-01</td>\n",
              "      <td>Action</td>\n",
              "      <td>124534</td>\n",
              "      <td>3339</td>\n",
              "      <td>7.19</td>\n",
              "    </tr>\n",
              "    <tr>\n",
              "      <th>10268</th>\n",
              "      <td>Terraria</td>\n",
              "      <td>460</td>\n",
              "      <td>65.11</td>\n",
              "      <td>2011-05-16</td>\n",
              "      <td>Action;Adventure;Indie;RPG</td>\n",
              "      <td>255600</td>\n",
              "      <td>7797</td>\n",
              "      <td>6.99</td>\n",
              "    </tr>\n",
              "    <tr>\n",
              "      <th>10728</th>\n",
              "      <td>Portal 2</td>\n",
              "      <td>453</td>\n",
              "      <td>20.13</td>\n",
              "      <td>2011-04-18</td>\n",
              "      <td>Action;Adventure</td>\n",
              "      <td>138220</td>\n",
              "      <td>1891</td>\n",
              "      <td>7.19</td>\n",
              "    </tr>\n",
              "    <tr>\n",
              "      <th>11181</th>\n",
              "      <td>Warframe</td>\n",
              "      <td>424</td>\n",
              "      <td>63.86</td>\n",
              "      <td>2013-03-25</td>\n",
              "      <td>Action;Free to Play</td>\n",
              "      <td>226541</td>\n",
              "      <td>20268</td>\n",
              "      <td>0.00</td>\n",
              "    </tr>\n",
              "    <tr>\n",
              "      <th>11605</th>\n",
              "      <td>Portal</td>\n",
              "      <td>417</td>\n",
              "      <td>5.47</td>\n",
              "      <td>2007-10-10</td>\n",
              "      <td>Action</td>\n",
              "      <td>51801</td>\n",
              "      <td>1080</td>\n",
              "      <td>7.19</td>\n",
              "    </tr>\n",
              "  </tbody>\n",
              "</table>\n",
              "</div>"
            ],
            "text/plain": [
              "                  game  players    mean  ... pos_rate neg_rate  price\n",
              "0               Dota 2     4841  202.79  ...   863507   142079   0.00\n",
              "4841   Team Fortress 2     2323   74.76  ...   515879    34036   0.00\n",
              "7164          Unturned     1069   15.06  ...   292574    31482   0.00\n",
              "8233     Left 4 Dead 2      801   41.94  ...   251789     8418   7.19\n",
              "9034       Garry's Mod      666   76.66  ...   363721    16433   6.99\n",
              "9700    Counter-Strike      568  236.38  ...   124534     3339   7.19\n",
              "10268         Terraria      460   65.11  ...   255600     7797   6.99\n",
              "10728         Portal 2      453   20.13  ...   138220     1891   7.19\n",
              "11181         Warframe      424   63.86  ...   226541    20268   0.00\n",
              "11605           Portal      417    5.47  ...    51801     1080   7.19\n",
              "\n",
              "[10 rows x 8 columns]"
            ]
          },
          "metadata": {
            "tags": []
          },
          "execution_count": 25
        }
      ]
    },
    {
      "cell_type": "code",
      "metadata": {
        "id": "F_jBI9CgoobS",
        "colab_type": "code",
        "colab": {}
      },
      "source": [
        "comp10.to_csv('comp_top10_played')"
      ],
      "execution_count": 0,
      "outputs": []
    },
    {
      "cell_type": "markdown",
      "metadata": {
        "id": "9E21PbR3o-2F",
        "colab_type": "text"
      },
      "source": [
        "I am pretty sure that there are easier ways to do this, but this wasn't too bad.\n",
        "\n",
        "So, the the above is for the top 10 most played games, but it doesn't count for anything that was 'purchased'. So lets run more or less the same process only this time let's just look for the 'purchased' columns. "
      ]
    },
    {
      "cell_type": "code",
      "metadata": {
        "id": "wHwzxkMjo4MT",
        "colab_type": "code",
        "outputId": "90252c71-2d2d-46e6-deb1-5e3f5e4a7b2c",
        "colab": {
          "base_uri": "https://localhost:8080/",
          "height": 204
        }
      },
      "source": [
        "bought = total.loc[total['purchase'] == 'purchase']\n",
        "bought.head()"
      ],
      "execution_count": 27,
      "outputs": [
        {
          "output_type": "execute_result",
          "data": {
            "text/html": [
              "<div>\n",
              "<style scoped>\n",
              "    .dataframe tbody tr th:only-of-type {\n",
              "        vertical-align: middle;\n",
              "    }\n",
              "\n",
              "    .dataframe tbody tr th {\n",
              "        vertical-align: top;\n",
              "    }\n",
              "\n",
              "    .dataframe thead th {\n",
              "        text-align: right;\n",
              "    }\n",
              "</style>\n",
              "<table border=\"1\" class=\"dataframe\">\n",
              "  <thead>\n",
              "    <tr style=\"text-align: right;\">\n",
              "      <th></th>\n",
              "      <th>id</th>\n",
              "      <th>game</th>\n",
              "      <th>purchase</th>\n",
              "      <th>hours</th>\n",
              "      <th>release</th>\n",
              "      <th>genre</th>\n",
              "      <th>pos_rate</th>\n",
              "      <th>neg_rate</th>\n",
              "      <th>price</th>\n",
              "    </tr>\n",
              "  </thead>\n",
              "  <tbody>\n",
              "    <tr>\n",
              "      <th>0</th>\n",
              "      <td>151603712</td>\n",
              "      <td>Fallout 4</td>\n",
              "      <td>purchase</td>\n",
              "      <td>1.0</td>\n",
              "      <td>2015-11-09</td>\n",
              "      <td>RPG</td>\n",
              "      <td>110376</td>\n",
              "      <td>45377</td>\n",
              "      <td>19.99</td>\n",
              "    </tr>\n",
              "    <tr>\n",
              "      <th>2</th>\n",
              "      <td>87445402</td>\n",
              "      <td>Fallout 4</td>\n",
              "      <td>purchase</td>\n",
              "      <td>1.0</td>\n",
              "      <td>2015-11-09</td>\n",
              "      <td>RPG</td>\n",
              "      <td>110376</td>\n",
              "      <td>45377</td>\n",
              "      <td>19.99</td>\n",
              "    </tr>\n",
              "    <tr>\n",
              "      <th>4</th>\n",
              "      <td>25096601</td>\n",
              "      <td>Fallout 4</td>\n",
              "      <td>purchase</td>\n",
              "      <td>1.0</td>\n",
              "      <td>2015-11-09</td>\n",
              "      <td>RPG</td>\n",
              "      <td>110376</td>\n",
              "      <td>45377</td>\n",
              "      <td>19.99</td>\n",
              "    </tr>\n",
              "    <tr>\n",
              "      <th>6</th>\n",
              "      <td>211925330</td>\n",
              "      <td>Fallout 4</td>\n",
              "      <td>purchase</td>\n",
              "      <td>1.0</td>\n",
              "      <td>2015-11-09</td>\n",
              "      <td>RPG</td>\n",
              "      <td>110376</td>\n",
              "      <td>45377</td>\n",
              "      <td>19.99</td>\n",
              "    </tr>\n",
              "    <tr>\n",
              "      <th>8</th>\n",
              "      <td>115396529</td>\n",
              "      <td>Fallout 4</td>\n",
              "      <td>purchase</td>\n",
              "      <td>1.0</td>\n",
              "      <td>2015-11-09</td>\n",
              "      <td>RPG</td>\n",
              "      <td>110376</td>\n",
              "      <td>45377</td>\n",
              "      <td>19.99</td>\n",
              "    </tr>\n",
              "  </tbody>\n",
              "</table>\n",
              "</div>"
            ],
            "text/plain": [
              "          id       game  purchase  hours  ... genre pos_rate  neg_rate  price\n",
              "0  151603712  Fallout 4  purchase    1.0  ...   RPG   110376     45377  19.99\n",
              "2   87445402  Fallout 4  purchase    1.0  ...   RPG   110376     45377  19.99\n",
              "4   25096601  Fallout 4  purchase    1.0  ...   RPG   110376     45377  19.99\n",
              "6  211925330  Fallout 4  purchase    1.0  ...   RPG   110376     45377  19.99\n",
              "8  115396529  Fallout 4  purchase    1.0  ...   RPG   110376     45377  19.99\n",
              "\n",
              "[5 rows x 9 columns]"
            ]
          },
          "metadata": {
            "tags": []
          },
          "execution_count": 27
        }
      ]
    },
    {
      "cell_type": "code",
      "metadata": {
        "id": "Dhwe4FinpxHq",
        "colab_type": "code",
        "outputId": "458f0a45-9764-4ea0-8f17-faf9444cfcf5",
        "colab": {
          "base_uri": "https://localhost:8080/",
          "height": 221
        }
      },
      "source": [
        "print(bought.shape)\n",
        "bought['game'].value_counts().head(10)"
      ],
      "execution_count": 28,
      "outputs": [
        {
          "output_type": "stream",
          "text": [
            "(56581, 9)\n"
          ],
          "name": "stdout"
        },
        {
          "output_type": "execute_result",
          "data": {
            "text/plain": [
              "Dota 2               4841\n",
              "Team Fortress 2      2323\n",
              "Unturned             1563\n",
              "Left 4 Dead 2         951\n",
              "Counter-Strike        856\n",
              "Warframe              847\n",
              "Garry's Mod           731\n",
              "Robocraft             689\n",
              "Heroes & Generals     658\n",
              "Half-Life 2           639\n",
              "Name: game, dtype: int64"
            ]
          },
          "metadata": {
            "tags": []
          },
          "execution_count": 28
        }
      ]
    },
    {
      "cell_type": "code",
      "metadata": {
        "id": "VDtPHsNOqJlg",
        "colab_type": "code",
        "outputId": "8ac8871b-e657-4382-f70a-4ca7069c25bd",
        "colab": {
          "base_uri": "https://localhost:8080/",
          "height": 419
        }
      },
      "source": [
        "dota.sort_values('hours')"
      ],
      "execution_count": 29,
      "outputs": [
        {
          "output_type": "execute_result",
          "data": {
            "text/html": [
              "<div>\n",
              "<style scoped>\n",
              "    .dataframe tbody tr th:only-of-type {\n",
              "        vertical-align: middle;\n",
              "    }\n",
              "\n",
              "    .dataframe tbody tr th {\n",
              "        vertical-align: top;\n",
              "    }\n",
              "\n",
              "    .dataframe thead th {\n",
              "        text-align: right;\n",
              "    }\n",
              "</style>\n",
              "<table border=\"1\" class=\"dataframe\">\n",
              "  <thead>\n",
              "    <tr style=\"text-align: right;\">\n",
              "      <th></th>\n",
              "      <th>id</th>\n",
              "      <th>game</th>\n",
              "      <th>purchase</th>\n",
              "      <th>hours</th>\n",
              "      <th>release</th>\n",
              "      <th>genre</th>\n",
              "      <th>pos_rate</th>\n",
              "      <th>neg_rate</th>\n",
              "      <th>price</th>\n",
              "    </tr>\n",
              "  </thead>\n",
              "  <tbody>\n",
              "    <tr>\n",
              "      <th>10186</th>\n",
              "      <td>142183287</td>\n",
              "      <td>Dota 2</td>\n",
              "      <td>play</td>\n",
              "      <td>0.1</td>\n",
              "      <td>2013-07-09</td>\n",
              "      <td>Action;Free to Play;Strategy</td>\n",
              "      <td>863507</td>\n",
              "      <td>142079</td>\n",
              "      <td>0.0</td>\n",
              "    </tr>\n",
              "    <tr>\n",
              "      <th>17948</th>\n",
              "      <td>193092714</td>\n",
              "      <td>Dota 2</td>\n",
              "      <td>play</td>\n",
              "      <td>0.1</td>\n",
              "      <td>2013-07-09</td>\n",
              "      <td>Action;Free to Play;Strategy</td>\n",
              "      <td>863507</td>\n",
              "      <td>142079</td>\n",
              "      <td>0.0</td>\n",
              "    </tr>\n",
              "    <tr>\n",
              "      <th>11964</th>\n",
              "      <td>193012627</td>\n",
              "      <td>Dota 2</td>\n",
              "      <td>play</td>\n",
              "      <td>0.1</td>\n",
              "      <td>2013-07-09</td>\n",
              "      <td>Action;Free to Play;Strategy</td>\n",
              "      <td>863507</td>\n",
              "      <td>142079</td>\n",
              "      <td>0.0</td>\n",
              "    </tr>\n",
              "    <tr>\n",
              "      <th>10280</th>\n",
              "      <td>242469861</td>\n",
              "      <td>Dota 2</td>\n",
              "      <td>play</td>\n",
              "      <td>0.1</td>\n",
              "      <td>2013-07-09</td>\n",
              "      <td>Action;Free to Play;Strategy</td>\n",
              "      <td>863507</td>\n",
              "      <td>142079</td>\n",
              "      <td>0.0</td>\n",
              "    </tr>\n",
              "    <tr>\n",
              "      <th>17130</th>\n",
              "      <td>138578560</td>\n",
              "      <td>Dota 2</td>\n",
              "      <td>play</td>\n",
              "      <td>0.1</td>\n",
              "      <td>2013-07-09</td>\n",
              "      <td>Action;Free to Play;Strategy</td>\n",
              "      <td>863507</td>\n",
              "      <td>142079</td>\n",
              "      <td>0.0</td>\n",
              "    </tr>\n",
              "    <tr>\n",
              "      <th>...</th>\n",
              "      <td>...</td>\n",
              "      <td>...</td>\n",
              "      <td>...</td>\n",
              "      <td>...</td>\n",
              "      <td>...</td>\n",
              "      <td>...</td>\n",
              "      <td>...</td>\n",
              "      <td>...</td>\n",
              "      <td>...</td>\n",
              "    </tr>\n",
              "    <tr>\n",
              "      <th>15194</th>\n",
              "      <td>86256882</td>\n",
              "      <td>Dota 2</td>\n",
              "      <td>play</td>\n",
              "      <td>6015.0</td>\n",
              "      <td>2013-07-09</td>\n",
              "      <td>Action;Free to Play;Strategy</td>\n",
              "      <td>863507</td>\n",
              "      <td>142079</td>\n",
              "      <td>0.0</td>\n",
              "    </tr>\n",
              "    <tr>\n",
              "      <th>15842</th>\n",
              "      <td>121199670</td>\n",
              "      <td>Dota 2</td>\n",
              "      <td>play</td>\n",
              "      <td>6753.0</td>\n",
              "      <td>2013-07-09</td>\n",
              "      <td>Action;Free to Play;Strategy</td>\n",
              "      <td>863507</td>\n",
              "      <td>142079</td>\n",
              "      <td>0.0</td>\n",
              "    </tr>\n",
              "    <tr>\n",
              "      <th>18578</th>\n",
              "      <td>52567955</td>\n",
              "      <td>Dota 2</td>\n",
              "      <td>play</td>\n",
              "      <td>6964.0</td>\n",
              "      <td>2013-07-09</td>\n",
              "      <td>Action;Free to Play;Strategy</td>\n",
              "      <td>863507</td>\n",
              "      <td>142079</td>\n",
              "      <td>0.0</td>\n",
              "    </tr>\n",
              "    <tr>\n",
              "      <th>17696</th>\n",
              "      <td>130882834</td>\n",
              "      <td>Dota 2</td>\n",
              "      <td>play</td>\n",
              "      <td>7765.0</td>\n",
              "      <td>2013-07-09</td>\n",
              "      <td>Action;Free to Play;Strategy</td>\n",
              "      <td>863507</td>\n",
              "      <td>142079</td>\n",
              "      <td>0.0</td>\n",
              "    </tr>\n",
              "    <tr>\n",
              "      <th>15162</th>\n",
              "      <td>100630947</td>\n",
              "      <td>Dota 2</td>\n",
              "      <td>play</td>\n",
              "      <td>10442.0</td>\n",
              "      <td>2013-07-09</td>\n",
              "      <td>Action;Free to Play;Strategy</td>\n",
              "      <td>863507</td>\n",
              "      <td>142079</td>\n",
              "      <td>0.0</td>\n",
              "    </tr>\n",
              "  </tbody>\n",
              "</table>\n",
              "<p>4841 rows × 9 columns</p>\n",
              "</div>"
            ],
            "text/plain": [
              "              id    game purchase  ...  pos_rate neg_rate price\n",
              "10186  142183287  Dota 2     play  ...    863507   142079   0.0\n",
              "17948  193092714  Dota 2     play  ...    863507   142079   0.0\n",
              "11964  193012627  Dota 2     play  ...    863507   142079   0.0\n",
              "10280  242469861  Dota 2     play  ...    863507   142079   0.0\n",
              "17130  138578560  Dota 2     play  ...    863507   142079   0.0\n",
              "...          ...     ...      ...  ...       ...      ...   ...\n",
              "15194   86256882  Dota 2     play  ...    863507   142079   0.0\n",
              "15842  121199670  Dota 2     play  ...    863507   142079   0.0\n",
              "18578   52567955  Dota 2     play  ...    863507   142079   0.0\n",
              "17696  130882834  Dota 2     play  ...    863507   142079   0.0\n",
              "15162  100630947  Dota 2     play  ...    863507   142079   0.0\n",
              "\n",
              "[4841 rows x 9 columns]"
            ]
          },
          "metadata": {
            "tags": []
          },
          "execution_count": 29
        }
      ]
    },
    {
      "cell_type": "code",
      "metadata": {
        "id": "WXMxWdTm59LZ",
        "colab_type": "code",
        "outputId": "6e3c4de0-815a-4edc-e1da-07bcfed56df3",
        "colab": {
          "base_uri": "https://localhost:8080/",
          "height": 34
        }
      },
      "source": [
        "dota['hours'].median()"
      ],
      "execution_count": 30,
      "outputs": [
        {
          "output_type": "execute_result",
          "data": {
            "text/plain": [
              "5.5"
            ]
          },
          "metadata": {
            "tags": []
          },
          "execution_count": 30
        }
      ]
    },
    {
      "cell_type": "code",
      "metadata": {
        "id": "xrr6MziX7wHw",
        "colab_type": "code",
        "outputId": "28811d5d-1bb7-48db-8894-4363c34b3b98",
        "colab": {
          "base_uri": "https://localhost:8080/",
          "height": 34
        }
      },
      "source": [
        "tf2['hours'].median()"
      ],
      "execution_count": 31,
      "outputs": [
        {
          "output_type": "execute_result",
          "data": {
            "text/plain": [
              "4.4"
            ]
          },
          "metadata": {
            "tags": []
          },
          "execution_count": 31
        }
      ]
    },
    {
      "cell_type": "code",
      "metadata": {
        "id": "TS2Q4piR7wKm",
        "colab_type": "code",
        "outputId": "0770a938-c2ad-4726-eebf-59aff125b838",
        "colab": {
          "base_uri": "https://localhost:8080/",
          "height": 34
        }
      },
      "source": [
        "unturn['hours'].median()"
      ],
      "execution_count": 32,
      "outputs": [
        {
          "output_type": "execute_result",
          "data": {
            "text/plain": [
              "3.5"
            ]
          },
          "metadata": {
            "tags": []
          },
          "execution_count": 32
        }
      ]
    },
    {
      "cell_type": "code",
      "metadata": {
        "id": "BFoqzxb77wOI",
        "colab_type": "code",
        "outputId": "7362f2a3-165a-4322-b703-9e693fd6036d",
        "colab": {
          "base_uri": "https://localhost:8080/",
          "height": 34
        }
      },
      "source": [
        "l4d2['hours'].median()"
      ],
      "execution_count": 33,
      "outputs": [
        {
          "output_type": "execute_result",
          "data": {
            "text/plain": [
              "10.5"
            ]
          },
          "metadata": {
            "tags": []
          },
          "execution_count": 33
        }
      ]
    },
    {
      "cell_type": "code",
      "metadata": {
        "id": "T1ZAtSHM7wRS",
        "colab_type": "code",
        "outputId": "6b0c97e4-2dd3-43cc-946c-3256d5518413",
        "colab": {
          "base_uri": "https://localhost:8080/",
          "height": 34
        }
      },
      "source": [
        "garry['hours'].median()"
      ],
      "execution_count": 34,
      "outputs": [
        {
          "output_type": "execute_result",
          "data": {
            "text/plain": [
              "17.25"
            ]
          },
          "metadata": {
            "tags": []
          },
          "execution_count": 34
        }
      ]
    },
    {
      "cell_type": "code",
      "metadata": {
        "id": "F8R2LS8c7wU5",
        "colab_type": "code",
        "outputId": "794bda53-4f4d-4608-8258-8552ae329c2e",
        "colab": {
          "base_uri": "https://localhost:8080/",
          "height": 34
        }
      },
      "source": [
        "counter['hours'].median()"
      ],
      "execution_count": 35,
      "outputs": [
        {
          "output_type": "execute_result",
          "data": {
            "text/plain": [
              "8.8"
            ]
          },
          "metadata": {
            "tags": []
          },
          "execution_count": 35
        }
      ]
    },
    {
      "cell_type": "code",
      "metadata": {
        "id": "Fk-khjYK7wXx",
        "colab_type": "code",
        "outputId": "f5341685-f1f8-42a9-9f9c-1dba239ec493",
        "colab": {
          "base_uri": "https://localhost:8080/",
          "height": 34
        }
      },
      "source": [
        "terr['hours'].median()"
      ],
      "execution_count": 36,
      "outputs": [
        {
          "output_type": "execute_result",
          "data": {
            "text/plain": [
              "20.35"
            ]
          },
          "metadata": {
            "tags": []
          },
          "execution_count": 36
        }
      ]
    },
    {
      "cell_type": "code",
      "metadata": {
        "id": "ZpOWIsUe7wbi",
        "colab_type": "code",
        "outputId": "b940c1b5-c25d-4c78-917a-f70aa583da57",
        "colab": {
          "base_uri": "https://localhost:8080/",
          "height": 34
        }
      },
      "source": [
        "portal2['hours'].median()"
      ],
      "execution_count": 37,
      "outputs": [
        {
          "output_type": "execute_result",
          "data": {
            "text/plain": [
              "10.8"
            ]
          },
          "metadata": {
            "tags": []
          },
          "execution_count": 37
        }
      ]
    },
    {
      "cell_type": "code",
      "metadata": {
        "id": "1wBzsd1u87Os",
        "colab_type": "code",
        "outputId": "8f2ba3ed-7e16-4d75-fed7-6a11e7ed95a8",
        "colab": {
          "base_uri": "https://localhost:8080/",
          "height": 34
        }
      },
      "source": [
        "warframe['hours'].median()"
      ],
      "execution_count": 38,
      "outputs": [
        {
          "output_type": "execute_result",
          "data": {
            "text/plain": [
              "5.85"
            ]
          },
          "metadata": {
            "tags": []
          },
          "execution_count": 38
        }
      ]
    },
    {
      "cell_type": "code",
      "metadata": {
        "id": "Z1_uaGVR7wfi",
        "colab_type": "code",
        "outputId": "64c41a42-7153-4e2d-f40a-c53e07e98c67",
        "colab": {
          "base_uri": "https://localhost:8080/",
          "height": 34
        }
      },
      "source": [
        "portal['hours'].median()"
      ],
      "execution_count": 39,
      "outputs": [
        {
          "output_type": "execute_result",
          "data": {
            "text/plain": [
              "3.2"
            ]
          },
          "metadata": {
            "tags": []
          },
          "execution_count": 39
        }
      ]
    },
    {
      "cell_type": "code",
      "metadata": {
        "id": "UowQzvTP7lbh",
        "colab_type": "code",
        "outputId": "1e195f2c-0108-493f-85b1-fcdb37cf579c",
        "colab": {
          "base_uri": "https://localhost:8080/",
          "height": 359
        }
      },
      "source": [
        "median = [5.5, 4.4, 3.5, 10.5,17.25,8.8,20.35,10.8,5.85,3.2]\n",
        "comp10['median'] = median\n",
        "comp10"
      ],
      "execution_count": 40,
      "outputs": [
        {
          "output_type": "execute_result",
          "data": {
            "text/html": [
              "<div>\n",
              "<style scoped>\n",
              "    .dataframe tbody tr th:only-of-type {\n",
              "        vertical-align: middle;\n",
              "    }\n",
              "\n",
              "    .dataframe tbody tr th {\n",
              "        vertical-align: top;\n",
              "    }\n",
              "\n",
              "    .dataframe thead th {\n",
              "        text-align: right;\n",
              "    }\n",
              "</style>\n",
              "<table border=\"1\" class=\"dataframe\">\n",
              "  <thead>\n",
              "    <tr style=\"text-align: right;\">\n",
              "      <th></th>\n",
              "      <th>game</th>\n",
              "      <th>players</th>\n",
              "      <th>mean</th>\n",
              "      <th>release</th>\n",
              "      <th>genre</th>\n",
              "      <th>pos_rate</th>\n",
              "      <th>neg_rate</th>\n",
              "      <th>price</th>\n",
              "      <th>median</th>\n",
              "    </tr>\n",
              "  </thead>\n",
              "  <tbody>\n",
              "    <tr>\n",
              "      <th>0</th>\n",
              "      <td>Dota 2</td>\n",
              "      <td>4841</td>\n",
              "      <td>202.79</td>\n",
              "      <td>2013-07-09</td>\n",
              "      <td>Action;Free to Play;Strategy</td>\n",
              "      <td>863507</td>\n",
              "      <td>142079</td>\n",
              "      <td>0.00</td>\n",
              "      <td>5.50</td>\n",
              "    </tr>\n",
              "    <tr>\n",
              "      <th>4841</th>\n",
              "      <td>Team Fortress 2</td>\n",
              "      <td>2323</td>\n",
              "      <td>74.76</td>\n",
              "      <td>2007-10-10</td>\n",
              "      <td>Action;Free to Play</td>\n",
              "      <td>515879</td>\n",
              "      <td>34036</td>\n",
              "      <td>0.00</td>\n",
              "      <td>4.40</td>\n",
              "    </tr>\n",
              "    <tr>\n",
              "      <th>7164</th>\n",
              "      <td>Unturned</td>\n",
              "      <td>1069</td>\n",
              "      <td>15.06</td>\n",
              "      <td>2017-07-07</td>\n",
              "      <td>Action;Adventure;Casual;Free to Play;Indie</td>\n",
              "      <td>292574</td>\n",
              "      <td>31482</td>\n",
              "      <td>0.00</td>\n",
              "      <td>3.50</td>\n",
              "    </tr>\n",
              "    <tr>\n",
              "      <th>8233</th>\n",
              "      <td>Left 4 Dead 2</td>\n",
              "      <td>801</td>\n",
              "      <td>41.94</td>\n",
              "      <td>2009-11-19</td>\n",
              "      <td>Action</td>\n",
              "      <td>251789</td>\n",
              "      <td>8418</td>\n",
              "      <td>7.19</td>\n",
              "      <td>10.50</td>\n",
              "    </tr>\n",
              "    <tr>\n",
              "      <th>9034</th>\n",
              "      <td>Garry's Mod</td>\n",
              "      <td>666</td>\n",
              "      <td>76.66</td>\n",
              "      <td>2006-11-29</td>\n",
              "      <td>Indie;Simulation</td>\n",
              "      <td>363721</td>\n",
              "      <td>16433</td>\n",
              "      <td>6.99</td>\n",
              "      <td>17.25</td>\n",
              "    </tr>\n",
              "    <tr>\n",
              "      <th>9700</th>\n",
              "      <td>Counter-Strike</td>\n",
              "      <td>568</td>\n",
              "      <td>236.38</td>\n",
              "      <td>2000-11-01</td>\n",
              "      <td>Action</td>\n",
              "      <td>124534</td>\n",
              "      <td>3339</td>\n",
              "      <td>7.19</td>\n",
              "      <td>8.80</td>\n",
              "    </tr>\n",
              "    <tr>\n",
              "      <th>10268</th>\n",
              "      <td>Terraria</td>\n",
              "      <td>460</td>\n",
              "      <td>65.11</td>\n",
              "      <td>2011-05-16</td>\n",
              "      <td>Action;Adventure;Indie;RPG</td>\n",
              "      <td>255600</td>\n",
              "      <td>7797</td>\n",
              "      <td>6.99</td>\n",
              "      <td>20.35</td>\n",
              "    </tr>\n",
              "    <tr>\n",
              "      <th>10728</th>\n",
              "      <td>Portal 2</td>\n",
              "      <td>453</td>\n",
              "      <td>20.13</td>\n",
              "      <td>2011-04-18</td>\n",
              "      <td>Action;Adventure</td>\n",
              "      <td>138220</td>\n",
              "      <td>1891</td>\n",
              "      <td>7.19</td>\n",
              "      <td>10.80</td>\n",
              "    </tr>\n",
              "    <tr>\n",
              "      <th>11181</th>\n",
              "      <td>Warframe</td>\n",
              "      <td>424</td>\n",
              "      <td>63.86</td>\n",
              "      <td>2013-03-25</td>\n",
              "      <td>Action;Free to Play</td>\n",
              "      <td>226541</td>\n",
              "      <td>20268</td>\n",
              "      <td>0.00</td>\n",
              "      <td>5.85</td>\n",
              "    </tr>\n",
              "    <tr>\n",
              "      <th>11605</th>\n",
              "      <td>Portal</td>\n",
              "      <td>417</td>\n",
              "      <td>5.47</td>\n",
              "      <td>2007-10-10</td>\n",
              "      <td>Action</td>\n",
              "      <td>51801</td>\n",
              "      <td>1080</td>\n",
              "      <td>7.19</td>\n",
              "      <td>3.20</td>\n",
              "    </tr>\n",
              "  </tbody>\n",
              "</table>\n",
              "</div>"
            ],
            "text/plain": [
              "                  game  players    mean  ... neg_rate price  median\n",
              "0               Dota 2     4841  202.79  ...   142079  0.00    5.50\n",
              "4841   Team Fortress 2     2323   74.76  ...    34036  0.00    4.40\n",
              "7164          Unturned     1069   15.06  ...    31482  0.00    3.50\n",
              "8233     Left 4 Dead 2      801   41.94  ...     8418  7.19   10.50\n",
              "9034       Garry's Mod      666   76.66  ...    16433  6.99   17.25\n",
              "9700    Counter-Strike      568  236.38  ...     3339  7.19    8.80\n",
              "10268         Terraria      460   65.11  ...     7797  6.99   20.35\n",
              "10728         Portal 2      453   20.13  ...     1891  7.19   10.80\n",
              "11181         Warframe      424   63.86  ...    20268  0.00    5.85\n",
              "11605           Portal      417    5.47  ...     1080  7.19    3.20\n",
              "\n",
              "[10 rows x 9 columns]"
            ]
          },
          "metadata": {
            "tags": []
          },
          "execution_count": 40
        }
      ]
    },
    {
      "cell_type": "code",
      "metadata": {
        "id": "JFlsbEe-9nNt",
        "colab_type": "code",
        "colab": {}
      },
      "source": [
        "comp10.to_csv('comp_top10_played.csv')"
      ],
      "execution_count": 0,
      "outputs": []
    },
    {
      "cell_type": "code",
      "metadata": {
        "id": "lFDHE5zCur8L",
        "colab_type": "code",
        "outputId": "261c350e-d8cb-467a-f226-cc9d244d10af",
        "colab": {
          "base_uri": "https://localhost:8080/",
          "height": 729
        }
      },
      "source": [
        "import matplotlib.pyplot as plt\n",
        "\n",
        "labels = list(comp10['game'])\n",
        "means = list(comp10['mean'])\n",
        "median = list(comp10['median'])\n",
        "x = np.arange(len(labels))\n",
        "width = 0.5 \n",
        "fig, ax = plt.subplots(figsize=(15, 10))\n",
        "rects1 = ax.bar(x - width/2, means, width, label='Mean')\n",
        "rects2 = ax.bar(x + width/2, median, width, label='Median')\n",
        "ax.set_ylabel('Hours Played', fontsize=15)\n",
        "ax.set_title('The Mean and Median of Hours Played', fontsize=25)\n",
        "ax.set_xticks(x)\n",
        "ax.set_xticklabels(labels, rotation='vertical')\n",
        "ax.legend()\n",
        "\n",
        "def autolabel(rects):\n",
        "    \"\"\"Attach a text label above each bar in *rects*, displaying its height.\"\"\"\n",
        "    for rect in rects:\n",
        "        height = rect.get_height()\n",
        "        ax.annotate('{}'.format(height),\n",
        "                    xy=(rect.get_x() + rect.get_width() / 2, height),\n",
        "                    xytext=(0, 3),  # 3 points vertical offset\n",
        "                    textcoords=\"offset points\",\n",
        "                    ha='center', va='bottom')\n",
        "\n",
        "\n",
        "autolabel(rects1)\n",
        "autolabel(rects2)\n",
        "fig.tight_layout()\n",
        "plt.show()"
      ],
      "execution_count": 46,
      "outputs": [
        {
          "output_type": "display_data",
          "data": {
            "image/png": "[encoded data removed]",
            "text/plain": [
              "<Figure size 1080x720 with 1 Axes>"
            ]
          },
          "metadata": {
            "tags": [],
            "needs_background": "light"
          }
        }
      ]
    },
    {
      "cell_type": "code",
      "metadata": {
        "id": "wuBqWOGousF_",
        "colab_type": "code",
        "outputId": "6405040d-dd78-4981-d67b-613d5ac9cfba",
        "colab": {
          "base_uri": "https://localhost:8080/",
          "height": 729
        }
      },
      "source": [
        "pos = list(comp10['pos_rate'])\n",
        "neg = list(comp10['neg_rate'])\n",
        "fig, ax = plt.subplots(figsize=(15, 10))\n",
        "rects1 = ax.bar(x - width/2, pos, width, label='Positive Ratings')\n",
        "rects2 = ax.bar(x + width/2, neg, width, label='Negative Ratings')\n",
        "\n",
        "ax.set_ylabel('Number of Reviews', fontsize=15)\n",
        "ax.set_title('Player Ratings on the Games', fontsize=25)\n",
        "ax.set_xticks(x)\n",
        "ax.set_xticklabels(labels, rotation='vertical')\n",
        "ax.legend()\n",
        "\n",
        "def autolabel(rects):\n",
        "    \"\"\"Attach a text label above each bar in *rects*, displaying its height.\"\"\"\n",
        "    for rect in rects:\n",
        "        height = rect.get_height()\n",
        "        ax.annotate('{}'.format(height),\n",
        "                    xy=(rect.get_x() + rect.get_width() / 2, height),\n",
        "                    xytext=(0, 3),  # 3 points vertical offset\n",
        "                    textcoords=\"offset points\",\n",
        "                    ha='center', va='bottom')\n",
        "\n",
        "autolabel(rects1)\n",
        "autolabel(rects2)\n",
        "fig.tight_layout()\n",
        "plt.show()"
      ],
      "execution_count": 47,
      "outputs": [
        {
          "output_type": "display_data",
          "data": {
            "image/png": "[encoded data removed]",
            "text/plain": [
              "<Figure size 1080x720 with 1 Axes>"
            ]
          },
          "metadata": {
            "tags": [],
            "needs_background": "light"
          }
        }
      ]
    },
    {
      "cell_type": "code",
      "metadata": {
        "id": "dd8uS72LusNM",
        "colab_type": "code",
        "colab": {}
      },
      "source": [
        "import datetime\n",
        "date = comp10\n",
        "date['dates_parsed'] = pd.to_datetime(date['release'], infer_datetime_format=True)\n",
        "date['year'] = pd.DatetimeIndex(date['dates_parsed']).year\n",
        "date= date.drop(['release','dates_parsed'], axis=1)"
      ],
      "execution_count": 0,
      "outputs": []
    },
    {
      "cell_type": "code",
      "metadata": {
        "id": "mT9yYfn_vw50",
        "colab_type": "code",
        "outputId": "307311e9-1c80-4c05-e796-aec91a48ea84",
        "colab": {
          "base_uri": "https://localhost:8080/",
          "height": 359
        }
      },
      "source": [
        "date"
      ],
      "execution_count": 49,
      "outputs": [
        {
          "output_type": "execute_result",
          "data": {
            "text/html": [
              "<div>\n",
              "<style scoped>\n",
              "    .dataframe tbody tr th:only-of-type {\n",
              "        vertical-align: middle;\n",
              "    }\n",
              "\n",
              "    .dataframe tbody tr th {\n",
              "        vertical-align: top;\n",
              "    }\n",
              "\n",
              "    .dataframe thead th {\n",
              "        text-align: right;\n",
              "    }\n",
              "</style>\n",
              "<table border=\"1\" class=\"dataframe\">\n",
              "  <thead>\n",
              "    <tr style=\"text-align: right;\">\n",
              "      <th></th>\n",
              "      <th>game</th>\n",
              "      <th>players</th>\n",
              "      <th>mean</th>\n",
              "      <th>genre</th>\n",
              "      <th>pos_rate</th>\n",
              "      <th>neg_rate</th>\n",
              "      <th>price</th>\n",
              "      <th>median</th>\n",
              "      <th>year</th>\n",
              "    </tr>\n",
              "  </thead>\n",
              "  <tbody>\n",
              "    <tr>\n",
              "      <th>0</th>\n",
              "      <td>Dota 2</td>\n",
              "      <td>4841</td>\n",
              "      <td>202.79</td>\n",
              "      <td>Action;Free to Play;Strategy</td>\n",
              "      <td>863507</td>\n",
              "      <td>142079</td>\n",
              "      <td>0.00</td>\n",
              "      <td>5.50</td>\n",
              "      <td>2013</td>\n",
              "    </tr>\n",
              "    <tr>\n",
              "      <th>4841</th>\n",
              "      <td>Team Fortress 2</td>\n",
              "      <td>2323</td>\n",
              "      <td>74.76</td>\n",
              "      <td>Action;Free to Play</td>\n",
              "      <td>515879</td>\n",
              "      <td>34036</td>\n",
              "      <td>0.00</td>\n",
              "      <td>4.40</td>\n",
              "      <td>2007</td>\n",
              "    </tr>\n",
              "    <tr>\n",
              "      <th>7164</th>\n",
              "      <td>Unturned</td>\n",
              "      <td>1069</td>\n",
              "      <td>15.06</td>\n",
              "      <td>Action;Adventure;Casual;Free to Play;Indie</td>\n",
              "      <td>292574</td>\n",
              "      <td>31482</td>\n",
              "      <td>0.00</td>\n",
              "      <td>3.50</td>\n",
              "      <td>2017</td>\n",
              "    </tr>\n",
              "    <tr>\n",
              "      <th>8233</th>\n",
              "      <td>Left 4 Dead 2</td>\n",
              "      <td>801</td>\n",
              "      <td>41.94</td>\n",
              "      <td>Action</td>\n",
              "      <td>251789</td>\n",
              "      <td>8418</td>\n",
              "      <td>7.19</td>\n",
              "      <td>10.50</td>\n",
              "      <td>2009</td>\n",
              "    </tr>\n",
              "    <tr>\n",
              "      <th>9034</th>\n",
              "      <td>Garry's Mod</td>\n",
              "      <td>666</td>\n",
              "      <td>76.66</td>\n",
              "      <td>Indie;Simulation</td>\n",
              "      <td>363721</td>\n",
              "      <td>16433</td>\n",
              "      <td>6.99</td>\n",
              "      <td>17.25</td>\n",
              "      <td>2006</td>\n",
              "    </tr>\n",
              "    <tr>\n",
              "      <th>9700</th>\n",
              "      <td>Counter-Strike</td>\n",
              "      <td>568</td>\n",
              "      <td>236.38</td>\n",
              "      <td>Action</td>\n",
              "      <td>124534</td>\n",
              "      <td>3339</td>\n",
              "      <td>7.19</td>\n",
              "      <td>8.80</td>\n",
              "      <td>2000</td>\n",
              "    </tr>\n",
              "    <tr>\n",
              "      <th>10268</th>\n",
              "      <td>Terraria</td>\n",
              "      <td>460</td>\n",
              "      <td>65.11</td>\n",
              "      <td>Action;Adventure;Indie;RPG</td>\n",
              "      <td>255600</td>\n",
              "      <td>7797</td>\n",
              "      <td>6.99</td>\n",
              "      <td>20.35</td>\n",
              "      <td>2011</td>\n",
              "    </tr>\n",
              "    <tr>\n",
              "      <th>10728</th>\n",
              "      <td>Portal 2</td>\n",
              "      <td>453</td>\n",
              "      <td>20.13</td>\n",
              "      <td>Action;Adventure</td>\n",
              "      <td>138220</td>\n",
              "      <td>1891</td>\n",
              "      <td>7.19</td>\n",
              "      <td>10.80</td>\n",
              "      <td>2011</td>\n",
              "    </tr>\n",
              "    <tr>\n",
              "      <th>11181</th>\n",
              "      <td>Warframe</td>\n",
              "      <td>424</td>\n",
              "      <td>63.86</td>\n",
              "      <td>Action;Free to Play</td>\n",
              "      <td>226541</td>\n",
              "      <td>20268</td>\n",
              "      <td>0.00</td>\n",
              "      <td>5.85</td>\n",
              "      <td>2013</td>\n",
              "    </tr>\n",
              "    <tr>\n",
              "      <th>11605</th>\n",
              "      <td>Portal</td>\n",
              "      <td>417</td>\n",
              "      <td>5.47</td>\n",
              "      <td>Action</td>\n",
              "      <td>51801</td>\n",
              "      <td>1080</td>\n",
              "      <td>7.19</td>\n",
              "      <td>3.20</td>\n",
              "      <td>2007</td>\n",
              "    </tr>\n",
              "  </tbody>\n",
              "</table>\n",
              "</div>"
            ],
            "text/plain": [
              "                  game  players    mean  ... price  median  year\n",
              "0               Dota 2     4841  202.79  ...  0.00    5.50  2013\n",
              "4841   Team Fortress 2     2323   74.76  ...  0.00    4.40  2007\n",
              "7164          Unturned     1069   15.06  ...  0.00    3.50  2017\n",
              "8233     Left 4 Dead 2      801   41.94  ...  7.19   10.50  2009\n",
              "9034       Garry's Mod      666   76.66  ...  6.99   17.25  2006\n",
              "9700    Counter-Strike      568  236.38  ...  7.19    8.80  2000\n",
              "10268         Terraria      460   65.11  ...  6.99   20.35  2011\n",
              "10728         Portal 2      453   20.13  ...  7.19   10.80  2011\n",
              "11181         Warframe      424   63.86  ...  0.00    5.85  2013\n",
              "11605           Portal      417    5.47  ...  7.19    3.20  2007\n",
              "\n",
              "[10 rows x 9 columns]"
            ]
          },
          "metadata": {
            "tags": []
          },
          "execution_count": 49
        }
      ]
    },
    {
      "cell_type": "code",
      "metadata": {
        "id": "NLYsOph_vQo0",
        "colab_type": "code",
        "colab": {
          "base_uri": "https://localhost:8080/",
          "height": 544
        },
        "outputId": "93c238fd-b4e7-479a-8998-589da2fffd36"
      },
      "source": [
        "games['game'].value_counts().head(30)"
      ],
      "execution_count": 50,
      "outputs": [
        {
          "output_type": "execute_result",
          "data": {
            "text/plain": [
              "Dota 2                                          9682\n",
              "Team Fortress 2                                 4646\n",
              "Counter-Strike Global Offensive                 2789\n",
              "Unturned                                        2632\n",
              "Left 4 Dead 2                                   1752\n",
              "Counter-Strike Source                           1693\n",
              "Counter-Strike                                  1424\n",
              "Garry's Mod                                     1397\n",
              "The Elder Scrolls V Skyrim                      1394\n",
              "Warframe                                        1271\n",
              "Half-Life 2 Lost Coast                          1158\n",
              "Sid Meier's Civilization V                      1150\n",
              "Robocraft                                       1096\n",
              "Half-Life 2 Deathmatch                          1021\n",
              "Portal                                          1005\n",
              "Portal 2                                         997\n",
              "Half-Life 2                                      995\n",
              "Heroes & Generals                                993\n",
              "Terraria                                         956\n",
              "Counter-Strike Condition Zero                    904\n",
              "War Thunder                                      893\n",
              "PAYDAY 2                                         817\n",
              "Borderlands 2                                    815\n",
              "Counter-Strike Condition Zero Deleted Scenes     773\n",
              "No More Room in Hell                             668\n",
              "Call of Duty Modern Warfare 2                    640\n",
              "Trove                                            637\n",
              "Call of Duty Modern Warfare 2 - Multiplayer      634\n",
              "Day of Defeat                                    628\n",
              "Fallout New Vegas                                624\n",
              "Name: game, dtype: int64"
            ]
          },
          "metadata": {
            "tags": []
          },
          "execution_count": 50
        }
      ]
    },
    {
      "cell_type": "code",
      "metadata": {
        "id": "rZ-ZkmE-v5oz",
        "colab_type": "code",
        "colab": {
          "base_uri": "https://localhost:8080/",
          "height": 136
        },
        "outputId": "945c3aa0-0454-4141-f328-5659474f8acc"
      },
      "source": [
        "steam.isin(['Counter-Strike: Global Offensive']).any()"
      ],
      "execution_count": 51,
      "outputs": [
        {
          "output_type": "execute_result",
          "data": {
            "text/plain": [
              "game         True\n",
              "release     False\n",
              "genre       False\n",
              "pos_rate    False\n",
              "neg_rate    False\n",
              "price       False\n",
              "dtype: bool"
            ]
          },
          "metadata": {
            "tags": []
          },
          "execution_count": 51
        }
      ]
    },
    {
      "cell_type": "markdown",
      "metadata": {
        "id": "t2xif36FxJu0",
        "colab_type": "text"
      },
      "source": [
        "Alright, so I caught a dangerous mistake way up top. My original merge lost a good bit of rows due to the 'inner' merge function. I didn't think much of it at the time, but now I know that represents a good bit of data. With this above test, I can see that not *all* of the game titles are universal, so I am going to have to go through this list above. Since I am testing for the *top ten* game results, I'm not going to go through this entire list methodically, though I have a means to do so now. It seems that there are going to be minor differences in some games and that's a slanting problem. Mostly for games that have sequel-like titles. Either way, I'll go through the top 15-20 games (which is going to be time consuming) to ensure that the merge retains as much viable data as possible. If we lose some of the poorer performers, that shouldn't affect my results."
      ]
    },
    {
      "cell_type": "code",
      "metadata": {
        "id": "LL1GyN3Ix2vf",
        "colab_type": "code",
        "colab": {}
      },
      "source": [
        "steam = steam.replace('Counter-Strike: Global Offensive', 'Counter-Strike Global Offensive')"
      ],
      "execution_count": 0,
      "outputs": []
    },
    {
      "cell_type": "code",
      "metadata": {
        "id": "HYbcziTkyh9Z",
        "colab_type": "code",
        "colab": {
          "base_uri": "https://localhost:8080/",
          "height": 136
        },
        "outputId": "0f4b055a-a2b1-486a-c721-9165ffc34e7d"
      },
      "source": [
        "steam.isin(['Counter-Strike: Source']).any()"
      ],
      "execution_count": 53,
      "outputs": [
        {
          "output_type": "execute_result",
          "data": {
            "text/plain": [
              "game         True\n",
              "release     False\n",
              "genre       False\n",
              "pos_rate    False\n",
              "neg_rate    False\n",
              "price       False\n",
              "dtype: bool"
            ]
          },
          "metadata": {
            "tags": []
          },
          "execution_count": 53
        }
      ]
    },
    {
      "cell_type": "code",
      "metadata": {
        "id": "mZbo_H8ryigS",
        "colab_type": "code",
        "colab": {}
      },
      "source": [
        "steam = steam.replace('Counter-Strike: Source', 'Counter-Strike Source')"
      ],
      "execution_count": 0,
      "outputs": []
    },
    {
      "cell_type": "code",
      "metadata": {
        "id": "7EBmnJr4yija",
        "colab_type": "code",
        "colab": {
          "base_uri": "https://localhost:8080/",
          "height": 136
        },
        "outputId": "1eb97108-749c-4b02-dd51-8d92d61f0ee7"
      },
      "source": [
        "steam.isin(['The Elder Scrolls V: Skyrim']).any()"
      ],
      "execution_count": 55,
      "outputs": [
        {
          "output_type": "execute_result",
          "data": {
            "text/plain": [
              "game         True\n",
              "release     False\n",
              "genre       False\n",
              "pos_rate    False\n",
              "neg_rate    False\n",
              "price       False\n",
              "dtype: bool"
            ]
          },
          "metadata": {
            "tags": []
          },
          "execution_count": 55
        }
      ]
    },
    {
      "cell_type": "code",
      "metadata": {
        "id": "v4ktLO7dyimL",
        "colab_type": "code",
        "colab": {}
      },
      "source": [
        "steam = steam.replace('The Elder Scrolls V: Skyrim', 'The Elder Scrolls V Skyrim')"
      ],
      "execution_count": 0,
      "outputs": []
    },
    {
      "cell_type": "code",
      "metadata": {
        "id": "HRVmydAozHru",
        "colab_type": "code",
        "colab": {
          "base_uri": "https://localhost:8080/",
          "height": 136
        },
        "outputId": "2348a460-b388-4e4c-9315-b1e2f9399951"
      },
      "source": [
        "steam.isin(['Half-Life 2: Lost Coast']).any()"
      ],
      "execution_count": 57,
      "outputs": [
        {
          "output_type": "execute_result",
          "data": {
            "text/plain": [
              "game         True\n",
              "release     False\n",
              "genre       False\n",
              "pos_rate    False\n",
              "neg_rate    False\n",
              "price       False\n",
              "dtype: bool"
            ]
          },
          "metadata": {
            "tags": []
          },
          "execution_count": 57
        }
      ]
    },
    {
      "cell_type": "code",
      "metadata": {
        "id": "7Go99YBLzHuh",
        "colab_type": "code",
        "colab": {}
      },
      "source": [
        "steam = steam.replace('Half-Life 2: Lost Coast', 'Half-Life 2 Lost Coast')"
      ],
      "execution_count": 0,
      "outputs": []
    },
    {
      "cell_type": "code",
      "metadata": {
        "id": "7BSOEqUH2EsN",
        "colab_type": "code",
        "colab": {
          "base_uri": "https://localhost:8080/",
          "height": 483
        },
        "outputId": "bf542c21-deef-4aca-f491-4d11a2a594dd"
      },
      "source": [
        "steam[steam['game'].str.contains(\"Sid Meier\")]"
      ],
      "execution_count": 59,
      "outputs": [
        {
          "output_type": "execute_result",
          "data": {
            "text/html": [
              "<div>\n",
              "<style scoped>\n",
              "    .dataframe tbody tr th:only-of-type {\n",
              "        vertical-align: middle;\n",
              "    }\n",
              "\n",
              "    .dataframe tbody tr th {\n",
              "        vertical-align: top;\n",
              "    }\n",
              "\n",
              "    .dataframe thead th {\n",
              "        text-align: right;\n",
              "    }\n",
              "</style>\n",
              "<table border=\"1\" class=\"dataframe\">\n",
              "  <thead>\n",
              "    <tr style=\"text-align: right;\">\n",
              "      <th></th>\n",
              "      <th>game</th>\n",
              "      <th>release</th>\n",
              "      <th>genre</th>\n",
              "      <th>pos_rate</th>\n",
              "      <th>neg_rate</th>\n",
              "      <th>price</th>\n",
              "    </tr>\n",
              "  </thead>\n",
              "  <tbody>\n",
              "    <tr>\n",
              "      <th>115</th>\n",
              "      <td>Sid Meier's Civilization® IV</td>\n",
              "      <td>2006-10-25</td>\n",
              "      <td>Strategy</td>\n",
              "      <td>1394</td>\n",
              "      <td>129</td>\n",
              "      <td>9.99</td>\n",
              "    </tr>\n",
              "    <tr>\n",
              "      <th>116</th>\n",
              "      <td>Sid Meier's Civilization® III Complete</td>\n",
              "      <td>2006-10-25</td>\n",
              "      <td>Strategy</td>\n",
              "      <td>2578</td>\n",
              "      <td>405</td>\n",
              "      <td>2.99</td>\n",
              "    </tr>\n",
              "    <tr>\n",
              "      <th>117</th>\n",
              "      <td>Sid Meier's Pirates!</td>\n",
              "      <td>2005-07-11</td>\n",
              "      <td>RPG</td>\n",
              "      <td>2641</td>\n",
              "      <td>193</td>\n",
              "      <td>5.99</td>\n",
              "    </tr>\n",
              "    <tr>\n",
              "      <th>192</th>\n",
              "      <td>Sid Meier's Railroads!</td>\n",
              "      <td>2007-05-04</td>\n",
              "      <td>Strategy</td>\n",
              "      <td>1114</td>\n",
              "      <td>570</td>\n",
              "      <td>5.99</td>\n",
              "    </tr>\n",
              "    <tr>\n",
              "      <th>222</th>\n",
              "      <td>Sid Meier's Civilization® V</td>\n",
              "      <td>2010-09-23</td>\n",
              "      <td>Strategy</td>\n",
              "      <td>129030</td>\n",
              "      <td>5565</td>\n",
              "      <td>19.99</td>\n",
              "    </tr>\n",
              "    <tr>\n",
              "      <th>394</th>\n",
              "      <td>Sid Meier's Civilization IV: Colonization</td>\n",
              "      <td>2008-09-23</td>\n",
              "      <td>Strategy</td>\n",
              "      <td>330</td>\n",
              "      <td>95</td>\n",
              "      <td>9.99</td>\n",
              "    </tr>\n",
              "    <tr>\n",
              "      <th>999</th>\n",
              "      <td>Sid Meier's Civilization®: Beyond Earth™</td>\n",
              "      <td>2014-10-23</td>\n",
              "      <td>Strategy</td>\n",
              "      <td>9555</td>\n",
              "      <td>8224</td>\n",
              "      <td>29.99</td>\n",
              "    </tr>\n",
              "    <tr>\n",
              "      <th>1840</th>\n",
              "      <td>Sid Meier’s Ace Patrol</td>\n",
              "      <td>2013-08-27</td>\n",
              "      <td>Casual;Strategy</td>\n",
              "      <td>389</td>\n",
              "      <td>181</td>\n",
              "      <td>3.99</td>\n",
              "    </tr>\n",
              "    <tr>\n",
              "      <th>1841</th>\n",
              "      <td>Sid Meier’s Ace Patrol: Pacific Skies</td>\n",
              "      <td>2013-11-05</td>\n",
              "      <td>Casual;Strategy</td>\n",
              "      <td>202</td>\n",
              "      <td>120</td>\n",
              "      <td>3.99</td>\n",
              "    </tr>\n",
              "    <tr>\n",
              "      <th>2691</th>\n",
              "      <td>Sid Meier's Starships</td>\n",
              "      <td>2015-03-12</td>\n",
              "      <td>Strategy</td>\n",
              "      <td>881</td>\n",
              "      <td>1071</td>\n",
              "      <td>10.99</td>\n",
              "    </tr>\n",
              "    <tr>\n",
              "      <th>2878</th>\n",
              "      <td>Sid Meier’s Civilization® VI</td>\n",
              "      <td>2016-10-20</td>\n",
              "      <td>Strategy</td>\n",
              "      <td>39127</td>\n",
              "      <td>18325</td>\n",
              "      <td>49.99</td>\n",
              "    </tr>\n",
              "    <tr>\n",
              "      <th>4005</th>\n",
              "      <td>Sid Meier's Pirates! Gold Plus (Classic)</td>\n",
              "      <td>2014-10-09</td>\n",
              "      <td>Adventure;Simulation</td>\n",
              "      <td>28</td>\n",
              "      <td>20</td>\n",
              "      <td>4.99</td>\n",
              "    </tr>\n",
              "    <tr>\n",
              "      <th>4006</th>\n",
              "      <td>Sid Meier's Covert Action (Classic)</td>\n",
              "      <td>2014-10-09</td>\n",
              "      <td>Adventure;Simulation</td>\n",
              "      <td>69</td>\n",
              "      <td>9</td>\n",
              "      <td>4.99</td>\n",
              "    </tr>\n",
              "    <tr>\n",
              "      <th>4007</th>\n",
              "      <td>Sid Meier's Colonization (Classic)</td>\n",
              "      <td>2014-10-09</td>\n",
              "      <td>Adventure;Simulation</td>\n",
              "      <td>272</td>\n",
              "      <td>30</td>\n",
              "      <td>4.99</td>\n",
              "    </tr>\n",
              "  </tbody>\n",
              "</table>\n",
              "</div>"
            ],
            "text/plain": [
              "                                           game     release  ... neg_rate  price\n",
              "115                Sid Meier's Civilization® IV  2006-10-25  ...      129   9.99\n",
              "116      Sid Meier's Civilization® III Complete  2006-10-25  ...      405   2.99\n",
              "117                        Sid Meier's Pirates!  2005-07-11  ...      193   5.99\n",
              "192                      Sid Meier's Railroads!  2007-05-04  ...      570   5.99\n",
              "222                 Sid Meier's Civilization® V  2010-09-23  ...     5565  19.99\n",
              "394   Sid Meier's Civilization IV: Colonization  2008-09-23  ...       95   9.99\n",
              "999    Sid Meier's Civilization®: Beyond Earth™  2014-10-23  ...     8224  29.99\n",
              "1840                     Sid Meier’s Ace Patrol  2013-08-27  ...      181   3.99\n",
              "1841      Sid Meier’s Ace Patrol: Pacific Skies  2013-11-05  ...      120   3.99\n",
              "2691                      Sid Meier's Starships  2015-03-12  ...     1071  10.99\n",
              "2878               Sid Meier’s Civilization® VI  2016-10-20  ...    18325  49.99\n",
              "4005   Sid Meier's Pirates! Gold Plus (Classic)  2014-10-09  ...       20   4.99\n",
              "4006        Sid Meier's Covert Action (Classic)  2014-10-09  ...        9   4.99\n",
              "4007         Sid Meier's Colonization (Classic)  2014-10-09  ...       30   4.99\n",
              "\n",
              "[14 rows x 6 columns]"
            ]
          },
          "metadata": {
            "tags": []
          },
          "execution_count": 59
        }
      ]
    },
    {
      "cell_type": "code",
      "metadata": {
        "id": "ZmPgy1zS22L8",
        "colab_type": "code",
        "colab": {
          "base_uri": "https://localhost:8080/",
          "height": 136
        },
        "outputId": "a8a211be-6db3-46c0-c1f1-7db3f01dda0f"
      },
      "source": [
        "steam.isin([\"Sid Meier's Civilization® V\"]).any()"
      ],
      "execution_count": 60,
      "outputs": [
        {
          "output_type": "execute_result",
          "data": {
            "text/plain": [
              "game         True\n",
              "release     False\n",
              "genre       False\n",
              "pos_rate    False\n",
              "neg_rate    False\n",
              "price       False\n",
              "dtype: bool"
            ]
          },
          "metadata": {
            "tags": []
          },
          "execution_count": 60
        }
      ]
    },
    {
      "cell_type": "code",
      "metadata": {
        "id": "sgQEEIBWzH0o",
        "colab_type": "code",
        "colab": {}
      },
      "source": [
        "steam = steam.replace(\"Sid Meier's Civilization® V\", \"Sid Meier's Civilization V\")"
      ],
      "execution_count": 0,
      "outputs": []
    },
    {
      "cell_type": "code",
      "metadata": {
        "id": "37Q-Fu08zi4u",
        "colab_type": "code",
        "colab": {
          "base_uri": "https://localhost:8080/",
          "height": 136
        },
        "outputId": "ae88adb8-2c0e-46f3-a0f3-b4997c1521dd"
      },
      "source": [
        "steam.isin(['Half-Life 2: Deathmatch']).any()"
      ],
      "execution_count": 62,
      "outputs": [
        {
          "output_type": "execute_result",
          "data": {
            "text/plain": [
              "game         True\n",
              "release     False\n",
              "genre       False\n",
              "pos_rate    False\n",
              "neg_rate    False\n",
              "price       False\n",
              "dtype: bool"
            ]
          },
          "metadata": {
            "tags": []
          },
          "execution_count": 62
        }
      ]
    },
    {
      "cell_type": "code",
      "metadata": {
        "id": "8E8a0ACBzH4P",
        "colab_type": "code",
        "colab": {}
      },
      "source": [
        "steam = steam.replace('Half-Life 2: Deathmatch', 'Half-Life 2 Deathmatch')"
      ],
      "execution_count": 0,
      "outputs": []
    },
    {
      "cell_type": "code",
      "metadata": {
        "id": "EEtW1Yn1104a",
        "colab_type": "code",
        "colab": {
          "base_uri": "https://localhost:8080/",
          "height": 136
        },
        "outputId": "eb63ccc0-1549-4364-f746-1148be888dbe"
      },
      "source": [
        "steam.isin(['Counter-Strike: Condition Zero']).any()"
      ],
      "execution_count": 64,
      "outputs": [
        {
          "output_type": "execute_result",
          "data": {
            "text/plain": [
              "game         True\n",
              "release     False\n",
              "genre       False\n",
              "pos_rate    False\n",
              "neg_rate    False\n",
              "price       False\n",
              "dtype: bool"
            ]
          },
          "metadata": {
            "tags": []
          },
          "execution_count": 64
        }
      ]
    },
    {
      "cell_type": "code",
      "metadata": {
        "id": "1mKBqvup108C",
        "colab_type": "code",
        "colab": {}
      },
      "source": [
        "steam = steam.replace('Counter-Strike: Condition Zero', 'Counter-Strike Condition Zero')"
      ],
      "execution_count": 0,
      "outputs": []
    },
    {
      "cell_type": "code",
      "metadata": {
        "id": "vupDtVrz4VQt",
        "colab_type": "code",
        "colab": {
          "base_uri": "https://localhost:8080/",
          "height": 136
        },
        "outputId": "929e4d7d-fb0d-436b-f8e1-08e801d58a2d"
      },
      "source": [
        "steam.isin(['Counter-Strike: Condition Zero, Deleted Scenes']).any()"
      ],
      "execution_count": 66,
      "outputs": [
        {
          "output_type": "execute_result",
          "data": {
            "text/plain": [
              "game        False\n",
              "release     False\n",
              "genre       False\n",
              "pos_rate    False\n",
              "neg_rate    False\n",
              "price       False\n",
              "dtype: bool"
            ]
          },
          "metadata": {
            "tags": []
          },
          "execution_count": 66
        }
      ]
    },
    {
      "cell_type": "code",
      "metadata": {
        "id": "hSRLgUxC4sHW",
        "colab_type": "code",
        "colab": {
          "base_uri": "https://localhost:8080/",
          "height": 204
        },
        "outputId": "65d78c89-d021-446e-aa09-12fd899a8780"
      },
      "source": [
        "steam[steam['game'].str.contains(\"Counter-Strike\")]"
      ],
      "execution_count": 67,
      "outputs": [
        {
          "output_type": "execute_result",
          "data": {
            "text/html": [
              "<div>\n",
              "<style scoped>\n",
              "    .dataframe tbody tr th:only-of-type {\n",
              "        vertical-align: middle;\n",
              "    }\n",
              "\n",
              "    .dataframe tbody tr th {\n",
              "        vertical-align: top;\n",
              "    }\n",
              "\n",
              "    .dataframe thead th {\n",
              "        text-align: right;\n",
              "    }\n",
              "</style>\n",
              "<table border=\"1\" class=\"dataframe\">\n",
              "  <thead>\n",
              "    <tr style=\"text-align: right;\">\n",
              "      <th></th>\n",
              "      <th>game</th>\n",
              "      <th>release</th>\n",
              "      <th>genre</th>\n",
              "      <th>pos_rate</th>\n",
              "      <th>neg_rate</th>\n",
              "      <th>price</th>\n",
              "    </tr>\n",
              "  </thead>\n",
              "  <tbody>\n",
              "    <tr>\n",
              "      <th>0</th>\n",
              "      <td>Counter-Strike</td>\n",
              "      <td>2000-11-01</td>\n",
              "      <td>Action</td>\n",
              "      <td>124534</td>\n",
              "      <td>3339</td>\n",
              "      <td>7.19</td>\n",
              "    </tr>\n",
              "    <tr>\n",
              "      <th>7</th>\n",
              "      <td>Counter-Strike Condition Zero</td>\n",
              "      <td>2004-03-01</td>\n",
              "      <td>Action</td>\n",
              "      <td>12120</td>\n",
              "      <td>1439</td>\n",
              "      <td>7.19</td>\n",
              "    </tr>\n",
              "    <tr>\n",
              "      <th>10</th>\n",
              "      <td>Counter-Strike Source</td>\n",
              "      <td>2004-11-01</td>\n",
              "      <td>Action</td>\n",
              "      <td>76640</td>\n",
              "      <td>3497</td>\n",
              "      <td>7.19</td>\n",
              "    </tr>\n",
              "    <tr>\n",
              "      <th>25</th>\n",
              "      <td>Counter-Strike Global Offensive</td>\n",
              "      <td>2012-08-21</td>\n",
              "      <td>Action;Free to Play</td>\n",
              "      <td>2644404</td>\n",
              "      <td>402313</td>\n",
              "      <td>0.00</td>\n",
              "    </tr>\n",
              "    <tr>\n",
              "      <th>2502</th>\n",
              "      <td>Counter-Strike Nexon: Zombies</td>\n",
              "      <td>2014-10-07</td>\n",
              "      <td>Action;Casual;Free to Play;Massively Multiplayer</td>\n",
              "      <td>22130</td>\n",
              "      <td>12127</td>\n",
              "      <td>0.00</td>\n",
              "    </tr>\n",
              "  </tbody>\n",
              "</table>\n",
              "</div>"
            ],
            "text/plain": [
              "                                 game     release  ... neg_rate  price\n",
              "0                      Counter-Strike  2000-11-01  ...     3339   7.19\n",
              "7       Counter-Strike Condition Zero  2004-03-01  ...     1439   7.19\n",
              "10              Counter-Strike Source  2004-11-01  ...     3497   7.19\n",
              "25    Counter-Strike Global Offensive  2012-08-21  ...   402313   0.00\n",
              "2502    Counter-Strike Nexon: Zombies  2014-10-07  ...    12127   0.00\n",
              "\n",
              "[5 rows x 6 columns]"
            ]
          },
          "metadata": {
            "tags": []
          },
          "execution_count": 67
        }
      ]
    },
    {
      "cell_type": "markdown",
      "metadata": {
        "id": "qMa4LDqT46bb",
        "colab_type": "text"
      },
      "source": [
        "Alright, looks like Counter-Strike: Condition Zero (Deleted Scenes) isn't considered a separate title in my second dataframe. No biggie, it wasn't in the top 15, but this will account for some of our missing data."
      ]
    },
    {
      "cell_type": "code",
      "metadata": {
        "id": "-tRAqE9v4VXR",
        "colab_type": "code",
        "colab": {
          "base_uri": "https://localhost:8080/",
          "height": 136
        },
        "outputId": "b321bc60-f141-4744-ffc2-129ccc4c4c96"
      },
      "source": [
        "steam.isin(['Call of Duty: Modern Warfare 2']).any()"
      ],
      "execution_count": 68,
      "outputs": [
        {
          "output_type": "execute_result",
          "data": {
            "text/plain": [
              "game        False\n",
              "release     False\n",
              "genre       False\n",
              "pos_rate    False\n",
              "neg_rate    False\n",
              "price       False\n",
              "dtype: bool"
            ]
          },
          "metadata": {
            "tags": []
          },
          "execution_count": 68
        }
      ]
    },
    {
      "cell_type": "code",
      "metadata": {
        "id": "kU3G3H1G5Q4v",
        "colab_type": "code",
        "colab": {
          "base_uri": "https://localhost:8080/",
          "height": 545
        },
        "outputId": "34b49f9c-c9a1-4b0d-e0be-bef0e114da6b"
      },
      "source": [
        "steam[steam['game'].str.contains(\"Call of Duty\")]"
      ],
      "execution_count": 69,
      "outputs": [
        {
          "output_type": "execute_result",
          "data": {
            "text/html": [
              "<div>\n",
              "<style scoped>\n",
              "    .dataframe tbody tr th:only-of-type {\n",
              "        vertical-align: middle;\n",
              "    }\n",
              "\n",
              "    .dataframe tbody tr th {\n",
              "        vertical-align: top;\n",
              "    }\n",
              "\n",
              "    .dataframe thead th {\n",
              "        text-align: right;\n",
              "    }\n",
              "</style>\n",
              "<table border=\"1\" class=\"dataframe\">\n",
              "  <thead>\n",
              "    <tr style=\"text-align: right;\">\n",
              "      <th></th>\n",
              "      <th>game</th>\n",
              "      <th>release</th>\n",
              "      <th>genre</th>\n",
              "      <th>pos_rate</th>\n",
              "      <th>neg_rate</th>\n",
              "      <th>price</th>\n",
              "    </tr>\n",
              "  </thead>\n",
              "  <tbody>\n",
              "    <tr>\n",
              "      <th>66</th>\n",
              "      <td>Call of Duty®</td>\n",
              "      <td>2006-10-13</td>\n",
              "      <td>Action</td>\n",
              "      <td>1555</td>\n",
              "      <td>117</td>\n",
              "      <td>14.99</td>\n",
              "    </tr>\n",
              "    <tr>\n",
              "      <th>67</th>\n",
              "      <td>Call of Duty® 2</td>\n",
              "      <td>2006-10-13</td>\n",
              "      <td>Action</td>\n",
              "      <td>2434</td>\n",
              "      <td>236</td>\n",
              "      <td>14.99</td>\n",
              "    </tr>\n",
              "    <tr>\n",
              "      <th>68</th>\n",
              "      <td>Call of Duty: United Offensive</td>\n",
              "      <td>2006-10-13</td>\n",
              "      <td>Action</td>\n",
              "      <td>490</td>\n",
              "      <td>97</td>\n",
              "      <td>14.99</td>\n",
              "    </tr>\n",
              "    <tr>\n",
              "      <th>169</th>\n",
              "      <td>Commandos: Beyond the Call of Duty</td>\n",
              "      <td>2007-03-15</td>\n",
              "      <td>Action</td>\n",
              "      <td>404</td>\n",
              "      <td>71</td>\n",
              "      <td>3.99</td>\n",
              "    </tr>\n",
              "    <tr>\n",
              "      <th>203</th>\n",
              "      <td>Call of Duty® 4: Modern Warfare®</td>\n",
              "      <td>2007-11-12</td>\n",
              "      <td>Action</td>\n",
              "      <td>8725</td>\n",
              "      <td>821</td>\n",
              "      <td>19.99</td>\n",
              "    </tr>\n",
              "    <tr>\n",
              "      <th>251</th>\n",
              "      <td>Call of Duty: World at War</td>\n",
              "      <td>2008-11-18</td>\n",
              "      <td>Action</td>\n",
              "      <td>19595</td>\n",
              "      <td>1483</td>\n",
              "      <td>19.99</td>\n",
              "    </tr>\n",
              "    <tr>\n",
              "      <th>258</th>\n",
              "      <td>Call of Duty®: Modern Warfare® 2</td>\n",
              "      <td>2009-11-11</td>\n",
              "      <td>Action</td>\n",
              "      <td>30006</td>\n",
              "      <td>2826</td>\n",
              "      <td>19.99</td>\n",
              "    </tr>\n",
              "    <tr>\n",
              "      <th>801</th>\n",
              "      <td>Call of Duty®: Black Ops</td>\n",
              "      <td>2010-11-08</td>\n",
              "      <td>Action</td>\n",
              "      <td>14201</td>\n",
              "      <td>1839</td>\n",
              "      <td>29.99</td>\n",
              "    </tr>\n",
              "    <tr>\n",
              "      <th>1213</th>\n",
              "      <td>Call of Duty®: Black Ops II</td>\n",
              "      <td>2012-11-12</td>\n",
              "      <td>Action</td>\n",
              "      <td>25827</td>\n",
              "      <td>4658</td>\n",
              "      <td>39.99</td>\n",
              "    </tr>\n",
              "    <tr>\n",
              "      <th>1335</th>\n",
              "      <td>Call of Duty®: Ghosts</td>\n",
              "      <td>2014-03-25</td>\n",
              "      <td>Action</td>\n",
              "      <td>14892</td>\n",
              "      <td>10757</td>\n",
              "      <td>39.99</td>\n",
              "    </tr>\n",
              "    <tr>\n",
              "      <th>1346</th>\n",
              "      <td>Call of Duty®: Advanced Warfare - Gold Edition</td>\n",
              "      <td>2014-11-03</td>\n",
              "      <td>Action</td>\n",
              "      <td>13389</td>\n",
              "      <td>8379</td>\n",
              "      <td>39.99</td>\n",
              "    </tr>\n",
              "    <tr>\n",
              "      <th>1413</th>\n",
              "      <td>Call of Duty: Black Ops - Mac Edition</td>\n",
              "      <td>2012-09-27</td>\n",
              "      <td>Action</td>\n",
              "      <td>168</td>\n",
              "      <td>105</td>\n",
              "      <td>15.49</td>\n",
              "    </tr>\n",
              "    <tr>\n",
              "      <th>2991</th>\n",
              "      <td>Call of Duty®: Infinite Warfare</td>\n",
              "      <td>2016-11-03</td>\n",
              "      <td>Action;Adventure</td>\n",
              "      <td>7821</td>\n",
              "      <td>10570</td>\n",
              "      <td>39.99</td>\n",
              "    </tr>\n",
              "    <tr>\n",
              "      <th>3504</th>\n",
              "      <td>Call of Duty®: Black Ops III</td>\n",
              "      <td>2015-11-05</td>\n",
              "      <td>Action;Adventure</td>\n",
              "      <td>36255</td>\n",
              "      <td>23157</td>\n",
              "      <td>44.99</td>\n",
              "    </tr>\n",
              "    <tr>\n",
              "      <th>6485</th>\n",
              "      <td>Call of Duty®: Modern Warfare® Remastered</td>\n",
              "      <td>2017-07-27</td>\n",
              "      <td>Violent;Action</td>\n",
              "      <td>1148</td>\n",
              "      <td>1112</td>\n",
              "      <td>34.99</td>\n",
              "    </tr>\n",
              "    <tr>\n",
              "      <th>9248</th>\n",
              "      <td>Call of Duty®: WWII</td>\n",
              "      <td>2017-11-02</td>\n",
              "      <td>Action</td>\n",
              "      <td>10753</td>\n",
              "      <td>8288</td>\n",
              "      <td>44.99</td>\n",
              "    </tr>\n",
              "  </tbody>\n",
              "</table>\n",
              "</div>"
            ],
            "text/plain": [
              "                                                game  ...  price\n",
              "66                                     Call of Duty®  ...  14.99\n",
              "67                                   Call of Duty® 2  ...  14.99\n",
              "68                    Call of Duty: United Offensive  ...  14.99\n",
              "169               Commandos: Beyond the Call of Duty  ...   3.99\n",
              "203                 Call of Duty® 4: Modern Warfare®  ...  19.99\n",
              "251                       Call of Duty: World at War  ...  19.99\n",
              "258                 Call of Duty®: Modern Warfare® 2  ...  19.99\n",
              "801                         Call of Duty®: Black Ops  ...  29.99\n",
              "1213                     Call of Duty®: Black Ops II  ...  39.99\n",
              "1335                           Call of Duty®: Ghosts  ...  39.99\n",
              "1346  Call of Duty®: Advanced Warfare - Gold Edition  ...  39.99\n",
              "1413           Call of Duty: Black Ops - Mac Edition  ...  15.49\n",
              "2991                 Call of Duty®: Infinite Warfare  ...  39.99\n",
              "3504                    Call of Duty®: Black Ops III  ...  44.99\n",
              "6485       Call of Duty®: Modern Warfare® Remastered  ...  34.99\n",
              "9248                             Call of Duty®: WWII  ...  44.99\n",
              "\n",
              "[16 rows x 6 columns]"
            ]
          },
          "metadata": {
            "tags": []
          },
          "execution_count": 69
        }
      ]
    },
    {
      "cell_type": "code",
      "metadata": {
        "id": "PSSEAcwz4VaE",
        "colab_type": "code",
        "colab": {}
      },
      "source": [
        "steam = steam.replace('Call of Duty®: Modern Warfare® 2', 'Call of Duty Modern Warfare 2')"
      ],
      "execution_count": 0,
      "outputs": []
    },
    {
      "cell_type": "markdown",
      "metadata": {
        "id": "XTNdWYKv5nfe",
        "colab_type": "text"
      },
      "source": [
        "It also looks like the Call of Duty 'multiplayer' game values aren't considered separate titles by dataframe 2. Interesting."
      ]
    },
    {
      "cell_type": "code",
      "metadata": {
        "id": "X2V02m0q4Vdz",
        "colab_type": "code",
        "colab": {
          "base_uri": "https://localhost:8080/",
          "height": 136
        },
        "outputId": "655d932e-ebb8-4687-b920-87afd6bdd858"
      },
      "source": [
        "steam.isin(['Fallout: New Vegas']).any()"
      ],
      "execution_count": 71,
      "outputs": [
        {
          "output_type": "execute_result",
          "data": {
            "text/plain": [
              "game         True\n",
              "release     False\n",
              "genre       False\n",
              "pos_rate    False\n",
              "neg_rate    False\n",
              "price       False\n",
              "dtype: bool"
            ]
          },
          "metadata": {
            "tags": []
          },
          "execution_count": 71
        }
      ]
    },
    {
      "cell_type": "code",
      "metadata": {
        "id": "luAYkTAf4V2l",
        "colab_type": "code",
        "colab": {}
      },
      "source": [
        "steam = steam.replace('Fallout: New Vegas', 'Fallout New Vegas')"
      ],
      "execution_count": 0,
      "outputs": []
    },
    {
      "cell_type": "code",
      "metadata": {
        "id": "jde_n6c334Em",
        "colab_type": "code",
        "colab": {
          "base_uri": "https://localhost:8080/",
          "height": 221
        },
        "outputId": "fab987a6-7a20-46e0-9df8-27302b33e6b3"
      },
      "source": [
        "new = pd.merge(games, steam, on='game',how='inner')\n",
        "print(new.shape)\n",
        "new.head()"
      ],
      "execution_count": 73,
      "outputs": [
        {
          "output_type": "stream",
          "text": [
            "(104256, 9)\n"
          ],
          "name": "stdout"
        },
        {
          "output_type": "execute_result",
          "data": {
            "text/html": [
              "<div>\n",
              "<style scoped>\n",
              "    .dataframe tbody tr th:only-of-type {\n",
              "        vertical-align: middle;\n",
              "    }\n",
              "\n",
              "    .dataframe tbody tr th {\n",
              "        vertical-align: top;\n",
              "    }\n",
              "\n",
              "    .dataframe thead th {\n",
              "        text-align: right;\n",
              "    }\n",
              "</style>\n",
              "<table border=\"1\" class=\"dataframe\">\n",
              "  <thead>\n",
              "    <tr style=\"text-align: right;\">\n",
              "      <th></th>\n",
              "      <th>id</th>\n",
              "      <th>game</th>\n",
              "      <th>purchase</th>\n",
              "      <th>hours</th>\n",
              "      <th>release</th>\n",
              "      <th>genre</th>\n",
              "      <th>pos_rate</th>\n",
              "      <th>neg_rate</th>\n",
              "      <th>price</th>\n",
              "    </tr>\n",
              "  </thead>\n",
              "  <tbody>\n",
              "    <tr>\n",
              "      <th>0</th>\n",
              "      <td>151603712</td>\n",
              "      <td>The Elder Scrolls V Skyrim</td>\n",
              "      <td>purchase</td>\n",
              "      <td>1.0</td>\n",
              "      <td>2011-11-10</td>\n",
              "      <td>RPG</td>\n",
              "      <td>237303</td>\n",
              "      <td>14951</td>\n",
              "      <td>9.99</td>\n",
              "    </tr>\n",
              "    <tr>\n",
              "      <th>1</th>\n",
              "      <td>151603712</td>\n",
              "      <td>The Elder Scrolls V Skyrim</td>\n",
              "      <td>play</td>\n",
              "      <td>273.0</td>\n",
              "      <td>2011-11-10</td>\n",
              "      <td>RPG</td>\n",
              "      <td>237303</td>\n",
              "      <td>14951</td>\n",
              "      <td>9.99</td>\n",
              "    </tr>\n",
              "    <tr>\n",
              "      <th>2</th>\n",
              "      <td>59945701</td>\n",
              "      <td>The Elder Scrolls V Skyrim</td>\n",
              "      <td>purchase</td>\n",
              "      <td>1.0</td>\n",
              "      <td>2011-11-10</td>\n",
              "      <td>RPG</td>\n",
              "      <td>237303</td>\n",
              "      <td>14951</td>\n",
              "      <td>9.99</td>\n",
              "    </tr>\n",
              "    <tr>\n",
              "      <th>3</th>\n",
              "      <td>59945701</td>\n",
              "      <td>The Elder Scrolls V Skyrim</td>\n",
              "      <td>play</td>\n",
              "      <td>58.0</td>\n",
              "      <td>2011-11-10</td>\n",
              "      <td>RPG</td>\n",
              "      <td>237303</td>\n",
              "      <td>14951</td>\n",
              "      <td>9.99</td>\n",
              "    </tr>\n",
              "    <tr>\n",
              "      <th>4</th>\n",
              "      <td>53875128</td>\n",
              "      <td>The Elder Scrolls V Skyrim</td>\n",
              "      <td>purchase</td>\n",
              "      <td>1.0</td>\n",
              "      <td>2011-11-10</td>\n",
              "      <td>RPG</td>\n",
              "      <td>237303</td>\n",
              "      <td>14951</td>\n",
              "      <td>9.99</td>\n",
              "    </tr>\n",
              "  </tbody>\n",
              "</table>\n",
              "</div>"
            ],
            "text/plain": [
              "          id                        game  purchase  ...  pos_rate neg_rate price\n",
              "0  151603712  The Elder Scrolls V Skyrim  purchase  ...    237303    14951  9.99\n",
              "1  151603712  The Elder Scrolls V Skyrim      play  ...    237303    14951  9.99\n",
              "2   59945701  The Elder Scrolls V Skyrim  purchase  ...    237303    14951  9.99\n",
              "3   59945701  The Elder Scrolls V Skyrim      play  ...    237303    14951  9.99\n",
              "4   53875128  The Elder Scrolls V Skyrim  purchase  ...    237303    14951  9.99\n",
              "\n",
              "[5 rows x 9 columns]"
            ]
          },
          "metadata": {
            "tags": []
          },
          "execution_count": 73
        }
      ]
    },
    {
      "cell_type": "markdown",
      "metadata": {
        "id": "1ho83guQ598Y",
        "colab_type": "text"
      },
      "source": [
        "Also, so after painstakingly going through the top 30 returns, and fixing numerous entries so that I can find the highest rate of downloaded/played games (per instance), I went from 92883 rows, to 104256 rows. This is a marked improvement. Let's... do basically everything all over again."
      ]
    },
    {
      "cell_type": "code",
      "metadata": {
        "id": "t8N_PoKa59PI",
        "colab_type": "code",
        "colab": {
          "base_uri": "https://localhost:8080/",
          "height": 204
        },
        "outputId": "e5e1a11c-dacf-480b-9b4e-27cccb2e27f0"
      },
      "source": [
        "new['game'].value_counts().head(10)"
      ],
      "execution_count": 74,
      "outputs": [
        {
          "output_type": "execute_result",
          "data": {
            "text/plain": [
              "Dota 2                             9682\n",
              "Team Fortress 2                    4646\n",
              "Counter-Strike Global Offensive    2789\n",
              "Unturned                           2632\n",
              "Left 4 Dead 2                      1752\n",
              "Counter-Strike Source              1693\n",
              "Counter-Strike                     1424\n",
              "Garry's Mod                        1397\n",
              "The Elder Scrolls V Skyrim         1394\n",
              "Warframe                           1271\n",
              "Name: game, dtype: int64"
            ]
          },
          "metadata": {
            "tags": []
          },
          "execution_count": 74
        }
      ]
    },
    {
      "cell_type": "code",
      "metadata": {
        "id": "NeU5HdmB70F4",
        "colab_type": "code",
        "colab": {
          "base_uri": "https://localhost:8080/",
          "height": 419
        },
        "outputId": "7fd3c0c5-eb5a-47c2-8641-e18ee1f6875c"
      },
      "source": [
        "new1 = new.replace('purchase', np.nan)\n",
        "new1 = new1.dropna()\n",
        "new1"
      ],
      "execution_count": 75,
      "outputs": [
        {
          "output_type": "execute_result",
          "data": {
            "text/html": [
              "<div>\n",
              "<style scoped>\n",
              "    .dataframe tbody tr th:only-of-type {\n",
              "        vertical-align: middle;\n",
              "    }\n",
              "\n",
              "    .dataframe tbody tr th {\n",
              "        vertical-align: top;\n",
              "    }\n",
              "\n",
              "    .dataframe thead th {\n",
              "        text-align: right;\n",
              "    }\n",
              "</style>\n",
              "<table border=\"1\" class=\"dataframe\">\n",
              "  <thead>\n",
              "    <tr style=\"text-align: right;\">\n",
              "      <th></th>\n",
              "      <th>id</th>\n",
              "      <th>game</th>\n",
              "      <th>purchase</th>\n",
              "      <th>hours</th>\n",
              "      <th>release</th>\n",
              "      <th>genre</th>\n",
              "      <th>pos_rate</th>\n",
              "      <th>neg_rate</th>\n",
              "      <th>price</th>\n",
              "    </tr>\n",
              "  </thead>\n",
              "  <tbody>\n",
              "    <tr>\n",
              "      <th>1</th>\n",
              "      <td>151603712</td>\n",
              "      <td>The Elder Scrolls V Skyrim</td>\n",
              "      <td>play</td>\n",
              "      <td>273.0</td>\n",
              "      <td>2011-11-10</td>\n",
              "      <td>RPG</td>\n",
              "      <td>237303</td>\n",
              "      <td>14951</td>\n",
              "      <td>9.99</td>\n",
              "    </tr>\n",
              "    <tr>\n",
              "      <th>3</th>\n",
              "      <td>59945701</td>\n",
              "      <td>The Elder Scrolls V Skyrim</td>\n",
              "      <td>play</td>\n",
              "      <td>58.0</td>\n",
              "      <td>2011-11-10</td>\n",
              "      <td>RPG</td>\n",
              "      <td>237303</td>\n",
              "      <td>14951</td>\n",
              "      <td>9.99</td>\n",
              "    </tr>\n",
              "    <tr>\n",
              "      <th>6</th>\n",
              "      <td>92107940</td>\n",
              "      <td>The Elder Scrolls V Skyrim</td>\n",
              "      <td>play</td>\n",
              "      <td>110.0</td>\n",
              "      <td>2011-11-10</td>\n",
              "      <td>RPG</td>\n",
              "      <td>237303</td>\n",
              "      <td>14951</td>\n",
              "      <td>9.99</td>\n",
              "    </tr>\n",
              "    <tr>\n",
              "      <th>8</th>\n",
              "      <td>250006052</td>\n",
              "      <td>The Elder Scrolls V Skyrim</td>\n",
              "      <td>play</td>\n",
              "      <td>465.0</td>\n",
              "      <td>2011-11-10</td>\n",
              "      <td>RPG</td>\n",
              "      <td>237303</td>\n",
              "      <td>14951</td>\n",
              "      <td>9.99</td>\n",
              "    </tr>\n",
              "    <tr>\n",
              "      <th>10</th>\n",
              "      <td>11373749</td>\n",
              "      <td>The Elder Scrolls V Skyrim</td>\n",
              "      <td>play</td>\n",
              "      <td>220.0</td>\n",
              "      <td>2011-11-10</td>\n",
              "      <td>RPG</td>\n",
              "      <td>237303</td>\n",
              "      <td>14951</td>\n",
              "      <td>9.99</td>\n",
              "    </tr>\n",
              "    <tr>\n",
              "      <th>...</th>\n",
              "      <td>...</td>\n",
              "      <td>...</td>\n",
              "      <td>...</td>\n",
              "      <td>...</td>\n",
              "      <td>...</td>\n",
              "      <td>...</td>\n",
              "      <td>...</td>\n",
              "      <td>...</td>\n",
              "      <td>...</td>\n",
              "    </tr>\n",
              "    <tr>\n",
              "      <th>104246</th>\n",
              "      <td>112739159</td>\n",
              "      <td>Ride! Carnival Tycoon</td>\n",
              "      <td>play</td>\n",
              "      <td>0.3</td>\n",
              "      <td>2008-07-29</td>\n",
              "      <td>Simulation</td>\n",
              "      <td>15</td>\n",
              "      <td>26</td>\n",
              "      <td>4.99</td>\n",
              "    </tr>\n",
              "    <tr>\n",
              "      <th>104248</th>\n",
              "      <td>116564064</td>\n",
              "      <td>SAMURAI WARRIORS 4-II</td>\n",
              "      <td>play</td>\n",
              "      <td>2.2</td>\n",
              "      <td>2015-09-29</td>\n",
              "      <td>Action</td>\n",
              "      <td>757</td>\n",
              "      <td>215</td>\n",
              "      <td>39.99</td>\n",
              "    </tr>\n",
              "    <tr>\n",
              "      <th>104250</th>\n",
              "      <td>116564064</td>\n",
              "      <td>The Bug Butcher</td>\n",
              "      <td>play</td>\n",
              "      <td>0.3</td>\n",
              "      <td>2016-01-19</td>\n",
              "      <td>Action;Indie</td>\n",
              "      <td>939</td>\n",
              "      <td>92</td>\n",
              "      <td>5.59</td>\n",
              "    </tr>\n",
              "    <tr>\n",
              "      <th>104253</th>\n",
              "      <td>135400225</td>\n",
              "      <td>Life is Hard</td>\n",
              "      <td>play</td>\n",
              "      <td>3.1</td>\n",
              "      <td>2015-11-03</td>\n",
              "      <td>Adventure;Indie;Simulation;Strategy;Early Access</td>\n",
              "      <td>339</td>\n",
              "      <td>132</td>\n",
              "      <td>5.99</td>\n",
              "    </tr>\n",
              "    <tr>\n",
              "      <th>104255</th>\n",
              "      <td>135400225</td>\n",
              "      <td>Executive Assault</td>\n",
              "      <td>play</td>\n",
              "      <td>2.7</td>\n",
              "      <td>2015-07-17</td>\n",
              "      <td>Action;Strategy</td>\n",
              "      <td>1180</td>\n",
              "      <td>185</td>\n",
              "      <td>10.29</td>\n",
              "    </tr>\n",
              "  </tbody>\n",
              "</table>\n",
              "<p>40809 rows × 9 columns</p>\n",
              "</div>"
            ],
            "text/plain": [
              "               id                        game  ... neg_rate  price\n",
              "1       151603712  The Elder Scrolls V Skyrim  ...    14951   9.99\n",
              "3        59945701  The Elder Scrolls V Skyrim  ...    14951   9.99\n",
              "6        92107940  The Elder Scrolls V Skyrim  ...    14951   9.99\n",
              "8       250006052  The Elder Scrolls V Skyrim  ...    14951   9.99\n",
              "10       11373749  The Elder Scrolls V Skyrim  ...    14951   9.99\n",
              "...           ...                         ...  ...      ...    ...\n",
              "104246  112739159       Ride! Carnival Tycoon  ...       26   4.99\n",
              "104248  116564064       SAMURAI WARRIORS 4-II  ...      215  39.99\n",
              "104250  116564064             The Bug Butcher  ...       92   5.59\n",
              "104253  135400225                Life is Hard  ...      132   5.99\n",
              "104255  135400225           Executive Assault  ...      185  10.29\n",
              "\n",
              "[40809 rows x 9 columns]"
            ]
          },
          "metadata": {
            "tags": []
          },
          "execution_count": 75
        }
      ]
    },
    {
      "cell_type": "code",
      "metadata": {
        "id": "1-OH3-g670Iy",
        "colab_type": "code",
        "colab": {
          "base_uri": "https://localhost:8080/",
          "height": 204
        },
        "outputId": "a2c3e5db-7ba4-4661-8fee-451c12aca198"
      },
      "source": [
        "new1['game'].value_counts().head(10)"
      ],
      "execution_count": 76,
      "outputs": [
        {
          "output_type": "execute_result",
          "data": {
            "text/plain": [
              "Dota 2                             4841\n",
              "Team Fortress 2                    2323\n",
              "Counter-Strike Global Offensive    1377\n",
              "Unturned                           1069\n",
              "Left 4 Dead 2                       801\n",
              "Counter-Strike Source               715\n",
              "The Elder Scrolls V Skyrim          677\n",
              "Garry's Mod                         666\n",
              "Counter-Strike                      568\n",
              "Sid Meier's Civilization V          554\n",
              "Name: game, dtype: int64"
            ]
          },
          "metadata": {
            "tags": []
          },
          "execution_count": 76
        }
      ]
    },
    {
      "cell_type": "code",
      "metadata": {
        "id": "NtzSyO7B70MR",
        "colab_type": "code",
        "colab": {
          "base_uri": "https://localhost:8080/",
          "height": 419
        },
        "outputId": "05d1a392-c6af-4751-f21b-b91ac91d1e85"
      },
      "source": [
        "new2 = new.replace('play', np.nan)\n",
        "new2 = new2.dropna()\n",
        "new2"
      ],
      "execution_count": 77,
      "outputs": [
        {
          "output_type": "execute_result",
          "data": {
            "text/html": [
              "<div>\n",
              "<style scoped>\n",
              "    .dataframe tbody tr th:only-of-type {\n",
              "        vertical-align: middle;\n",
              "    }\n",
              "\n",
              "    .dataframe tbody tr th {\n",
              "        vertical-align: top;\n",
              "    }\n",
              "\n",
              "    .dataframe thead th {\n",
              "        text-align: right;\n",
              "    }\n",
              "</style>\n",
              "<table border=\"1\" class=\"dataframe\">\n",
              "  <thead>\n",
              "    <tr style=\"text-align: right;\">\n",
              "      <th></th>\n",
              "      <th>id</th>\n",
              "      <th>game</th>\n",
              "      <th>purchase</th>\n",
              "      <th>hours</th>\n",
              "      <th>release</th>\n",
              "      <th>genre</th>\n",
              "      <th>pos_rate</th>\n",
              "      <th>neg_rate</th>\n",
              "      <th>price</th>\n",
              "    </tr>\n",
              "  </thead>\n",
              "  <tbody>\n",
              "    <tr>\n",
              "      <th>0</th>\n",
              "      <td>151603712</td>\n",
              "      <td>The Elder Scrolls V Skyrim</td>\n",
              "      <td>purchase</td>\n",
              "      <td>1.0</td>\n",
              "      <td>2011-11-10</td>\n",
              "      <td>RPG</td>\n",
              "      <td>237303</td>\n",
              "      <td>14951</td>\n",
              "      <td>9.99</td>\n",
              "    </tr>\n",
              "    <tr>\n",
              "      <th>2</th>\n",
              "      <td>59945701</td>\n",
              "      <td>The Elder Scrolls V Skyrim</td>\n",
              "      <td>purchase</td>\n",
              "      <td>1.0</td>\n",
              "      <td>2011-11-10</td>\n",
              "      <td>RPG</td>\n",
              "      <td>237303</td>\n",
              "      <td>14951</td>\n",
              "      <td>9.99</td>\n",
              "    </tr>\n",
              "    <tr>\n",
              "      <th>4</th>\n",
              "      <td>53875128</td>\n",
              "      <td>The Elder Scrolls V Skyrim</td>\n",
              "      <td>purchase</td>\n",
              "      <td>1.0</td>\n",
              "      <td>2011-11-10</td>\n",
              "      <td>RPG</td>\n",
              "      <td>237303</td>\n",
              "      <td>14951</td>\n",
              "      <td>9.99</td>\n",
              "    </tr>\n",
              "    <tr>\n",
              "      <th>5</th>\n",
              "      <td>92107940</td>\n",
              "      <td>The Elder Scrolls V Skyrim</td>\n",
              "      <td>purchase</td>\n",
              "      <td>1.0</td>\n",
              "      <td>2011-11-10</td>\n",
              "      <td>RPG</td>\n",
              "      <td>237303</td>\n",
              "      <td>14951</td>\n",
              "      <td>9.99</td>\n",
              "    </tr>\n",
              "    <tr>\n",
              "      <th>7</th>\n",
              "      <td>250006052</td>\n",
              "      <td>The Elder Scrolls V Skyrim</td>\n",
              "      <td>purchase</td>\n",
              "      <td>1.0</td>\n",
              "      <td>2011-11-10</td>\n",
              "      <td>RPG</td>\n",
              "      <td>237303</td>\n",
              "      <td>14951</td>\n",
              "      <td>9.99</td>\n",
              "    </tr>\n",
              "    <tr>\n",
              "      <th>...</th>\n",
              "      <td>...</td>\n",
              "      <td>...</td>\n",
              "      <td>...</td>\n",
              "      <td>...</td>\n",
              "      <td>...</td>\n",
              "      <td>...</td>\n",
              "      <td>...</td>\n",
              "      <td>...</td>\n",
              "      <td>...</td>\n",
              "    </tr>\n",
              "    <tr>\n",
              "      <th>104247</th>\n",
              "      <td>116564064</td>\n",
              "      <td>SAMURAI WARRIORS 4-II</td>\n",
              "      <td>purchase</td>\n",
              "      <td>1.0</td>\n",
              "      <td>2015-09-29</td>\n",
              "      <td>Action</td>\n",
              "      <td>757</td>\n",
              "      <td>215</td>\n",
              "      <td>39.99</td>\n",
              "    </tr>\n",
              "    <tr>\n",
              "      <th>104249</th>\n",
              "      <td>116564064</td>\n",
              "      <td>The Bug Butcher</td>\n",
              "      <td>purchase</td>\n",
              "      <td>1.0</td>\n",
              "      <td>2016-01-19</td>\n",
              "      <td>Action;Indie</td>\n",
              "      <td>939</td>\n",
              "      <td>92</td>\n",
              "      <td>5.59</td>\n",
              "    </tr>\n",
              "    <tr>\n",
              "      <th>104251</th>\n",
              "      <td>116564064</td>\n",
              "      <td>Warriors &amp; Castles</td>\n",
              "      <td>purchase</td>\n",
              "      <td>1.0</td>\n",
              "      <td>2015-06-30</td>\n",
              "      <td>Action;Indie;Early Access</td>\n",
              "      <td>51</td>\n",
              "      <td>17</td>\n",
              "      <td>1.99</td>\n",
              "    </tr>\n",
              "    <tr>\n",
              "      <th>104252</th>\n",
              "      <td>135400225</td>\n",
              "      <td>Life is Hard</td>\n",
              "      <td>purchase</td>\n",
              "      <td>1.0</td>\n",
              "      <td>2015-11-03</td>\n",
              "      <td>Adventure;Indie;Simulation;Strategy;Early Access</td>\n",
              "      <td>339</td>\n",
              "      <td>132</td>\n",
              "      <td>5.99</td>\n",
              "    </tr>\n",
              "    <tr>\n",
              "      <th>104254</th>\n",
              "      <td>135400225</td>\n",
              "      <td>Executive Assault</td>\n",
              "      <td>purchase</td>\n",
              "      <td>1.0</td>\n",
              "      <td>2015-07-17</td>\n",
              "      <td>Action;Strategy</td>\n",
              "      <td>1180</td>\n",
              "      <td>185</td>\n",
              "      <td>10.29</td>\n",
              "    </tr>\n",
              "  </tbody>\n",
              "</table>\n",
              "<p>63447 rows × 9 columns</p>\n",
              "</div>"
            ],
            "text/plain": [
              "               id                        game  ... neg_rate  price\n",
              "0       151603712  The Elder Scrolls V Skyrim  ...    14951   9.99\n",
              "2        59945701  The Elder Scrolls V Skyrim  ...    14951   9.99\n",
              "4        53875128  The Elder Scrolls V Skyrim  ...    14951   9.99\n",
              "5        92107940  The Elder Scrolls V Skyrim  ...    14951   9.99\n",
              "7       250006052  The Elder Scrolls V Skyrim  ...    14951   9.99\n",
              "...           ...                         ...  ...      ...    ...\n",
              "104247  116564064       SAMURAI WARRIORS 4-II  ...      215  39.99\n",
              "104249  116564064             The Bug Butcher  ...       92   5.59\n",
              "104251  116564064          Warriors & Castles  ...       17   1.99\n",
              "104252  135400225                Life is Hard  ...      132   5.99\n",
              "104254  135400225           Executive Assault  ...      185  10.29\n",
              "\n",
              "[63447 rows x 9 columns]"
            ]
          },
          "metadata": {
            "tags": []
          },
          "execution_count": 77
        }
      ]
    },
    {
      "cell_type": "code",
      "metadata": {
        "id": "ipCt8ffd70Pb",
        "colab_type": "code",
        "colab": {
          "base_uri": "https://localhost:8080/",
          "height": 204
        },
        "outputId": "fb2a5562-dd40-45a2-e948-d9c1dd38d4b9"
      },
      "source": [
        "new2['game'].value_counts().head(10)"
      ],
      "execution_count": 78,
      "outputs": [
        {
          "output_type": "execute_result",
          "data": {
            "text/plain": [
              "Dota 2                             4841\n",
              "Team Fortress 2                    2323\n",
              "Unturned                           1563\n",
              "Counter-Strike Global Offensive    1412\n",
              "Half-Life 2 Lost Coast              981\n",
              "Counter-Strike Source               978\n",
              "Left 4 Dead 2                       951\n",
              "Counter-Strike                      856\n",
              "Warframe                            847\n",
              "Half-Life 2 Deathmatch              823\n",
              "Name: game, dtype: int64"
            ]
          },
          "metadata": {
            "tags": []
          },
          "execution_count": 78
        }
      ]
    },
    {
      "cell_type": "markdown",
      "metadata": {
        "id": "3kmZIiRs9WFh",
        "colab_type": "text"
      },
      "source": [
        "There is a difference in the top10 most played titles, vs the top10 most purchased titles. But for now I want to focus on the played. Basically, I am going to go through the entire process again to build the top10 dataframe for visualizations. "
      ]
    },
    {
      "cell_type": "code",
      "metadata": {
        "id": "nMy4dR9z9eti",
        "colab_type": "code",
        "colab": {
          "base_uri": "https://localhost:8080/",
          "height": 51
        },
        "outputId": "324ae9c9-fb99-4abb-8a74-f0aeefd8e570"
      },
      "source": [
        "dota2 = new1.loc[new1['game'] == 'Dota 2']\n",
        "print(dota2['hours'].mean())\n",
        "dota2['hours'].median()"
      ],
      "execution_count": 79,
      "outputs": [
        {
          "output_type": "stream",
          "text": [
            "202.78549886387088\n"
          ],
          "name": "stdout"
        },
        {
          "output_type": "execute_result",
          "data": {
            "text/plain": [
              "5.5"
            ]
          },
          "metadata": {
            "tags": []
          },
          "execution_count": 79
        }
      ]
    },
    {
      "cell_type": "code",
      "metadata": {
        "id": "Pzppx2VR-E37",
        "colab_type": "code",
        "colab": {
          "base_uri": "https://localhost:8080/",
          "height": 51
        },
        "outputId": "1a177f5b-4579-4cf8-a26b-26c4e3cf52f3"
      },
      "source": [
        "team2 = new1.loc[new1['game'] == 'Team Fortress 2']\n",
        "print(team2['hours'].mean())\n",
        "team2['hours'].median()"
      ],
      "execution_count": 80,
      "outputs": [
        {
          "output_type": "stream",
          "text": [
            "74.76250538097285\n"
          ],
          "name": "stdout"
        },
        {
          "output_type": "execute_result",
          "data": {
            "text/plain": [
              "4.4"
            ]
          },
          "metadata": {
            "tags": []
          },
          "execution_count": 80
        }
      ]
    },
    {
      "cell_type": "code",
      "metadata": {
        "id": "D0KqeOD_-E62",
        "colab_type": "code",
        "colab": {
          "base_uri": "https://localhost:8080/",
          "height": 51
        },
        "outputId": "3bfc8640-b836-428e-e2d4-6495ce00ace1"
      },
      "source": [
        "csgo = new1.loc[new1['game'] == 'Counter-Strike Global Offensive']\n",
        "print(csgo['hours'].mean())\n",
        "csgo['hours'].median()"
      ],
      "execution_count": 81,
      "outputs": [
        {
          "output_type": "stream",
          "text": [
            "234.40203340595508\n"
          ],
          "name": "stdout"
        },
        {
          "output_type": "execute_result",
          "data": {
            "text/plain": [
              "61.0"
            ]
          },
          "metadata": {
            "tags": []
          },
          "execution_count": 81
        }
      ]
    },
    {
      "cell_type": "code",
      "metadata": {
        "id": "pTbXnwSY-E91",
        "colab_type": "code",
        "colab": {
          "base_uri": "https://localhost:8080/",
          "height": 51
        },
        "outputId": "a533b062-84bd-4cd6-e0c5-a2b61603bee7"
      },
      "source": [
        "unturned = new1.loc[new1['game'] == 'Unturned']\n",
        "print(unturned['hours'].mean())\n",
        "unturned['hours'].median()"
      ],
      "execution_count": 82,
      "outputs": [
        {
          "output_type": "stream",
          "text": [
            "15.057436856875599\n"
          ],
          "name": "stdout"
        },
        {
          "output_type": "execute_result",
          "data": {
            "text/plain": [
              "3.5"
            ]
          },
          "metadata": {
            "tags": []
          },
          "execution_count": 82
        }
      ]
    },
    {
      "cell_type": "code",
      "metadata": {
        "id": "nR_GYEXa-FA5",
        "colab_type": "code",
        "colab": {
          "base_uri": "https://localhost:8080/",
          "height": 51
        },
        "outputId": "42a93ec6-9425-4e62-95e9-d01077d5e8c6"
      },
      "source": [
        "left = new1.loc[new1['game'] == 'Left 4 Dead 2']\n",
        "print(left['hours'].mean())\n",
        "left['hours'].median()"
      ],
      "execution_count": 83,
      "outputs": [
        {
          "output_type": "stream",
          "text": [
            "41.943445692883884\n"
          ],
          "name": "stdout"
        },
        {
          "output_type": "execute_result",
          "data": {
            "text/plain": [
              "10.5"
            ]
          },
          "metadata": {
            "tags": []
          },
          "execution_count": 83
        }
      ]
    },
    {
      "cell_type": "code",
      "metadata": {
        "id": "Ywd462YW-FMG",
        "colab_type": "code",
        "colab": {
          "base_uri": "https://localhost:8080/",
          "height": 51
        },
        "outputId": "bdb8d26b-da32-4b60-e5bc-a3cea08a5377"
      },
      "source": [
        "css = new1.loc[new1['game'] == 'Counter-Strike Source']\n",
        "print(css['hours'].mean())\n",
        "css['hours'].median()"
      ],
      "execution_count": 84,
      "outputs": [
        {
          "output_type": "stream",
          "text": [
            "134.37132867132865\n"
          ],
          "name": "stdout"
        },
        {
          "output_type": "execute_result",
          "data": {
            "text/plain": [
              "13.8"
            ]
          },
          "metadata": {
            "tags": []
          },
          "execution_count": 84
        }
      ]
    },
    {
      "cell_type": "code",
      "metadata": {
        "id": "tBexDfJy-FRu",
        "colab_type": "code",
        "colab": {
          "base_uri": "https://localhost:8080/",
          "height": 51
        },
        "outputId": "76680e4e-020f-4fef-ebdb-7fac28d9bd8e"
      },
      "source": [
        "skyrim = new1.loc[new1['game'] == 'The Elder Scrolls V Skyrim']\n",
        "print(skyrim['hours'].mean())\n",
        "skyrim['hours'].median()"
      ],
      "execution_count": 85,
      "outputs": [
        {
          "output_type": "stream",
          "text": [
            "104.71093057607092\n"
          ],
          "name": "stdout"
        },
        {
          "output_type": "execute_result",
          "data": {
            "text/plain": [
              "47.0"
            ]
          },
          "metadata": {
            "tags": []
          },
          "execution_count": 85
        }
      ]
    },
    {
      "cell_type": "code",
      "metadata": {
        "id": "CRTYTyzR-FUR",
        "colab_type": "code",
        "colab": {
          "base_uri": "https://localhost:8080/",
          "height": 51
        },
        "outputId": "e661c957-ada8-460e-926e-2d40bd9ed6f7"
      },
      "source": [
        "gmod = new1.loc[new1['game'] == \"Garry's Mod\"]\n",
        "print(gmod['hours'].mean())\n",
        "gmod['hours'].median()"
      ],
      "execution_count": 86,
      "outputs": [
        {
          "output_type": "stream",
          "text": [
            "74.66261261261265\n"
          ],
          "name": "stdout"
        },
        {
          "output_type": "execute_result",
          "data": {
            "text/plain": [
              "17.25"
            ]
          },
          "metadata": {
            "tags": []
          },
          "execution_count": 86
        }
      ]
    },
    {
      "cell_type": "code",
      "metadata": {
        "id": "8S5_Evhk-Fbt",
        "colab_type": "code",
        "colab": {
          "base_uri": "https://localhost:8080/",
          "height": 51
        },
        "outputId": "faa5ac83-ef14-4147-8817-2a6986753b54"
      },
      "source": [
        "cstrike = new1.loc[new1['game'] == 'Counter-Strike']\n",
        "print(cstrike['hours'].mean())\n",
        "cstrike['hours'].median()"
      ],
      "execution_count": 87,
      "outputs": [
        {
          "output_type": "stream",
          "text": [
            "236.37517605633803\n"
          ],
          "name": "stdout"
        },
        {
          "output_type": "execute_result",
          "data": {
            "text/plain": [
              "8.8"
            ]
          },
          "metadata": {
            "tags": []
          },
          "execution_count": 87
        }
      ]
    },
    {
      "cell_type": "code",
      "metadata": {
        "id": "idyc4VUe-Fak",
        "colab_type": "code",
        "colab": {
          "base_uri": "https://localhost:8080/",
          "height": 51
        },
        "outputId": "5cd38d31-03fe-46f7-a922-57cd3035af06"
      },
      "source": [
        "civv = new1.loc[new1['game'] == \"Sid Meier's Civilization V\"]\n",
        "print(civv['hours'].mean())\n",
        "civv['hours'].median()"
      ],
      "execution_count": 88,
      "outputs": [
        {
          "output_type": "stream",
          "text": [
            "180.18285198555955\n"
          ],
          "name": "stdout"
        },
        {
          "output_type": "execute_result",
          "data": {
            "text/plain": [
              "37.0"
            ]
          },
          "metadata": {
            "tags": []
          },
          "execution_count": 88
        }
      ]
    },
    {
      "cell_type": "code",
      "metadata": {
        "id": "ZObcbyjV-FPi",
        "colab_type": "code",
        "colab": {}
      },
      "source": [
        "data3 = {'game': ['Dota 2', 'Team Fortress 2', 'Counter-Strike Global Offensive',\n",
        "                  'Unturned', 'Left 4 Dead 2', 'Counter-Strike Source','The Elder Scrolls V Skyrim', \n",
        "                 \"Garry's Mod\",'Counter-Strike',\"Sid Meier's Civilization V\"],\n",
        "        'players': [4841, 2323, 1377, 1069, 801, 715, 677, 666, 568, 554],\n",
        "        'mean': [202.79, 74.76, 234.40, 15.06, 41.94,134.37,104.71,74.66,236.38,180.18],\n",
        "        'median': [5.5, 4.4, 61.0, 3.5, 10.5, 13.8, 47.0, 17.25, 8.8,37]}\n",
        "final10 = pd.DataFrame(data3, columns=['game','players','mean','median'])"
      ],
      "execution_count": 0,
      "outputs": []
    },
    {
      "cell_type": "code",
      "metadata": {
        "id": "v95vmieh-FJy",
        "colab_type": "code",
        "colab": {
          "base_uri": "https://localhost:8080/",
          "height": 359
        },
        "outputId": "d3ad4aff-f523-4851-ac90-bded87b88516"
      },
      "source": [
        "final10 = pd.merge(final10, new1.drop(['id','purchase','hours'], axis=1), \n",
        "                  on='game',how='left')\n",
        "final10 = final10.drop_duplicates()\n",
        "final10"
      ],
      "execution_count": 90,
      "outputs": [
        {
          "output_type": "execute_result",
          "data": {
            "text/html": [
              "<div>\n",
              "<style scoped>\n",
              "    .dataframe tbody tr th:only-of-type {\n",
              "        vertical-align: middle;\n",
              "    }\n",
              "\n",
              "    .dataframe tbody tr th {\n",
              "        vertical-align: top;\n",
              "    }\n",
              "\n",
              "    .dataframe thead th {\n",
              "        text-align: right;\n",
              "    }\n",
              "</style>\n",
              "<table border=\"1\" class=\"dataframe\">\n",
              "  <thead>\n",
              "    <tr style=\"text-align: right;\">\n",
              "      <th></th>\n",
              "      <th>game</th>\n",
              "      <th>players</th>\n",
              "      <th>mean</th>\n",
              "      <th>median</th>\n",
              "      <th>release</th>\n",
              "      <th>genre</th>\n",
              "      <th>pos_rate</th>\n",
              "      <th>neg_rate</th>\n",
              "      <th>price</th>\n",
              "    </tr>\n",
              "  </thead>\n",
              "  <tbody>\n",
              "    <tr>\n",
              "      <th>0</th>\n",
              "      <td>Dota 2</td>\n",
              "      <td>4841</td>\n",
              "      <td>202.79</td>\n",
              "      <td>5.50</td>\n",
              "      <td>2013-07-09</td>\n",
              "      <td>Action;Free to Play;Strategy</td>\n",
              "      <td>863507</td>\n",
              "      <td>142079</td>\n",
              "      <td>0.00</td>\n",
              "    </tr>\n",
              "    <tr>\n",
              "      <th>4841</th>\n",
              "      <td>Team Fortress 2</td>\n",
              "      <td>2323</td>\n",
              "      <td>74.76</td>\n",
              "      <td>4.40</td>\n",
              "      <td>2007-10-10</td>\n",
              "      <td>Action;Free to Play</td>\n",
              "      <td>515879</td>\n",
              "      <td>34036</td>\n",
              "      <td>0.00</td>\n",
              "    </tr>\n",
              "    <tr>\n",
              "      <th>7164</th>\n",
              "      <td>Counter-Strike Global Offensive</td>\n",
              "      <td>1377</td>\n",
              "      <td>234.40</td>\n",
              "      <td>61.00</td>\n",
              "      <td>2012-08-21</td>\n",
              "      <td>Action;Free to Play</td>\n",
              "      <td>2644404</td>\n",
              "      <td>402313</td>\n",
              "      <td>0.00</td>\n",
              "    </tr>\n",
              "    <tr>\n",
              "      <th>8541</th>\n",
              "      <td>Unturned</td>\n",
              "      <td>1069</td>\n",
              "      <td>15.06</td>\n",
              "      <td>3.50</td>\n",
              "      <td>2017-07-07</td>\n",
              "      <td>Action;Adventure;Casual;Free to Play;Indie</td>\n",
              "      <td>292574</td>\n",
              "      <td>31482</td>\n",
              "      <td>0.00</td>\n",
              "    </tr>\n",
              "    <tr>\n",
              "      <th>9610</th>\n",
              "      <td>Left 4 Dead 2</td>\n",
              "      <td>801</td>\n",
              "      <td>41.94</td>\n",
              "      <td>10.50</td>\n",
              "      <td>2009-11-19</td>\n",
              "      <td>Action</td>\n",
              "      <td>251789</td>\n",
              "      <td>8418</td>\n",
              "      <td>7.19</td>\n",
              "    </tr>\n",
              "    <tr>\n",
              "      <th>10411</th>\n",
              "      <td>Counter-Strike Source</td>\n",
              "      <td>715</td>\n",
              "      <td>134.37</td>\n",
              "      <td>13.80</td>\n",
              "      <td>2004-11-01</td>\n",
              "      <td>Action</td>\n",
              "      <td>76640</td>\n",
              "      <td>3497</td>\n",
              "      <td>7.19</td>\n",
              "    </tr>\n",
              "    <tr>\n",
              "      <th>11126</th>\n",
              "      <td>The Elder Scrolls V Skyrim</td>\n",
              "      <td>677</td>\n",
              "      <td>104.71</td>\n",
              "      <td>47.00</td>\n",
              "      <td>2011-11-10</td>\n",
              "      <td>RPG</td>\n",
              "      <td>237303</td>\n",
              "      <td>14951</td>\n",
              "      <td>9.99</td>\n",
              "    </tr>\n",
              "    <tr>\n",
              "      <th>11803</th>\n",
              "      <td>Garry's Mod</td>\n",
              "      <td>666</td>\n",
              "      <td>74.66</td>\n",
              "      <td>17.25</td>\n",
              "      <td>2006-11-29</td>\n",
              "      <td>Indie;Simulation</td>\n",
              "      <td>363721</td>\n",
              "      <td>16433</td>\n",
              "      <td>6.99</td>\n",
              "    </tr>\n",
              "    <tr>\n",
              "      <th>12469</th>\n",
              "      <td>Counter-Strike</td>\n",
              "      <td>568</td>\n",
              "      <td>236.38</td>\n",
              "      <td>8.80</td>\n",
              "      <td>2000-11-01</td>\n",
              "      <td>Action</td>\n",
              "      <td>124534</td>\n",
              "      <td>3339</td>\n",
              "      <td>7.19</td>\n",
              "    </tr>\n",
              "    <tr>\n",
              "      <th>13037</th>\n",
              "      <td>Sid Meier's Civilization V</td>\n",
              "      <td>554</td>\n",
              "      <td>180.18</td>\n",
              "      <td>37.00</td>\n",
              "      <td>2010-09-23</td>\n",
              "      <td>Strategy</td>\n",
              "      <td>129030</td>\n",
              "      <td>5565</td>\n",
              "      <td>19.99</td>\n",
              "    </tr>\n",
              "  </tbody>\n",
              "</table>\n",
              "</div>"
            ],
            "text/plain": [
              "                                  game  players  ...  neg_rate  price\n",
              "0                               Dota 2     4841  ...    142079   0.00\n",
              "4841                   Team Fortress 2     2323  ...     34036   0.00\n",
              "7164   Counter-Strike Global Offensive     1377  ...    402313   0.00\n",
              "8541                          Unturned     1069  ...     31482   0.00\n",
              "9610                     Left 4 Dead 2      801  ...      8418   7.19\n",
              "10411            Counter-Strike Source      715  ...      3497   7.19\n",
              "11126       The Elder Scrolls V Skyrim      677  ...     14951   9.99\n",
              "11803                      Garry's Mod      666  ...     16433   6.99\n",
              "12469                   Counter-Strike      568  ...      3339   7.19\n",
              "13037       Sid Meier's Civilization V      554  ...      5565  19.99\n",
              "\n",
              "[10 rows x 9 columns]"
            ]
          },
          "metadata": {
            "tags": []
          },
          "execution_count": 90
        }
      ]
    },
    {
      "cell_type": "code",
      "metadata": {
        "id": "7pnO2-_J-FGt",
        "colab_type": "code",
        "colab": {}
      },
      "source": [
        "#final10['dates_parsed'] = pd.to_datetime(final10['release'], infer_datetime_format=True)\n",
        "#final10['year'] = pd.DatetimeIndex(final10['dates_parsed']).year\n",
        "#final10= final10.drop(['release','dates_parsed'], axis=1)"
      ],
      "execution_count": 0,
      "outputs": []
    },
    {
      "cell_type": "code",
      "metadata": {
        "id": "hbkyoYkgDzfa",
        "colab_type": "code",
        "colab": {
          "base_uri": "https://localhost:8080/",
          "height": 729
        },
        "outputId": "4178d057-8cfa-4b22-9f45-e8fcfc037fe2"
      },
      "source": [
        "labels = list(final10['game'])\n",
        "means = list(final10['mean'])\n",
        "median = list(final10['median'])\n",
        "x = np.arange(len(labels))\n",
        "width = 0.5 \n",
        "fig, ax = plt.subplots(figsize=(15, 10))\n",
        "rects1 = ax.bar(x - width/2, means, width, label='Mean')\n",
        "rects2 = ax.bar(x + width/2, median, width, label='Median')\n",
        "ax.set_ylabel('Hours Played', fontsize=15)\n",
        "ax.set_title('The Mean and Median of Hours Played', fontsize=25)\n",
        "ax.set_xticks(x)\n",
        "ax.set_xticklabels(labels, rotation='vertical')\n",
        "ax.legend()\n",
        "\n",
        "def autolabel(rects):\n",
        "    \"\"\"Attach a text label above each bar in *rects*, displaying its height.\"\"\"\n",
        "    for rect in rects:\n",
        "        height = rect.get_height()\n",
        "        ax.annotate('{}'.format(height),\n",
        "                    xy=(rect.get_x() + rect.get_width() / 2, height),\n",
        "                    xytext=(0, 3),  # 3 points vertical offset\n",
        "                    textcoords=\"offset points\",\n",
        "                    ha='center', va='bottom')\n",
        "\n",
        "\n",
        "autolabel(rects1)\n",
        "autolabel(rects2)\n",
        "fig.tight_layout()\n",
        "plt.show()"
      ],
      "execution_count": 91,
      "outputs": [
        {
          "output_type": "display_data",
          "data": {
            "image/png": "[encoded data removed]",
            "text/plain": [
              "<Figure size 1080x720 with 1 Axes>"
            ]
          },
          "metadata": {
            "tags": [],
            "needs_background": "light"
          }
        }
      ]
    },
    {
      "cell_type": "code",
      "metadata": {
        "id": "1gNupUlC-FE0",
        "colab_type": "code",
        "colab": {
          "base_uri": "https://localhost:8080/",
          "height": 729
        },
        "outputId": "4eb27212-e867-48b4-812d-32dc1eb18900"
      },
      "source": [
        "pos = list(final10['pos_rate'])\n",
        "neg = list(final10['neg_rate'])\n",
        "fig, ax = plt.subplots(figsize=(15, 10))\n",
        "rects1 = ax.bar(x - width/2, pos, width, label='Positive Ratings')\n",
        "rects2 = ax.bar(x + width/2, neg, width, label='Negative Ratings')\n",
        "\n",
        "ax.set_ylabel('Number of Reviews', fontsize=15)\n",
        "ax.set_title('Player Ratings on the Games', fontsize=25)\n",
        "ax.set_xticks(x)\n",
        "ax.set_xticklabels(labels, rotation='vertical')\n",
        "ax.legend()\n",
        "\n",
        "def autolabel(rects):\n",
        "    \"\"\"Attach a text label above each bar in *rects*, displaying its height.\"\"\"\n",
        "    for rect in rects:\n",
        "        height = rect.get_height()\n",
        "        ax.annotate('{}'.format(height),\n",
        "                    xy=(rect.get_x() + rect.get_width() / 2, height),\n",
        "                    xytext=(0, 3),  # 3 points vertical offset\n",
        "                    textcoords=\"offset points\",\n",
        "                    ha='center', va='bottom')\n",
        "\n",
        "autolabel(rects1)\n",
        "autolabel(rects2)\n",
        "fig.tight_layout()\n",
        "plt.show()"
      ],
      "execution_count": 92,
      "outputs": [
        {
          "output_type": "display_data",
          "data": {
            "image/png": "[encoded data removed]",
            "text/plain": [
              "<Figure size 1080x720 with 1 Axes>"
            ]
          },
          "metadata": {
            "tags": [],
            "needs_background": "light"
          }
        }
      ]
    }
  ]
}